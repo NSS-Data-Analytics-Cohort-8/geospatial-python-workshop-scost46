{
 "cells": [
  {
   "cell_type": "code",
   "execution_count": 1,
   "id": "3a9f7d78",
   "metadata": {},
   "outputs": [],
   "source": [
    "from shapely.geometry import Point\n",
    "import pandas as pd\n",
    "import geopandas as gpd\n",
    "import matplotlib.pyplot as plt\n",
    "import folium\n",
    "from folium.plugins import MarkerCluster\n",
    "from folium.plugins import FastMarkerCluster"
   ]
  },
  {
   "cell_type": "code",
   "execution_count": 2,
   "id": "997ca627",
   "metadata": {
    "scrolled": true
   },
   "outputs": [
    {
     "name": "stdout",
     "output_type": "stream",
     "text": [
      "EPSG:4326\n"
     ]
    },
    {
     "data": {
      "text/html": [
       "<div>\n",
       "<style scoped>\n",
       "    .dataframe tbody tr th:only-of-type {\n",
       "        vertical-align: middle;\n",
       "    }\n",
       "\n",
       "    .dataframe tbody tr th {\n",
       "        vertical-align: top;\n",
       "    }\n",
       "\n",
       "    .dataframe thead th {\n",
       "        text-align: right;\n",
       "    }\n",
       "</style>\n",
       "<table border=\"1\" class=\"dataframe\">\n",
       "  <thead>\n",
       "    <tr style=\"text-align: right;\">\n",
       "      <th></th>\n",
       "      <th>zip</th>\n",
       "      <th>objectid</th>\n",
       "      <th>po_name</th>\n",
       "      <th>shape_stlength</th>\n",
       "      <th>shape_starea</th>\n",
       "      <th>geometry</th>\n",
       "    </tr>\n",
       "  </thead>\n",
       "  <tbody>\n",
       "    <tr>\n",
       "      <th>0</th>\n",
       "      <td>37115</td>\n",
       "      <td>1</td>\n",
       "      <td>MADISON</td>\n",
       "      <td>178783.02488886821</td>\n",
       "      <td>596553400.57885742</td>\n",
       "      <td>MULTIPOLYGON (((-86.68725 36.31821, -86.68722 ...</td>\n",
       "    </tr>\n",
       "    <tr>\n",
       "      <th>1</th>\n",
       "      <td>37216</td>\n",
       "      <td>3</td>\n",
       "      <td>NASHVILLE</td>\n",
       "      <td>75820.997821400058</td>\n",
       "      <td>188884682.28344727</td>\n",
       "      <td>MULTIPOLYGON (((-86.73451 36.23774, -86.73425 ...</td>\n",
       "    </tr>\n",
       "    <tr>\n",
       "      <th>2</th>\n",
       "      <td>37204</td>\n",
       "      <td>9</td>\n",
       "      <td>NASHVILLE</td>\n",
       "      <td>93180.292250425613</td>\n",
       "      <td>200664795.51708984</td>\n",
       "      <td>MULTIPOLYGON (((-86.77914 36.13424, -86.77923 ...</td>\n",
       "    </tr>\n",
       "    <tr>\n",
       "      <th>3</th>\n",
       "      <td>37027</td>\n",
       "      <td>11</td>\n",
       "      <td>BRENTWOOD</td>\n",
       "      <td>159760.6942933173</td>\n",
       "      <td>174978422.04101562</td>\n",
       "      <td>MULTIPOLYGON (((-86.81258 36.06319, -86.81263 ...</td>\n",
       "    </tr>\n",
       "    <tr>\n",
       "      <th>4</th>\n",
       "      <td>37064</td>\n",
       "      <td>18</td>\n",
       "      <td>FRANKLIN</td>\n",
       "      <td>28995.828320601937</td>\n",
       "      <td>46969608.005737305</td>\n",
       "      <td>MULTIPOLYGON (((-87.02197 36.01200, -87.02140 ...</td>\n",
       "    </tr>\n",
       "  </tbody>\n",
       "</table>\n",
       "</div>"
      ],
      "text/plain": [
       "     zip objectid    po_name      shape_stlength        shape_starea   \n",
       "0  37115        1    MADISON  178783.02488886821  596553400.57885742  \\\n",
       "1  37216        3  NASHVILLE  75820.997821400058  188884682.28344727   \n",
       "2  37204        9  NASHVILLE  93180.292250425613  200664795.51708984   \n",
       "3  37027       11  BRENTWOOD   159760.6942933173  174978422.04101562   \n",
       "4  37064       18   FRANKLIN  28995.828320601937  46969608.005737305   \n",
       "\n",
       "                                            geometry  \n",
       "0  MULTIPOLYGON (((-86.68725 36.31821, -86.68722 ...  \n",
       "1  MULTIPOLYGON (((-86.73451 36.23774, -86.73425 ...  \n",
       "2  MULTIPOLYGON (((-86.77914 36.13424, -86.77923 ...  \n",
       "3  MULTIPOLYGON (((-86.81258 36.06319, -86.81263 ...  \n",
       "4  MULTIPOLYGON (((-87.02197 36.01200, -87.02140 ...  "
      ]
     },
     "execution_count": 2,
     "metadata": {},
     "output_type": "execute_result"
    }
   ],
   "source": [
    "zipcodes = gpd.read_file('../data/zipcodes.geojson')\n",
    "print(zipcodes.crs)\n",
    "zipcodes.head( )"
   ]
  },
  {
   "cell_type": "code",
   "execution_count": 3,
   "id": "d7530ddb",
   "metadata": {},
   "outputs": [],
   "source": [
    "nashville_parks = gpd.read_file('../data/Metro Parks Boundaries (GIS).geojson')"
   ]
  },
  {
   "cell_type": "code",
   "execution_count": 4,
   "id": "838ce796",
   "metadata": {},
   "outputs": [
    {
     "name": "stdout",
     "output_type": "stream",
     "text": [
      "              acres                  name year_estab   \n",
      "0             69.86    Harpeth River Park       1988  \\\n",
      "1              9.88    Harpeth Knoll Park       1972   \n",
      "2             17.14         Bellevue Park       1982   \n",
      "3            809.59       Bells Bend Park       2007   \n",
      "4          2168.792  Alvin G. Beaman Park       1996   \n",
      "..              ...                   ...        ...   \n",
      "282    3.7454340524                   NaN       2003   \n",
      "283   1.46849965739                   NaN       2000   \n",
      "284  0.181880190971                   NaN       2003   \n",
      "285   7.30424931138                   NaN       2014   \n",
      "286   6.50392802351                   NaN       2002   \n",
      "\n",
      "                                    common_nam status   \n",
      "0                                Harpeth River   PARK  \\\n",
      "1                                Harpeth Knoll   PARK   \n",
      "2                                  Red Caboose   PARK   \n",
      "3                                   Bells Bend   PARK   \n",
      "4                                       Beaman   PARK   \n",
      "..                                         ...    ...   \n",
      "282  Stones River Greenway - Lebanon Pk to Dam     GW   \n",
      "283          Stones River Greenway - Alta Lake     GW   \n",
      "284  Stones River Greenway - Lebanon Pk to Dam     GW   \n",
      "285              Whites Creek Community Garden   PARK   \n",
      "286    Mill Creek Greenway - Whittimore Branch     GW   \n",
      "\n",
      "                     address           lon          lat   \n",
      "0        7820 Coley Davis Rd   -86.9592214  36.07738249  \\\n",
      "1    708 Goodpasture Terrace  -86.93815537  36.05942777   \n",
      "2       656 Colice Jeanne Rd  -86.93354496  36.07159731   \n",
      "3      4187 Old Hickory Blvd  -86.92646294  36.15016925   \n",
      "4     5911 Old Hickory Blvd.  -86.91984207  36.26075833   \n",
      "..                       ...           ...          ...   \n",
      "282  100 Stewarts Ferry Pkwy             0            0   \n",
      "283             3940 Bell Rd             0            0   \n",
      "284                      NaN             0            0   \n",
      "285   3832 Whites Creek Pike             0            0   \n",
      "286    5824 Nolensville Pike             0            0   \n",
      "\n",
      "                                            descriptio   \n",
      "0    Harpeth River State Park has much historical a...  \\\n",
      "1    Huge grassy field with playground, and shade s...   \n",
      "2    Bellevue Park, known as Red Caboose Park, is p...   \n",
      "3    Located in western Davidson County, this park ...   \n",
      "4    Beaman Park provides education and awareness p...   \n",
      "..                                                 ...   \n",
      "282                                                NaN   \n",
      "283                                                NaN   \n",
      "284                                                NaN   \n",
      "285                                                NaN   \n",
      "286                                                NaN   \n",
      "\n",
      "                                              geometry  \n",
      "0    MULTIPOLYGON (((-86.95547 36.07930, -86.95578 ...  \n",
      "1    MULTIPOLYGON (((-86.93860 36.06077, -86.93742 ...  \n",
      "2    MULTIPOLYGON (((-86.93207 36.06954, -86.93283 ...  \n",
      "3    MULTIPOLYGON (((-86.93987 36.16093, -86.93495 ...  \n",
      "4    MULTIPOLYGON (((-86.90367 36.27352, -86.90364 ...  \n",
      "..                                                 ...  \n",
      "282  MULTIPOLYGON (((-86.62732 36.16291, -86.62669 ...  \n",
      "283  MULTIPOLYGON (((-86.60819 36.16592, -86.60817 ...  \n",
      "284  MULTIPOLYGON (((-86.64052 36.17177, -86.64067 ...  \n",
      "285  MULTIPOLYGON (((-86.82873 36.25082, -86.82857 ...  \n",
      "286  MULTIPOLYGON (((-86.71266 36.04247, -86.71235 ...  \n",
      "\n",
      "[287 rows x 10 columns]\n"
     ]
    }
   ],
   "source": [
    "print(nashville_parks)"
   ]
  },
  {
   "cell_type": "code",
   "execution_count": 5,
   "id": "6b0b4a41",
   "metadata": {},
   "outputs": [
    {
     "data": {
      "text/html": [
       "<div>\n",
       "<style scoped>\n",
       "    .dataframe tbody tr th:only-of-type {\n",
       "        vertical-align: middle;\n",
       "    }\n",
       "\n",
       "    .dataframe tbody tr th {\n",
       "        vertical-align: top;\n",
       "    }\n",
       "\n",
       "    .dataframe thead th {\n",
       "        text-align: right;\n",
       "    }\n",
       "</style>\n",
       "<table border=\"1\" class=\"dataframe\">\n",
       "  <thead>\n",
       "    <tr style=\"text-align: right;\">\n",
       "      <th></th>\n",
       "      <th>acres</th>\n",
       "      <th>name</th>\n",
       "      <th>year_estab</th>\n",
       "      <th>common_nam</th>\n",
       "      <th>status</th>\n",
       "      <th>address</th>\n",
       "      <th>lon</th>\n",
       "      <th>lat</th>\n",
       "      <th>descriptio</th>\n",
       "      <th>geometry</th>\n",
       "    </tr>\n",
       "  </thead>\n",
       "  <tbody>\n",
       "    <tr>\n",
       "      <th>0</th>\n",
       "      <td>69.86</td>\n",
       "      <td>Harpeth River Park</td>\n",
       "      <td>1988</td>\n",
       "      <td>Harpeth River</td>\n",
       "      <td>PARK</td>\n",
       "      <td>7820 Coley Davis Rd</td>\n",
       "      <td>-86.9592214</td>\n",
       "      <td>36.07738249</td>\n",
       "      <td>Harpeth River State Park has much historical a...</td>\n",
       "      <td>POINT (-86.95922 36.07738)</td>\n",
       "    </tr>\n",
       "    <tr>\n",
       "      <th>1</th>\n",
       "      <td>9.88</td>\n",
       "      <td>Harpeth Knoll Park</td>\n",
       "      <td>1972</td>\n",
       "      <td>Harpeth Knoll</td>\n",
       "      <td>PARK</td>\n",
       "      <td>708 Goodpasture Terrace</td>\n",
       "      <td>-86.93815537</td>\n",
       "      <td>36.05942777</td>\n",
       "      <td>Huge grassy field with playground, and shade s...</td>\n",
       "      <td>POINT (-86.93816 36.05943)</td>\n",
       "    </tr>\n",
       "    <tr>\n",
       "      <th>2</th>\n",
       "      <td>17.14</td>\n",
       "      <td>Bellevue Park</td>\n",
       "      <td>1982</td>\n",
       "      <td>Red Caboose</td>\n",
       "      <td>PARK</td>\n",
       "      <td>656 Colice Jeanne Rd</td>\n",
       "      <td>-86.93354496</td>\n",
       "      <td>36.07159731</td>\n",
       "      <td>Bellevue Park, known as Red Caboose Park, is p...</td>\n",
       "      <td>POINT (-86.93354 36.07160)</td>\n",
       "    </tr>\n",
       "    <tr>\n",
       "      <th>3</th>\n",
       "      <td>809.59</td>\n",
       "      <td>Bells Bend Park</td>\n",
       "      <td>2007</td>\n",
       "      <td>Bells Bend</td>\n",
       "      <td>PARK</td>\n",
       "      <td>4187 Old Hickory Blvd</td>\n",
       "      <td>-86.92646294</td>\n",
       "      <td>36.15016925</td>\n",
       "      <td>Located in western Davidson County, this park ...</td>\n",
       "      <td>POINT (-86.92646 36.15017)</td>\n",
       "    </tr>\n",
       "    <tr>\n",
       "      <th>4</th>\n",
       "      <td>2168.792</td>\n",
       "      <td>Alvin G. Beaman Park</td>\n",
       "      <td>1996</td>\n",
       "      <td>Beaman</td>\n",
       "      <td>PARK</td>\n",
       "      <td>5911 Old Hickory Blvd.</td>\n",
       "      <td>-86.91984207</td>\n",
       "      <td>36.26075833</td>\n",
       "      <td>Beaman Park provides education and awareness p...</td>\n",
       "      <td>POINT (-86.91984 36.26076)</td>\n",
       "    </tr>\n",
       "  </tbody>\n",
       "</table>\n",
       "</div>"
      ],
      "text/plain": [
       "      acres                  name year_estab     common_nam status   \n",
       "0     69.86    Harpeth River Park       1988  Harpeth River   PARK  \\\n",
       "1      9.88    Harpeth Knoll Park       1972  Harpeth Knoll   PARK   \n",
       "2     17.14         Bellevue Park       1982    Red Caboose   PARK   \n",
       "3    809.59       Bells Bend Park       2007     Bells Bend   PARK   \n",
       "4  2168.792  Alvin G. Beaman Park       1996         Beaman   PARK   \n",
       "\n",
       "                   address           lon          lat   \n",
       "0      7820 Coley Davis Rd   -86.9592214  36.07738249  \\\n",
       "1  708 Goodpasture Terrace  -86.93815537  36.05942777   \n",
       "2     656 Colice Jeanne Rd  -86.93354496  36.07159731   \n",
       "3    4187 Old Hickory Blvd  -86.92646294  36.15016925   \n",
       "4   5911 Old Hickory Blvd.  -86.91984207  36.26075833   \n",
       "\n",
       "                                          descriptio   \n",
       "0  Harpeth River State Park has much historical a...  \\\n",
       "1  Huge grassy field with playground, and shade s...   \n",
       "2  Bellevue Park, known as Red Caboose Park, is p...   \n",
       "3  Located in western Davidson County, this park ...   \n",
       "4  Beaman Park provides education and awareness p...   \n",
       "\n",
       "                     geometry  \n",
       "0  POINT (-86.95922 36.07738)  \n",
       "1  POINT (-86.93816 36.05943)  \n",
       "2  POINT (-86.93354 36.07160)  \n",
       "3  POINT (-86.92646 36.15017)  \n",
       "4  POINT (-86.91984 36.26076)  "
      ]
     },
     "execution_count": 5,
     "metadata": {},
     "output_type": "execute_result"
    }
   ],
   "source": [
    "nashville_parks['geometry'] = nashville_parks.apply(lambda x: Point((x.lon, \n",
    "                                                         x.lat)), \n",
    "                                        axis=1)\n",
    "nashville_parks.head(5)"
   ]
  },
  {
   "cell_type": "code",
   "execution_count": 6,
   "id": "8a819b6f",
   "metadata": {},
   "outputs": [
    {
     "data": {
      "text/plain": [
       "<Geographic 2D CRS: EPSG:4326>\n",
       "Name: WGS 84\n",
       "Axis Info [ellipsoidal]:\n",
       "- Lat[north]: Geodetic latitude (degree)\n",
       "- Lon[east]: Geodetic longitude (degree)\n",
       "Area of Use:\n",
       "- name: World.\n",
       "- bounds: (-180.0, -90.0, 180.0, 90.0)\n",
       "Datum: World Geodetic System 1984 ensemble\n",
       "- Ellipsoid: WGS 84\n",
       "- Prime Meridian: Greenwich"
      ]
     },
     "execution_count": 6,
     "metadata": {},
     "output_type": "execute_result"
    }
   ],
   "source": [
    "zipcodes.crs"
   ]
  },
  {
   "cell_type": "code",
   "execution_count": 7,
   "id": "dbe75f28",
   "metadata": {},
   "outputs": [],
   "source": [
    "park_geo = gpd.GeoDataFrame(nashville_parks, \n",
    "                           crs = zipcodes.crs, \n",
    "                           geometry = nashville_parks['geometry'])"
   ]
  },
  {
   "cell_type": "code",
   "execution_count": 8,
   "id": "c175df10",
   "metadata": {},
   "outputs": [
    {
     "name": "stdout",
     "output_type": "stream",
     "text": [
      "<class 'geopandas.geodataframe.GeoDataFrame'>\n"
     ]
    }
   ],
   "source": [
    "print(type(park_geo))"
   ]
  },
  {
   "cell_type": "code",
   "execution_count": 9,
   "id": "26b1c926",
   "metadata": {},
   "outputs": [],
   "source": [
    "zipcodes = zipcodes[['zip', 'po_name', 'geometry']]"
   ]
  },
  {
   "cell_type": "code",
   "execution_count": 10,
   "id": "83cce450",
   "metadata": {},
   "outputs": [
    {
     "name": "stderr",
     "output_type": "stream",
     "text": [
      "C:\\Users\\scost\\anaconda3\\envs\\geospatial\\lib\\site-packages\\IPython\\core\\interactiveshell.py:3445: FutureWarning: The `op` parameter is deprecated and will be removed in a future release. Please use the `predicate` parameter instead.\n",
      "  if await self.run_code(code, result, async_=asy):\n"
     ]
    }
   ],
   "source": [
    "parks_by_zip = gpd.sjoin(park_geo, zipcodes, op = 'within')"
   ]
  },
  {
   "cell_type": "code",
   "execution_count": 11,
   "id": "6abe33d7",
   "metadata": {},
   "outputs": [
    {
     "name": "stdout",
     "output_type": "stream",
     "text": [
      "      acres                         name year_estab        common_nam status   \n",
      "0     69.86           Harpeth River Park       1988     Harpeth River   PARK  \\\n",
      "1      9.88           Harpeth Knoll Park       1972     Harpeth Knoll   PARK   \n",
      "2     17.14                Bellevue Park       1982       Red Caboose   PARK   \n",
      "5   1113.12            Edwin Warner Park       1937      Edwin Warner   PARK   \n",
      "7   1991.56            Percy Warner Park       1926      Percy Warner   PARK   \n",
      "3    809.59              Bells Bend Park       2007        Bells Bend   PARK   \n",
      "11    12.26         Bordeaux Garden Park       1964   Bordeaux Garden   PARK   \n",
      "16     54.2      Richard W. Hartman Park       1964           Hartman   PARK   \n",
      "22    34.85    Joseph Brown Mullins Park       2012           Mullins   PARK   \n",
      "25    16.81  Bordeaux-Timothy Drive Park       1980  Bordeaux-Timothy   PARK   \n",
      "\n",
      "                       address           lon          lat   \n",
      "0          7820 Coley Davis Rd   -86.9592214  36.07738249  \\\n",
      "1      708 Goodpasture Terrace  -86.93815537  36.05942777   \n",
      "2         656 Colice Jeanne Rd  -86.93354496  36.07159731   \n",
      "5                 50 Vaughn Rd   -86.9074396  36.05688279   \n",
      "7                  7311 Hwy100  -86.88419854  36.06729215   \n",
      "3        4187 Old Hickory Blvd  -86.92646294  36.15016925   \n",
      "11  Snell Blvd, at Panorama Dr  -86.83914775  36.17850183   \n",
      "16              2801 Tucker Rd  -86.82746781  36.20874602   \n",
      "22        4297 Drake Wood Lane  -86.85206132  36.20718337   \n",
      "25             4100 Timothy Dr  -86.84350613  36.21440194   \n",
      "\n",
      "                                           descriptio   \n",
      "0   Harpeth River State Park has much historical a...  \\\n",
      "1   Huge grassy field with playground, and shade s...   \n",
      "2   Bellevue Park, known as Red Caboose Park, is p...   \n",
      "5   Edwin Warner Park is a great, multi-recreation...   \n",
      "7   Percy Warner Park is 2684 acres of forest and ...   \n",
      "3   Located in western Davidson County, this park ...   \n",
      "11  Bordeaux Gardens Park is a multi-facility area...   \n",
      "16  Located next to the Hartman Community Center, ...   \n",
      "22                      Picnic Shelter, Walking Trail   \n",
      "25  Bordeaux Timothy Park is a wonderful neighborh...   \n",
      "\n",
      "                      geometry  index_right    zip    po_name  \n",
      "0   POINT (-86.95922 36.07738)            7  37221  NASHVILLE  \n",
      "1   POINT (-86.93816 36.05943)            7  37221  NASHVILLE  \n",
      "2   POINT (-86.93354 36.07160)            7  37221  NASHVILLE  \n",
      "5   POINT (-86.90744 36.05688)            7  37221  NASHVILLE  \n",
      "7   POINT (-86.88420 36.06729)            7  37221  NASHVILLE  \n",
      "3   POINT (-86.92646 36.15017)           27  37218  NASHVILLE  \n",
      "11  POINT (-86.83915 36.17850)           27  37218  NASHVILLE  \n",
      "16  POINT (-86.82747 36.20875)           27  37218  NASHVILLE  \n",
      "22  POINT (-86.85206 36.20718)           27  37218  NASHVILLE  \n",
      "25  POINT (-86.84351 36.21440)           27  37218  NASHVILLE  \n"
     ]
    }
   ],
   "source": [
    "print(parks_by_zip.head(10))"
   ]
  },
  {
   "cell_type": "code",
   "execution_count": 12,
   "id": "8b5f8683",
   "metadata": {},
   "outputs": [],
   "source": [
    "new_parks_by_zip = parks_by_zip.drop(['descriptio'], axis=1)"
   ]
  },
  {
   "cell_type": "code",
   "execution_count": 13,
   "id": "bf01c03e",
   "metadata": {},
   "outputs": [
    {
     "name": "stdout",
     "output_type": "stream",
     "text": [
      "        acres                              name year_estab        common_nam   \n",
      "0       69.86                Harpeth River Park       1988     Harpeth River  \\\n",
      "1        9.88                Harpeth Knoll Park       1972     Harpeth Knoll   \n",
      "2       17.14                     Bellevue Park       1982       Red Caboose   \n",
      "5     1113.12                 Edwin Warner Park       1937      Edwin Warner   \n",
      "7     1991.56                 Percy Warner Park       1926      Percy Warner   \n",
      "3      809.59                   Bells Bend Park       2007        Bells Bend   \n",
      "11      12.26              Bordeaux Garden Park       1964   Bordeaux Garden   \n",
      "16       54.2           Richard W. Hartman Park       1964           Hartman   \n",
      "22      34.85         Joseph Brown Mullins Park       2012           Mullins   \n",
      "25      16.81       Bordeaux-Timothy Drive Park       1980  Bordeaux-Timothy   \n",
      "109     19.78                     City Cemetery       1963     City Cemetery   \n",
      "121         5                   County Cemetery       1976   County Cemetery   \n",
      "4    2168.792              Alvin G. Beaman Park       1996            Beaman   \n",
      "9       18.38                      Joelton Park       1989           Joelton   \n",
      "14      98.41               Paradise Ridge Park       2013    Paradise Ridge   \n",
      "6        8.53                   H. G. Hill Park       2012        H. G. Hill   \n",
      "8       25.24                    Charlotte Park       1964         Charlotte   \n",
      "10      33.45                         West Park       1952              West   \n",
      "13      11.28  R. H. Boyd - Preston Taylor Park       1947      Boyd -Taylor   \n",
      "18      11.25                           England       2014           England   \n",
      "19       30.7                       Hadley Park       1912            Hadley   \n",
      "23     208.98                       McCabe Park       1938            McCabe   \n",
      "24       9.98                     Richland Park       1907          Richland   \n",
      "28        1.5                    McKissack Park       1969         McKissack   \n",
      "12       3.24                     Woodmont Park       1988          Woodmont   \n",
      "\n",
      "    status                         address           lon          lat   \n",
      "0     PARK             7820 Coley Davis Rd   -86.9592214  36.07738249  \\\n",
      "1     PARK         708 Goodpasture Terrace  -86.93815537  36.05942777   \n",
      "2     PARK            656 Colice Jeanne Rd  -86.93354496  36.07159731   \n",
      "5     PARK                    50 Vaughn Rd   -86.9074396  36.05688279   \n",
      "7     PARK                     7311 Hwy100  -86.88419854  36.06729215   \n",
      "3     PARK           4187 Old Hickory Blvd  -86.92646294  36.15016925   \n",
      "11    PARK      Snell Blvd, at Panorama Dr  -86.83914775  36.17850183   \n",
      "16    PARK                  2801 Tucker Rd  -86.82746781  36.20874602   \n",
      "22    PARK            4297 Drake Wood Lane  -86.85206132  36.20718337   \n",
      "25    PARK                 4100 Timothy Dr  -86.84350613  36.21440194   \n",
      "109   PARK                  401 Oak Street    -86.853247    36.182389   \n",
      "121   PARK       1398 County Hospital Road    -86.853247    36.182389   \n",
      "4     PARK          5911 Old Hickory Blvd.  -86.91984207  36.26075833   \n",
      "9     PARK  21 Joelton Community Center Rd  -86.87022094  36.31718158   \n",
      "14    PARK                  3000 Morgan Rd  -86.86115896   36.3434429   \n",
      "6     PARK             6710 Charlotte Pike  -86.88757407  36.13619596   \n",
      "8     PARK                   6031 Deal Ave  -86.87070668  36.15454327   \n",
      "10    PARK                6105 Morrow Road  -86.86421695  36.16149934   \n",
      "13    PARK                3900 Clifton Ave  -86.83256812  36.15925167   \n",
      "18    PARK                   811 Delray Dr   -86.8550499  36.15637551   \n",
      "19    PARK             1037 28th Ave North  -86.82242669  36.16553119   \n",
      "23    PARK                  4601 Murphy Rd  -86.84704746  36.13921612   \n",
      "24    PARK             4601 Charlotte Pike  -86.84463771  36.15152935   \n",
      "28    PARK         28th Ave and Torbett St  -86.81795909  36.15773702   \n",
      "12    PARK                    912 Estes Rd  -86.83532056  36.11865895   \n",
      "\n",
      "                       geometry  index_right    zip    po_name  \n",
      "0    POINT (-86.95922 36.07738)            7  37221  NASHVILLE  \n",
      "1    POINT (-86.93816 36.05943)            7  37221  NASHVILLE  \n",
      "2    POINT (-86.93354 36.07160)            7  37221  NASHVILLE  \n",
      "5    POINT (-86.90744 36.05688)            7  37221  NASHVILLE  \n",
      "7    POINT (-86.88420 36.06729)            7  37221  NASHVILLE  \n",
      "3    POINT (-86.92646 36.15017)           27  37218  NASHVILLE  \n",
      "11   POINT (-86.83915 36.17850)           27  37218  NASHVILLE  \n",
      "16   POINT (-86.82747 36.20875)           27  37218  NASHVILLE  \n",
      "22   POINT (-86.85206 36.20718)           27  37218  NASHVILLE  \n",
      "25   POINT (-86.84351 36.21440)           27  37218  NASHVILLE  \n",
      "109  POINT (-86.85325 36.18239)           27  37218  NASHVILLE  \n",
      "121  POINT (-86.85325 36.18239)           27  37218  NASHVILLE  \n",
      "4    POINT (-86.91984 36.26076)           20  37080    JOELTON  \n",
      "9    POINT (-86.87022 36.31718)           20  37080    JOELTON  \n",
      "14   POINT (-86.86116 36.34344)           20  37080    JOELTON  \n",
      "6    POINT (-86.88757 36.13620)           12  37209  NASHVILLE  \n",
      "8    POINT (-86.87071 36.15454)           12  37209  NASHVILLE  \n",
      "10   POINT (-86.86422 36.16150)           12  37209  NASHVILLE  \n",
      "13   POINT (-86.83257 36.15925)           12  37209  NASHVILLE  \n",
      "18   POINT (-86.85505 36.15638)           12  37209  NASHVILLE  \n",
      "19   POINT (-86.82243 36.16553)           12  37209  NASHVILLE  \n",
      "23   POINT (-86.84705 36.13922)           12  37209  NASHVILLE  \n",
      "24   POINT (-86.84464 36.15153)           12  37209  NASHVILLE  \n",
      "28   POINT (-86.81796 36.15774)           12  37209  NASHVILLE  \n",
      "12   POINT (-86.83532 36.11866)           44  37215  NASHVILLE  \n"
     ]
    }
   ],
   "source": [
    "print(new_parks_by_zip.head(25))"
   ]
  },
  {
   "cell_type": "code",
   "execution_count": 14,
   "id": "d9845f17",
   "metadata": {},
   "outputs": [
    {
     "data": {
      "text/plain": [
       "(14, 12)"
      ]
     },
     "execution_count": 14,
     "metadata": {},
     "output_type": "execute_result"
    }
   ],
   "source": [
    "parks_in_nash = new_parks_by_zip.loc[(new_parks_by_zip['zip'] == '37221') | (new_parks_by_zip['zip'] == '37209')]\n",
    "parks_in_nash.shape"
   ]
  },
  {
   "cell_type": "code",
   "execution_count": 15,
   "id": "0b963ff5",
   "metadata": {},
   "outputs": [
    {
     "data": {
      "text/plain": [
       "(2, 3)"
      ]
     },
     "execution_count": 15,
     "metadata": {},
     "output_type": "execute_result"
    }
   ],
   "source": [
    "polygon_nash = zipcodes.loc[(zipcodes['zip'] == '37221') | (zipcodes['zip'] == '37209')]\n",
    "polygon_nash.shape"
   ]
  },
  {
   "cell_type": "code",
   "execution_count": 16,
   "id": "345c2da9",
   "metadata": {},
   "outputs": [
    {
     "data": {
      "image/png": "[encoded data removed]",
      "text/plain": [
       "<Figure size 600x800 with 1 Axes>"
      ]
     },
     "metadata": {},
     "output_type": "display_data"
    }
   ],
   "source": [
    "ax = polygon_nash.plot(figsize = (6, 8), color = 'magenta')\n",
    "parks_in_nash.plot( ax = ax, column = 'common_nam');\n",
    "plt.show();"
   ]
  },
  {
   "cell_type": "code",
   "execution_count": 17,
   "id": "de85b644",
   "metadata": {},
   "outputs": [
    {
     "name": "stderr",
     "output_type": "stream",
     "text": [
      "C:\\Users\\scost\\AppData\\Local\\Temp\\ipykernel_2284\\2882727082.py:1: UserWarning: Geometry is in a geographic CRS. Results from 'centroid' are likely incorrect. Use 'GeoSeries.to_crs()' to re-project geometries to a projected CRS before this operation.\n",
      "\n",
      "  polygon_nash.geometry.centroid\n"
     ]
    },
    {
     "data": {
      "text/plain": [
       "7     POINT (-86.97531 36.06283)\n",
       "12    POINT (-86.91816 36.15605)\n",
       "dtype: geometry"
      ]
     },
     "execution_count": 17,
     "metadata": {},
     "output_type": "execute_result"
    }
   ],
   "source": [
    "polygon_nash.geometry.centroid"
   ]
  },
  {
   "cell_type": "code",
   "execution_count": 18,
   "id": "23e7268f",
   "metadata": {},
   "outputs": [
    {
     "name": "stdout",
     "output_type": "stream",
     "text": [
      "POINT (-86.91816342256455 36.15604558838379)\n"
     ]
    },
    {
     "name": "stderr",
     "output_type": "stream",
     "text": [
      "C:\\Users\\scost\\AppData\\Local\\Temp\\ipykernel_2284\\1900295457.py:1: UserWarning: Geometry is in a geographic CRS. Results from 'centroid' are likely incorrect. Use 'GeoSeries.to_crs()' to re-project geometries to a projected CRS before this operation.\n",
      "\n",
      "  center = polygon_nash.geometry.centroid[12]\n"
     ]
    }
   ],
   "source": [
    "center = polygon_nash.geometry.centroid[12]\n",
    "print(center)"
   ]
  },
  {
   "cell_type": "code",
   "execution_count": 19,
   "id": "893ee988",
   "metadata": {},
   "outputs": [
    {
     "name": "stdout",
     "output_type": "stream",
     "text": [
      "[36.15604558838379, -86.91816342256455]\n"
     ]
    }
   ],
   "source": [
    "area_center = [center.y, center.x]\n",
    "print(area_center)"
   ]
  },
  {
   "cell_type": "code",
   "execution_count": 20,
   "id": "71912647",
   "metadata": {},
   "outputs": [
    {
     "data": {
      "text/html": [
       "<div style=\"width:100%;\"><div style=\"position:relative;width:100%;height:0;padding-bottom:60%;\"><span style=\"color:#565656\">Make this Notebook Trusted to load map: File -> Trust Notebook</span><iframe srcdoc=\"&lt;!DOCTYPE html&gt;\n",
       "&lt;html&gt;\n",
       "&lt;head&gt;\n",
       "    \n",
       "    &lt;meta http-equiv=&quot;content-type&quot; content=&quot;text/html; charset=UTF-8&quot; /&gt;\n",
       "    \n",
       "        &lt;script&gt;\n",
       "            L_NO_TOUCH = false;\n",
       "            L_DISABLE_3D = false;\n",
       "        &lt;/script&gt;\n",
       "    \n",
       "    &lt;style&gt;html, body {width: 100%;height: 100%;margin: 0;padding: 0;}&lt;/style&gt;\n",
       "    &lt;style&gt;#map {position:absolute;top:0;bottom:0;right:0;left:0;}&lt;/style&gt;\n",
       "    &lt;script src=&quot;https://cdn.jsdelivr.net/npm/leaflet@1.9.3/dist/leaflet.js&quot;&gt;&lt;/script&gt;\n",
       "    &lt;script src=&quot;https://code.jquery.com/jquery-1.12.4.min.js&quot;&gt;&lt;/script&gt;\n",
       "    &lt;script src=&quot;https://cdn.jsdelivr.net/npm/bootstrap@5.2.2/dist/js/bootstrap.bundle.min.js&quot;&gt;&lt;/script&gt;\n",
       "    &lt;script src=&quot;https://cdnjs.cloudflare.com/ajax/libs/Leaflet.awesome-markers/2.0.2/leaflet.awesome-markers.js&quot;&gt;&lt;/script&gt;\n",
       "    &lt;link rel=&quot;stylesheet&quot; href=&quot;https://cdn.jsdelivr.net/npm/leaflet@1.9.3/dist/leaflet.css&quot;/&gt;\n",
       "    &lt;link rel=&quot;stylesheet&quot; href=&quot;https://cdn.jsdelivr.net/npm/bootstrap@5.2.2/dist/css/bootstrap.min.css&quot;/&gt;\n",
       "    &lt;link rel=&quot;stylesheet&quot; href=&quot;https://netdna.bootstrapcdn.com/bootstrap/3.0.0/css/bootstrap.min.css&quot;/&gt;\n",
       "    &lt;link rel=&quot;stylesheet&quot; href=&quot;https://cdn.jsdelivr.net/npm/@fortawesome/fontawesome-free@6.2.0/css/all.min.css&quot;/&gt;\n",
       "    &lt;link rel=&quot;stylesheet&quot; href=&quot;https://cdnjs.cloudflare.com/ajax/libs/Leaflet.awesome-markers/2.0.2/leaflet.awesome-markers.css&quot;/&gt;\n",
       "    &lt;link rel=&quot;stylesheet&quot; href=&quot;https://cdn.jsdelivr.net/gh/python-visualization/folium/folium/templates/leaflet.awesome.rotate.min.css&quot;/&gt;\n",
       "    \n",
       "            &lt;meta name=&quot;viewport&quot; content=&quot;width=device-width,\n",
       "                initial-scale=1.0, maximum-scale=1.0, user-scalable=no&quot; /&gt;\n",
       "            &lt;style&gt;\n",
       "                #map_57fe4b9056871d1370fd989c5cf0d04f {\n",
       "                    position: relative;\n",
       "                    width: 100.0%;\n",
       "                    height: 100.0%;\n",
       "                    left: 0.0%;\n",
       "                    top: 0.0%;\n",
       "                }\n",
       "                .leaflet-container { font-size: 1rem; }\n",
       "            &lt;/style&gt;\n",
       "        \n",
       "&lt;/head&gt;\n",
       "&lt;body&gt;\n",
       "    \n",
       "    \n",
       "            &lt;div class=&quot;folium-map&quot; id=&quot;map_57fe4b9056871d1370fd989c5cf0d04f&quot; &gt;&lt;/div&gt;\n",
       "        \n",
       "&lt;/body&gt;\n",
       "&lt;script&gt;\n",
       "    \n",
       "    \n",
       "            var map_57fe4b9056871d1370fd989c5cf0d04f = L.map(\n",
       "                &quot;map_57fe4b9056871d1370fd989c5cf0d04f&quot;,\n",
       "                {\n",
       "                    center: [36.15604558838379, -86.91816342256455],\n",
       "                    crs: L.CRS.EPSG3857,\n",
       "                    zoom: 15,\n",
       "                    zoomControl: true,\n",
       "                    preferCanvas: false,\n",
       "                }\n",
       "            );\n",
       "\n",
       "            \n",
       "\n",
       "        \n",
       "    \n",
       "            var tile_layer_2b8c41390d99d0d25b7c4fe107468b09 = L.tileLayer(\n",
       "                &quot;https://{s}.tile.openstreetmap.org/{z}/{x}/{y}.png&quot;,\n",
       "                {&quot;attribution&quot;: &quot;Data by \\u0026copy; \\u003ca target=\\&quot;_blank\\&quot; href=\\&quot;http://openstreetmap.org\\&quot;\\u003eOpenStreetMap\\u003c/a\\u003e, under \\u003ca target=\\&quot;_blank\\&quot; href=\\&quot;http://www.openstreetmap.org/copyright\\&quot;\\u003eODbL\\u003c/a\\u003e.&quot;, &quot;detectRetina&quot;: false, &quot;maxNativeZoom&quot;: 18, &quot;maxZoom&quot;: 18, &quot;minZoom&quot;: 0, &quot;noWrap&quot;: false, &quot;opacity&quot;: 1, &quot;subdomains&quot;: &quot;abc&quot;, &quot;tms&quot;: false}\n",
       "            ).addTo(map_57fe4b9056871d1370fd989c5cf0d04f);\n",
       "        \n",
       "&lt;/script&gt;\n",
       "&lt;/html&gt;\" style=\"position:absolute;width:100%;height:100%;left:0;top:0;border:none !important;\" allowfullscreen webkitallowfullscreen mozallowfullscreen></iframe></div></div>"
      ],
      "text/plain": [
       "<folium.folium.Map at 0x220bca67e80>"
      ]
     },
     "execution_count": 20,
     "metadata": {},
     "output_type": "execute_result"
    }
   ],
   "source": [
    "nashville_park_map = folium.Map(location =  area_center, zoom_start = 15)\n",
    "nashville_park_map"
   ]
  },
  {
   "cell_type": "code",
   "execution_count": 21,
   "id": "5c06c80b",
   "metadata": {},
   "outputs": [
    {
     "data": {
      "text/plain": [
       "<folium.features.GeoJson at 0x220bca67a00>"
      ]
     },
     "execution_count": 21,
     "metadata": {},
     "output_type": "execute_result"
    }
   ],
   "source": [
    "nashville_park_map = folium.Map(location =  area_center, zoom_start = 12)\n",
    "folium.GeoJson(polygon_nash).add_to(nashville_park_map)"
   ]
  },
  {
   "cell_type": "code",
   "execution_count": 22,
   "id": "5c2c2dd4",
   "metadata": {},
   "outputs": [],
   "source": [
    "for row_index, row_values in parks_in_nash.iterrows():\n",
    "    loc = [row_values['lat'], row_values['lon']]\n",
    "    pop = str(row_values['name'])\n",
    "    icon=folium.Icon(color=\"green\",icon=\"tree\", prefix='fa')\n",
    "    \n",
    "    marker = folium.Marker(\n",
    "        location = loc, \n",
    "        popup = pop, icon = icon) "
   ]
  },
  {
   "cell_type": "code",
   "execution_count": 23,
   "id": "8ccd79a3",
   "metadata": {},
   "outputs": [
    {
     "data": {
      "text/html": [
       "<div style=\"width:100%;\"><div style=\"position:relative;width:100%;height:0;padding-bottom:60%;\"><span style=\"color:#565656\">Make this Notebook Trusted to load map: File -> Trust Notebook</span><iframe srcdoc=\"&lt;!DOCTYPE html&gt;\n",
       "&lt;html&gt;\n",
       "&lt;head&gt;\n",
       "    \n",
       "    &lt;meta http-equiv=&quot;content-type&quot; content=&quot;text/html; charset=UTF-8&quot; /&gt;\n",
       "    \n",
       "        &lt;script&gt;\n",
       "            L_NO_TOUCH = false;\n",
       "            L_DISABLE_3D = false;\n",
       "        &lt;/script&gt;\n",
       "    \n",
       "    &lt;style&gt;html, body {width: 100%;height: 100%;margin: 0;padding: 0;}&lt;/style&gt;\n",
       "    &lt;style&gt;#map {position:absolute;top:0;bottom:0;right:0;left:0;}&lt;/style&gt;\n",
       "    &lt;script src=&quot;https://cdn.jsdelivr.net/npm/leaflet@1.9.3/dist/leaflet.js&quot;&gt;&lt;/script&gt;\n",
       "    &lt;script src=&quot;https://code.jquery.com/jquery-1.12.4.min.js&quot;&gt;&lt;/script&gt;\n",
       "    &lt;script src=&quot;https://cdn.jsdelivr.net/npm/bootstrap@5.2.2/dist/js/bootstrap.bundle.min.js&quot;&gt;&lt;/script&gt;\n",
       "    &lt;script src=&quot;https://cdnjs.cloudflare.com/ajax/libs/Leaflet.awesome-markers/2.0.2/leaflet.awesome-markers.js&quot;&gt;&lt;/script&gt;\n",
       "    &lt;link rel=&quot;stylesheet&quot; href=&quot;https://cdn.jsdelivr.net/npm/leaflet@1.9.3/dist/leaflet.css&quot;/&gt;\n",
       "    &lt;link rel=&quot;stylesheet&quot; href=&quot;https://cdn.jsdelivr.net/npm/bootstrap@5.2.2/dist/css/bootstrap.min.css&quot;/&gt;\n",
       "    &lt;link rel=&quot;stylesheet&quot; href=&quot;https://netdna.bootstrapcdn.com/bootstrap/3.0.0/css/bootstrap.min.css&quot;/&gt;\n",
       "    &lt;link rel=&quot;stylesheet&quot; href=&quot;https://cdn.jsdelivr.net/npm/@fortawesome/fontawesome-free@6.2.0/css/all.min.css&quot;/&gt;\n",
       "    &lt;link rel=&quot;stylesheet&quot; href=&quot;https://cdnjs.cloudflare.com/ajax/libs/Leaflet.awesome-markers/2.0.2/leaflet.awesome-markers.css&quot;/&gt;\n",
       "    &lt;link rel=&quot;stylesheet&quot; href=&quot;https://cdn.jsdelivr.net/gh/python-visualization/folium/folium/templates/leaflet.awesome.rotate.min.css&quot;/&gt;\n",
       "    \n",
       "            &lt;meta name=&quot;viewport&quot; content=&quot;width=device-width,\n",
       "                initial-scale=1.0, maximum-scale=1.0, user-scalable=no&quot; /&gt;\n",
       "            &lt;style&gt;\n",
       "                #map_db20d7fc482c3dbb419a8c9f81514095 {\n",
       "                    position: relative;\n",
       "                    width: 100.0%;\n",
       "                    height: 100.0%;\n",
       "                    left: 0.0%;\n",
       "                    top: 0.0%;\n",
       "                }\n",
       "                .leaflet-container { font-size: 1rem; }\n",
       "            &lt;/style&gt;\n",
       "        \n",
       "&lt;/head&gt;\n",
       "&lt;body&gt;\n",
       "    \n",
       "    \n",
       "            &lt;div class=&quot;folium-map&quot; id=&quot;map_db20d7fc482c3dbb419a8c9f81514095&quot; &gt;&lt;/div&gt;\n",
       "        \n",
       "&lt;/body&gt;\n",
       "&lt;script&gt;\n",
       "    \n",
       "    \n",
       "            var map_db20d7fc482c3dbb419a8c9f81514095 = L.map(\n",
       "                &quot;map_db20d7fc482c3dbb419a8c9f81514095&quot;,\n",
       "                {\n",
       "                    center: [36.15604558838379, -86.91816342256455],\n",
       "                    crs: L.CRS.EPSG3857,\n",
       "                    zoom: 12,\n",
       "                    zoomControl: true,\n",
       "                    preferCanvas: false,\n",
       "                }\n",
       "            );\n",
       "\n",
       "            \n",
       "\n",
       "        \n",
       "    \n",
       "            var tile_layer_38bc736a3bb276d4e7794449a7f34a40 = L.tileLayer(\n",
       "                &quot;https://{s}.tile.openstreetmap.org/{z}/{x}/{y}.png&quot;,\n",
       "                {&quot;attribution&quot;: &quot;Data by \\u0026copy; \\u003ca target=\\&quot;_blank\\&quot; href=\\&quot;http://openstreetmap.org\\&quot;\\u003eOpenStreetMap\\u003c/a\\u003e, under \\u003ca target=\\&quot;_blank\\&quot; href=\\&quot;http://www.openstreetmap.org/copyright\\&quot;\\u003eODbL\\u003c/a\\u003e.&quot;, &quot;detectRetina&quot;: false, &quot;maxNativeZoom&quot;: 18, &quot;maxZoom&quot;: 18, &quot;minZoom&quot;: 0, &quot;noWrap&quot;: false, &quot;opacity&quot;: 1, &quot;subdomains&quot;: &quot;abc&quot;, &quot;tms&quot;: false}\n",
       "            ).addTo(map_db20d7fc482c3dbb419a8c9f81514095);\n",
       "        \n",
       "    \n",
       "\n",
       "        function geo_json_67855572cf8d587188599a62921e18bf_onEachFeature(feature, layer) {\n",
       "            layer.on({\n",
       "            });\n",
       "        };\n",
       "        var geo_json_67855572cf8d587188599a62921e18bf = L.geoJson(null, {\n",
       "                onEachFeature: geo_json_67855572cf8d587188599a62921e18bf_onEachFeature,\n",
       "            \n",
       "        });\n",
       "\n",
       "        function geo_json_67855572cf8d587188599a62921e18bf_add (data) {\n",
       "            geo_json_67855572cf8d587188599a62921e18bf\n",
       "                .addData(data)\n",
       "                .addTo(map_db20d7fc482c3dbb419a8c9f81514095);\n",
       "        }\n",
       "            geo_json_67855572cf8d587188599a62921e18bf_add({&quot;bbox&quot;: [-87.054850469265, 35.998653395903, -86.805073814995, 36.210274403355], &quot;features&quot;: [{&quot;bbox&quot;: [-87.054850469265, 35.998653395903, -86.866750678665, 36.117582013592], &quot;geometry&quot;: {&quot;coordinates&quot;: [[[[-86.970838361174, 36.116443241215], [-86.970838300132, 36.116443152423], [-86.97038032496, 36.11658624569], [-86.97020115443, 36.116642227803], [-86.969999657155, 36.116705210733], [-86.969704990951, 36.116797311364], [-86.968821465628, 36.116978031538], [-86.96836168311, 36.116812498937], [-86.968577662342, 36.116087712696], [-86.968545264778, 36.116084032401], [-86.968519329437, 36.116079855511], [-86.968518978035, 36.116079787364], [-86.9684972753, 36.116075582206], [-86.968495429876, 36.116075163774], [-86.968493620479, 36.116074807437], [-86.968471848079, 36.116069806158], [-86.968450280288, 36.116064172531], [-86.968446028595, 36.116062924662], [-86.968443147655, 36.116062156842], [-86.968439501685, 36.116061008845], [-86.968428926253, 36.116057904765], [-86.968407507959, 36.116050936987], [-86.968335315298, 36.116040252106], [-86.968262750954, 36.116029511788], [-86.968171348797, 36.116015983181], [-86.968102654808, 36.116005815503], [-86.967511101891, 36.115918257618], [-86.966268345013, 36.115737017315], [-86.966250680036, 36.115734609126], [-86.966229097388, 36.115624724657], [-86.966159864146, 36.115647233038], [-86.965411983716, 36.115890361663], [-86.965378769039, 36.116136119629], [-86.964402574203, 36.116218505013], [-86.96400972565, 36.116346209477], [-86.963959088949, 36.116210834893], [-86.963341134053, 36.116509022181], [-86.963453179984, 36.116661999948], [-86.963852498723, 36.116469455694], [-86.964147556914, 36.11714343268], [-86.96416646882, 36.117193905268], [-86.963558738972, 36.117385742729], [-86.963127494106, 36.117469541229], [-86.962371756386, 36.117575387217], [-86.962142630857, 36.117574010106], [-86.961984871968, 36.117544207833], [-86.961980665651, 36.117493719509], [-86.961829009416, 36.116023415283], [-86.962113167171, 36.115142646016], [-86.96390599785, 36.114354378823], [-86.959464124068, 36.114076657932], [-86.959653885593, 36.112822898488], [-86.960231647241, 36.11289302272], [-86.961065915462, 36.112449029386], [-86.961702036451, 36.112417586721], [-86.962646901677, 36.112607844885], [-86.963451242177, 36.112377254904], [-86.964911608738, 36.111748019824], [-86.965520077129, 36.111670623633], [-86.965306381559, 36.110802034802], [-86.96554797833, 36.110624282122], [-86.965909300131, 36.11049172358], [-86.965977769753, 36.110108770002], [-86.966181761509, 36.108931469279], [-86.965911706383, 36.108509059878], [-86.965832821818, 36.108420076385], [-86.965746898068, 36.108351763216], [-86.965674304237, 36.10827604439], [-86.965514816318, 36.108106917198], [-86.965425721442, 36.107986273446], [-86.965222050756, 36.107808354353], [-86.964788251417, 36.107758920807], [-86.964541942187, 36.107778291364], [-86.964420144819, 36.107813554547], [-86.964096638164, 36.107852332643], [-86.963601751527, 36.107650577478], [-86.963092034474, 36.107251216395], [-86.962794765564, 36.106844415172], [-86.962678980381, 36.106659427043], [-86.96256064653, 36.1065643165], [-86.962521816351, 36.106391911803], [-86.962544781006, 36.106214881141], [-86.962538674309, 36.105996581467], [-86.962538365163, 36.105985564382], [-86.962589458191, 36.105560694319], [-86.962651813861, 36.105430052655], [-86.962744832567, 36.10527380357], [-86.962748128327, 36.10526827664], [-86.962754668896, 36.105257325059], [-86.962775628502, 36.105222259616], [-86.962788954843, 36.105203363782], [-86.962960882991, 36.104959596924], [-86.962994541163, 36.104869066703], [-86.963019916071, 36.104579412139], [-86.963049257505, 36.104244474374], [-86.96304919551, 36.10424448002], [-86.962356763358, 36.104311539431], [-86.961449991641, 36.104351737933], [-86.960471973735, 36.104576409261], [-86.959229986002, 36.104861707635], [-86.958870138215, 36.10489094148], [-86.95842324228, 36.104887901853], [-86.957666856916, 36.105047751102], [-86.957091273959, 36.105153413632], [-86.956656372669, 36.105246973454], [-86.955885450834, 36.105549779104], [-86.955181965773, 36.10583006838], [-86.954738932318, 36.105923684488], [-86.954628194467, 36.105948734962], [-86.953964000032, 36.106118820801], [-86.953604455635, 36.105948043846], [-86.953240608376, 36.105419070816], [-86.952558698356, 36.104789315548], [-86.951592336659, 36.10492624309], [-86.95016055148, 36.105129101913], [-86.949525646362, 36.104578076925], [-86.949565225956, 36.104163336281], [-86.949568100289, 36.104133225958], [-86.949597849029, 36.103821490722], [-86.949593017078, 36.103659977464], [-86.949600597779, 36.103655127413], [-86.950077642543, 36.103279288473], [-86.950004462217, 36.10317435457], [-86.949905792351, 36.102849868032], [-86.949926540081, 36.102595900741], [-86.949927350825, 36.102585970237], [-86.949967367999, 36.102337311688], [-86.947026958717, 36.099864612609], [-86.947017299687, 36.099856491048], [-86.947015666203, 36.099855115987], [-86.946573976865, 36.09983221165], [-86.944392638277, 36.099719648306], [-86.944264017785, 36.099715747256], [-86.943793698502, 36.099668973483], [-86.942242788468, 36.099514722132], [-86.942331781972, 36.099010429813], [-86.940910155447, 36.098839117389], [-86.940691546517, 36.098924235293], [-86.941741448971, 36.094239464716], [-86.941700772588, 36.094234561062], [-86.941361808147, 36.094194077872], [-86.938948456464, 36.093911805797], [-86.938085852902, 36.093805468745], [-86.93720199275, 36.095757201053], [-86.935520729256, 36.099437943478], [-86.9353737832, 36.099751115391], [-86.9351314788, 36.100255266727], [-86.934792193152, 36.100884477612], [-86.934691685256, 36.101045277459], [-86.934624953784, 36.101151790874], [-86.93441312868, 36.101489957436], [-86.93380676392, 36.102365733055], [-86.933614917674, 36.102628198279], [-86.933561883559, 36.102700263833], [-86.933372366262, 36.102920817053], [-86.933246857317, 36.103067158145], [-86.933071818604, 36.103271802097], [-86.932892238271, 36.103473962113], [-86.932750352313, 36.103628065287], [-86.933283753414, 36.10390243369], [-86.933276841981, 36.104035678987], [-86.933248727937, 36.10456213697], [-86.933244592254, 36.104660265862], [-86.93329535051, 36.105241316892], [-86.933228694327, 36.10525692661], [-86.933163477632, 36.105272300229], [-86.933196679609, 36.105429349944], [-86.933305128984, 36.105944355264], [-86.933684150622, 36.107104173662], [-86.933954422749, 36.107812149014], [-86.93400866626, 36.107912274726], [-86.934342877017, 36.108531340835], [-86.932334830269, 36.108404472488], [-86.932191468231, 36.108576011103], [-86.931870028683, 36.108381102614], [-86.931342674291, 36.108330625178], [-86.931456081994, 36.109429181048], [-86.932050514932, 36.109465852607], [-86.932051671885, 36.1095208588], [-86.931208086796, 36.110181055046], [-86.930798285417, 36.110509613218], [-86.930473678786, 36.110723788148], [-86.929317329999, 36.110289423646], [-86.929305968158, 36.110516176794], [-86.929305724556, 36.110586008351], [-86.929647550225, 36.110715099849], [-86.929766177241, 36.110831554511], [-86.93013248668, 36.111704402223], [-86.930091211245, 36.111698552036], [-86.929912093214, 36.111673163944], [-86.929456774013, 36.111608625063], [-86.929407269896, 36.111610334911], [-86.929339092775, 36.111608423312], [-86.929328612453, 36.111557813446], [-86.929241311887, 36.111551212444], [-86.927283251711, 36.111333324406], [-86.927351473467, 36.110913034986], [-86.927414608954, 36.110521356657], [-86.927500477566, 36.10998884709], [-86.925720424398, 36.109841187048], [-86.924753396371, 36.109937863379], [-86.925005500363, 36.109749914924], [-86.926216491058, 36.108840013765], [-86.927182663707, 36.108106654833], [-86.928595102943, 36.107055359844], [-86.929428502053, 36.106352751017], [-86.928791732667, 36.106227403329], [-86.928040039213, 36.106099126748], [-86.928301683781, 36.105081765424], [-86.92888956479, 36.10278281579], [-86.928894596516, 36.102749811175], [-86.928901839531, 36.102703327896], [-86.928767193972, 36.102681838851], [-86.92885576877, 36.10212183589], [-86.928860179897, 36.102093779786], [-86.928908439683, 36.101966531839], [-86.928908453312, 36.101966491099], [-86.928818612473, 36.101961881651], [-86.928708270544, 36.101956219555], [-86.928470238238, 36.10194427774], [-86.928076902462, 36.101924543549], [-86.926749521227, 36.101857707084], [-86.926126910638, 36.101826350772], [-86.926126941225, 36.101826312764], [-86.926356946605, 36.101525194996], [-86.926556025286, 36.101264558485], [-86.926966744105, 36.100727169633], [-86.926966812875, 36.100727079822], [-86.926969275095, 36.100723838138], [-86.927067495476, 36.100594991808], [-86.927066970576, 36.100594853335], [-86.927066476113, 36.100594724357], [-86.926800955224, 36.100577815068], [-86.926800886063, 36.100577811021], [-86.926998773355, 36.100217785018], [-86.927001096373, 36.100213373428], [-86.927023222541, 36.100173279149], [-86.92704418785, 36.100135297081], [-86.92718008661, 36.099887832369], [-86.927311817063, 36.099648315926], [-86.927343503686, 36.099590709341], [-86.927418414281, 36.099454421427], [-86.927425528701, 36.099454915571], [-86.927346001956, 36.098934931215], [-86.927315228256, 36.0987346357], [-86.927276082433, 36.098686861471], [-86.927199523141, 36.09845009577], [-86.927241111095, 36.09829111335], [-86.927252017811, 36.09824942493], [-86.927364458498, 36.098022468064], [-86.927429414466, 36.097816202392], [-86.927429737352, 36.097815106769], [-86.927669579248, 36.097830842591], [-86.927994787676, 36.097851965912], [-86.928863743287, 36.097934566293], [-86.930264593644, 36.09805098401], [-86.931291754748, 36.098141034824], [-86.931386111034, 36.097669232451], [-86.931468017025, 36.09726421741], [-86.931501283238, 36.097099130311], [-86.930376246704, 36.096532012264], [-86.930045953228, 36.095613711693], [-86.929558076034, 36.095083426286], [-86.929489504729, 36.095008956825], [-86.929431564267, 36.094945944031], [-86.928496255479, 36.093926808755], [-86.930370696752, 36.092792894642], [-86.930253120083, 36.092782263131], [-86.928274955906, 36.092600536635], [-86.925474780358, 36.092343499004], [-86.925374476417, 36.092333280176], [-86.923479401697, 36.09213462922], [-86.922509471836, 36.09207561481], [-86.922013989809, 36.092063429257], [-86.918470488952, 36.091798536195], [-86.916033849402, 36.091616327906], [-86.916001883355, 36.091613938054], [-86.915921573161, 36.091607915452], [-86.914920881813, 36.091532862651], [-86.914573118712, 36.091506854908], [-86.91406987157, 36.091469223189], [-86.913063099891, 36.091393928088], [-86.912768034512, 36.0913717118], [-86.91252955366, 36.093181144842], [-86.912021629275, 36.092986644629], [-86.911242371321, 36.093038688919], [-86.910963894649, 36.093075956117], [-86.910734073333, 36.093106263159], [-86.910562386666, 36.093010859861], [-86.910229490261, 36.092789205292], [-86.909490072168, 36.092300295951], [-86.908703760983, 36.091972170597], [-86.908334935509, 36.091212338223], [-86.908326636289, 36.091197017234], [-86.907386384714, 36.090665654377], [-86.906849493043, 36.090362011308], [-86.906495981757, 36.08999325156], [-86.906441308751, 36.089947512625], [-86.905361552173, 36.08905236014], [-86.905317237936, 36.089024671293], [-86.90525931871, 36.088988235294], [-86.905167921897, 36.088930737798], [-86.90495243023, 36.08879170371], [-86.903802905335, 36.088424507798], [-86.903715104843, 36.088396316171], [-86.903294709215, 36.088261295776], [-86.903082728114, 36.088192556443], [-86.903082697354, 36.088192517756], [-86.90237700614, 36.08732534166], [-86.902297293894, 36.087220448479], [-86.902374780194, 36.086498636431], [-86.902476033855, 36.085555430711], [-86.902502819313, 36.085291500031], [-86.901692673665, 36.085717330954], [-86.900284035784, 36.085894884673], [-86.899594581496, 36.085981346707], [-86.898378728295, 36.086207987235], [-86.897946963834, 36.085378265797], [-86.897531648268, 36.08504510313], [-86.897262978623, 36.084989964251], [-86.896481265944, 36.08433865887], [-86.896456481216, 36.084280095737], [-86.896570103809, 36.084255672225], [-86.896709077913, 36.084204721099], [-86.896899689118, 36.084118829865], [-86.897179826065, 36.084001553773], [-86.897408167862, 36.083905779628], [-86.897679039253, 36.083805849814], [-86.89789548949, 36.083704406827], [-86.898001264349, 36.083646022549], [-86.898093250468, 36.083575847977], [-86.89828475897, 36.083407765975], [-86.898452845177, 36.083212607519], [-86.898597303916, 36.083019543922], [-86.898755778009, 36.082811015599], [-86.898914249187, 36.082602489935], [-86.899019172433, 36.082469236646], [-86.899105416796, 36.082357240783], [-86.899224291492, 36.082202765032], [-86.899322295156, 36.08208492027], [-86.899443706792, 36.081945784281], [-86.899619184468, 36.081773338331], [-86.899811385019, 36.081614670801], [-86.900076589208, 36.081441896136], [-86.900201102723, 36.08136801104], [-86.900268599413, 36.081265214187], [-86.900305686808, 36.081188615361], [-86.900324665663, 36.081163239235], [-86.900344194716, 36.081119596666], [-86.900399642949, 36.080985257853], [-86.900403694901, 36.080919753562], [-86.900420983117, 36.080628653614], [-86.900205809926, 36.080704206053], [-86.899965535858, 36.080779714833], [-86.899772720079, 36.080862195285], [-86.899392048786, 36.081016815247], [-86.899319636458, 36.0810475742], [-86.89923318277, 36.081083932736], [-86.899165819005, 36.081112365784], [-86.899087228416, 36.081145459975], [-86.899009228129, 36.081181066799], [-86.898956202149, 36.081205499856], [-86.898839767894, 36.081259022477], [-86.898760928692, 36.081295094398], [-86.898684396277, 36.081335956603], [-86.898584880497, 36.081389123358], [-86.898513394959, 36.081427200675], [-86.898460419736, 36.081456211734], [-86.898392315489, 36.081494033705], [-86.898219988921, 36.081592843638], [-86.898069036155, 36.081686684287], [-86.898019190608, 36.081717961135], [-86.897941055481, 36.081766618419], [-86.897893166208, 36.081796507063], [-86.897823710904, 36.081839605304], [-86.897769147324, 36.081877785083], [-86.897699205466, 36.08192775363], [-86.897641564425, 36.081968016634], [-86.897594560435, 36.082001333088], [-86.89754335529, 36.082037428532], [-86.897500268219, 36.082067968056], [-86.897438153702, 36.082111697067], [-86.89737805759, 36.08215953348], [-86.897309861571, 36.082214297475], [-86.897212867269, 36.082291253028], [-86.89704590798, 36.082441070402], [-86.896925293545, 36.082549335937], [-86.896815842702, 36.082647217029], [-86.896703321235, 36.082747867443], [-86.896629613319, 36.082814118532], [-86.896579357486, 36.082859132473], [-86.896509274128, 36.082921695369], [-86.896432171948, 36.082987284782], [-86.896382723168, 36.083028858686], [-86.896268745974, 36.083125628263], [-86.896160634539, 36.083217317097], [-86.896117067496, 36.083255414365], [-86.896071836757, 36.083296041066], [-86.895902648613, 36.083448851732], [-86.895846253497, 36.083499863152], [-86.895785388905, 36.083554572348], [-86.895667849928, 36.083660753351], [-86.895599170009, 36.083722845692], [-86.895496151212, 36.083816098012], [-86.895341198859, 36.0839559809], [-86.895298484787, 36.083994758315], [-86.895230923422, 36.084055926411], [-86.895189611555, 36.084094006584], [-86.89509002939, 36.084192041125], [-86.895044285155, 36.084237249833], [-86.895013117966, 36.08426807768], [-86.894644706695, 36.084022640547], [-86.894799360593, 36.082368803089], [-86.894836527007, 36.082063043648], [-86.894859357994, 36.081926613915], [-86.894951751648, 36.081235840884], [-86.894802138727, 36.081208983009], [-86.894762898273, 36.081201937034], [-86.894599072378, 36.081172527656], [-86.894569219654, 36.081166155982], [-86.894330492058, 36.081123972536], [-86.894278932319, 36.081113366354], [-86.894102592795, 36.081081708315], [-86.893926253405, 36.081050049445], [-86.893855717274, 36.081037386629], [-86.893652233398, 36.080999335995], [-86.893494846839, 36.080967536582], [-86.893426794197, 36.080935074984], [-86.893321811238, 36.080868546919], [-86.893227736801, 36.080809080561], [-86.893131969561, 36.08074935367], [-86.893064145879, 36.080706999251], [-86.892875991766, 36.080587518956], [-86.892698740286, 36.080474549679], [-86.892622067973, 36.080427866219], [-86.892606055025, 36.080418094427], [-86.892540365439, 36.080354846639], [-86.892343424971, 36.080176091895], [-86.892264102652, 36.080104153373], [-86.892154351746, 36.080004694227], [-86.89196869482, 36.079836017575], [-86.892105599139, 36.079731711362], [-86.892110965515, 36.079727277913], [-86.892371336062, 36.079527554804], [-86.892569961063, 36.079374441147], [-86.892642436494, 36.079318961326], [-86.892649125753, 36.079191444091], [-86.892711685403, 36.07921735247], [-86.892798935045, 36.077968472238], [-86.892900915419, 36.077987593831], [-86.892977468255, 36.07769993807], [-86.893449594743, 36.077447895674], [-86.893446956799, 36.077431744739], [-86.893361777993, 36.077320292309], [-86.89323966413, 36.077294824391], [-86.893235080698, 36.077297075541], [-86.892284928035, 36.077137065389], [-86.889984858461, 36.077721083696], [-86.889576086153, 36.078207598196], [-86.8895273716, 36.078324369165], [-86.889490421261, 36.078445310267], [-86.889465218253, 36.078581755394], [-86.889463715211, 36.078599836506], [-86.8894588529, 36.078658365728], [-86.88945710197, 36.078679432199], [-86.889457089624, 36.078684878536], [-86.889457013109, 36.078718157519], [-86.889456881983, 36.078774392294], [-86.889457968081, 36.07878525388], [-86.889477849458, 36.078983928368], [-86.889489232477, 36.07908941719], [-86.889492548547, 36.079120170078], [-86.889504278642, 36.079228884249], [-86.889366211311, 36.079134935235], [-86.88926341636, 36.078572530171], [-86.889355018348, 36.077807044825], [-86.88980070154, 36.077232345986], [-86.890056962155, 36.076907388629], [-86.889560685302, 36.076348433369], [-86.889345560287, 36.076093230708], [-86.888543972705, 36.076547957351], [-86.888322594758, 36.076673898447], [-86.887826060281, 36.076958681815], [-86.887283631888, 36.077275622731], [-86.886816286992, 36.077548511575], [-86.886322417465, 36.077845632373], [-86.885969942778, 36.078127288344], [-86.885695024274, 36.07835892576], [-86.88546055267, 36.078576070658], [-86.88522088123, 36.078858041585], [-86.885026682967, 36.079121134294], [-86.884775968811, 36.079475527195], [-86.884587860044, 36.079829687401], [-86.884368203876, 36.080314342074], [-86.88406324242, 36.081116458989], [-86.884012234037, 36.081246636788], [-86.883959849289, 36.081379799595], [-86.883934344025, 36.081444773727], [-86.883911033603, 36.081504237447], [-86.8838855359, 36.0815698983], [-86.883847953529, 36.081664722395], [-86.883829860945, 36.081711556705], [-86.883797769631, 36.081792832524], [-86.883778574445, 36.081841964205], [-86.883718793833, 36.081994869628], [-86.883701240058, 36.082039638452], [-86.883664482898, 36.082132626133], [-86.883639805326, 36.082195990468], [-86.883614850822, 36.082259816404], [-86.883587156568, 36.082330758661], [-86.883540814108, 36.082449454957], [-86.883500760884, 36.082550476982], [-86.883473339397, 36.082620731564], [-86.883453595061, 36.082671239637], [-86.883417670595, 36.08276307533], [-86.883396279984, 36.082817717334], [-86.883377079211, 36.082866391117], [-86.883355962914, 36.082920344313], [-86.883335136219, 36.082974981028], [-86.883309924685, 36.083041099209], [-86.883293223688, 36.083086320715], [-86.883266367239, 36.083156569381], [-86.883238975865, 36.083229569686], [-86.883210212578, 36.083306013979], [-86.883189103686, 36.083360653873], [-86.883164176859, 36.083427224928], [-86.883134582691, 36.08350505058], [-86.883116766173, 36.083551423729], [-86.883092105556, 36.083616392025], [-86.883064712729, 36.083689163361], [-86.88304443694, 36.083742652474], [-86.883021976295, 36.083802567614], [-86.88293018149, 36.084044302211], [-86.882899766259, 36.084124421954], [-86.882878941492, 36.084179288629], [-86.882855360186, 36.084239898725], [-86.882814790205, 36.084345273912], [-86.882793411486, 36.084401061488], [-86.882764891187, 36.084474068778], [-86.882738581166, 36.084542940862], [-86.882719665539, 36.084591841356], [-86.882693073421, 36.08466071492], [-86.882623164842, 36.084841852722], [-86.882579565851, 36.084953888941], [-86.881918861109, 36.086662858828], [-86.881829284911, 36.086640041866], [-86.880645301823, 36.086571775175], [-86.880233487527, 36.086548409686], [-86.879734915456, 36.086514687234], [-86.879236293758, 36.086476568213], [-86.878136123389, 36.086396675368], [-86.873242050318, 36.086019050023], [-86.873160766724, 36.086014144399], [-86.873111999258, 36.086011201551], [-86.873115872209, 36.086079570714], [-86.873064496659, 36.086073623722], [-86.872923876811, 36.086060388752], [-86.872607363169, 36.086019922766], [-86.872296651638, 36.08597466083], [-86.872050685156, 36.085962186385], [-86.871732776695, 36.086012160987], [-86.87155523722, 36.085948199642], [-86.871409142135, 36.085940113332], [-86.870753509731, 36.085896447575], [-86.870163637849, 36.085860519373], [-86.869582992697, 36.085819498463], [-86.869041092634, 36.085784474456], [-86.868821245077, 36.085770989035], [-86.868581240368, 36.085611969882], [-86.868416391777, 36.085507495622], [-86.868102823997, 36.085306463424], [-86.867795545273, 36.085190320187], [-86.867538384098, 36.084963013235], [-86.867483844917, 36.084927462617], [-86.867086684914, 36.084690173304], [-86.867037047487, 36.08426620987], [-86.866997290119, 36.083390601377], [-86.866993894381, 36.083279087991], [-86.866831690488, 36.083159693243], [-86.866750678665, 36.083108368231], [-86.866772345235, 36.083014443008], [-86.866798174754, 36.082923836513], [-86.866834498269, 36.082817055104], [-86.866857062909, 36.082731593215], [-86.86691627236, 36.082380417924], [-86.866951268576, 36.081979487183], [-86.866994743336, 36.081615817784], [-86.867028271807, 36.081285708808], [-86.867072696105, 36.081009103518], [-86.867108178748, 36.08085814749], [-86.867172190686, 36.080675170768], [-86.867270865981, 36.080455107607], [-86.867386112805, 36.080241622458], [-86.867525213237, 36.07994591777], [-86.867666084945, 36.079623407947], [-86.867790582651, 36.07931273641], [-86.867885110687, 36.079091027881], [-86.868056439703, 36.078724763281], [-86.868209866643, 36.07841890678], [-86.86833345053, 36.078213733642], [-86.868485469485, 36.077968167493], [-86.868720495331, 36.077579672858], [-86.868973752429, 36.077160908849], [-86.869283673697, 36.076697264926], [-86.86946340015, 36.076401311636], [-86.869466151624, 36.076396784164], [-86.86950556923, 36.076331873568], [-86.869740722487, 36.075939684308], [-86.869875599662, 36.075715046164], [-86.869983340123, 36.075536160724], [-86.870611775366, 36.074493197485], [-86.870760740015, 36.074268000355], [-86.871092965208, 36.073782100171], [-86.871254322839, 36.073555667027], [-86.87137206737, 36.073081159872], [-86.871418091286, 36.072829232548], [-86.871402104513, 36.072580043901], [-86.871382348737, 36.072270214878], [-86.871394335746, 36.071897431261], [-86.871455844629, 36.071566411034], [-86.871531928414, 36.071227502322], [-86.87161065429, 36.070872319244], [-86.871630945947, 36.070768468324], [-86.871651288938, 36.070736001446], [-86.871894498066, 36.07034784915], [-86.872080515222, 36.069902607968], [-86.872164455962, 36.069432006983], [-86.872121413236, 36.068773227714], [-86.871846769376, 36.067951295005], [-86.871622786193, 36.067197215899], [-86.871512488847, 36.066293280702], [-86.871605626407, 36.065684339245], [-86.871995688732, 36.064871333306], [-86.872533408647, 36.063922417048], [-86.8729218675, 36.06322182301], [-86.872990439408, 36.063098391818], [-86.873589603137, 36.061662318686], [-86.873830686051, 36.060971260273], [-86.874264540837, 36.059658173533], [-86.874451775642, 36.059198953674], [-86.874862328126, 36.058191276424], [-86.874875300016, 36.05815943642], [-86.87497639413, 36.057911302104], [-86.875186673452, 36.05736926835], [-86.875697256061, 36.055475277137], [-86.876019642527, 36.054260286964], [-86.876160717066, 36.053503330296], [-86.87618250333, 36.053407935978], [-86.876184692368, 36.053299635625], [-86.876225142572, 36.052800499935], [-86.876229563071, 36.052741175761], [-86.87629783932, 36.052183460774], [-86.876318258176, 36.051989865987], [-86.876344531989, 36.051739223586], [-86.876401251981, 36.05146294782], [-86.876454991139, 36.05124873635], [-86.876493071941, 36.051097365326], [-86.876606780364, 36.05074833321], [-86.876640007182, 36.050642554758], [-86.876690027781, 36.050500252901], [-86.876718048126, 36.050413703035], [-86.877332183105, 36.050479179736], [-86.878290939643, 36.050582085637], [-86.879199629062, 36.050677456784], [-86.880307346509, 36.05079967539], [-86.880712911773, 36.050842009753], [-86.880714381936, 36.050834757337], [-86.881636091251, 36.050952296896], [-86.881767339923, 36.049985429174], [-86.88185834336, 36.0499904448], [-86.882470736939, 36.050058484696], [-86.882725454628, 36.050087387633], [-86.883093978494, 36.050128643744], [-86.883443537407, 36.050167840016], [-86.884042401579, 36.050235972838], [-86.884240194202, 36.050256500893], [-86.884257916048, 36.050146480309], [-86.884313903482, 36.04982739855], [-86.884367211577, 36.049510530708], [-86.884377377218, 36.049451117626], [-86.884458641561, 36.04897141386], [-86.884466269333, 36.048927403017], [-86.884555137221, 36.048401490132], [-86.884636374976, 36.047919590282], [-86.884641446041, 36.047888782356], [-86.884715027253, 36.047448693437], [-86.88472094307, 36.047413309827], [-86.889917672528, 36.048098280424], [-86.891241610172, 36.048268711564], [-86.892643992228, 36.048435251128], [-86.89304568851, 36.048478427117], [-86.894212622605, 36.048621125343], [-86.908634213953, 36.050383694181], [-86.912912558939, 36.050906233519], [-86.913371588932, 36.050962287525], [-86.919611368402, 36.051763485326], [-86.920210829448, 36.051840439214], [-86.92234190753, 36.052113984617], [-86.922994547384, 36.052197749662], [-86.923535761308, 36.052267210361], [-86.925385560358, 36.052504548847], [-86.926679999088, 36.052670614938], [-86.928658968246, 36.052924473717], [-86.928705466561, 36.052895391848], [-86.929005811027, 36.05270754112], [-86.930937649125, 36.051499236976], [-86.931311246601, 36.051265551677], [-86.931382923968, 36.051220717635], [-86.936447303039, 36.048054041804], [-86.938680921848, 36.046613398111], [-86.939243536231, 36.046257016336], [-86.939792669887, 36.045819501861], [-86.940347072732, 36.045473315977], [-86.941520421557, 36.044864104259], [-86.941525732922, 36.044861345898], [-86.941531741228, 36.044858226673], [-86.941763016831, 36.044714514736], [-86.942094410509, 36.044508589494], [-86.942094646775, 36.044508426249], [-86.944557622681, 36.042819940322], [-86.944566533872, 36.042813831213], [-86.944669092378, 36.042746444894], [-86.945116553726, 36.042452437694], [-86.945657474746, 36.042031855341], [-86.946137048171, 36.041706559178], [-86.946591884975, 36.041403431828], [-86.947488796499, 36.040780378615], [-86.948200202162, 36.040328004858], [-86.948551422167, 36.040076482105], [-86.950456261543, 36.039084271906], [-86.951305306525, 36.03864199592], [-86.952006634598, 36.038249732575], [-86.952355257369, 36.038020279014], [-86.95279526133, 36.037742080169], [-86.962924522909, 36.031431131209], [-86.963047510012, 36.031354494617], [-86.963516054428, 36.031051275107], [-86.963870166926, 36.030822429094], [-86.963872448222, 36.030820955394], [-86.964778231782, 36.030234700493], [-86.96477828143, 36.030234669189], [-86.964895295101, 36.03015893242], [-86.965499559006, 36.029781443709], [-86.966198386299, 36.029344874255], [-86.967288616296, 36.028663771524], [-86.967905420684, 36.028278424327], [-86.968541585996, 36.027880971299], [-86.968550870875, 36.027874938636], [-86.968970279799, 36.027602418159], [-86.970001778891, 36.026963329656], [-86.970754852284, 36.026473478817], [-86.972052744155, 36.025656733927], [-86.975953003002, 36.023141331441], [-86.977668170842, 36.022054984118], [-86.979908900124, 36.020635676265], [-86.98103634377, 36.019921013378], [-86.983383664787, 36.018433236917], [-86.984007198978, 36.018038011274], [-86.984104500616, 36.017976227463], [-86.988476953285, 36.015203091821], [-86.989827107671, 36.014354649798], [-86.990837125034, 36.013705961779], [-86.991130363251, 36.013517624294], [-86.991136268689, 36.013513830313], [-86.99196062659, 36.012984364587], [-86.99407192903, 36.011627958356], [-86.994109281009, 36.011604236241], [-86.998542938194, 36.008788248952], [-86.998956398858, 36.008525754066], [-86.999103805953, 36.008432169401], [-86.999151033252, 36.00840218535], [-86.9991588233, 36.008397240953], [-86.999161821349, 36.008395337662], [-86.999610999195, 36.008110163942], [-87.002928391039, 36.006004575814], [-87.002944559293, 36.005994313033], [-87.003674866442, 36.005530751497], [-87.003908833654, 36.005382235299], [-87.004135307615, 36.005238480027], [-87.004387023157, 36.005078871741], [-87.004387067175, 36.005078843329], [-87.004470729649, 36.005025794142], [-87.005219697477, 36.004548478833], [-87.007017981479, 36.003402389579], [-87.007043884334, 36.003385877859], [-87.007048980261, 36.003382632999], [-87.007302847701, 36.003220832433], [-87.007341070404, 36.003196626641], [-87.008391714269, 36.002531285879], [-87.009166356814, 36.00204071535], [-87.009681974463, 36.00171417671], [-87.009697516601, 36.001704332623], [-87.010596484181, 36.00113500628], [-87.012542487446, 35.999902355517], [-87.014197146839, 35.998854197101], [-87.014510878395, 35.998653395903], [-87.01443653036, 35.99874998345], [-87.014194193233, 35.999046531415], [-87.012426336175, 36.004010836445], [-87.014606825383, 36.004254025124], [-87.015446554897, 36.00435024462], [-87.016427092498, 36.004458456257], [-87.016998651475, 36.004523962014], [-87.017426618143, 36.004570899129], [-87.018442403465, 36.00468538831], [-87.019133136914, 36.004763061238], [-87.018803334257, 36.006677932072], [-87.018455990208, 36.008702838431], [-87.019950587067, 36.009289639537], [-87.021179241344, 36.010730046904], [-87.021397939933, 36.011856430726], [-87.021395539436, 36.011801010646], [-87.021966752557, 36.011997336279], [-87.022930707067, 36.012328639527], [-87.024203141639, 36.012194439282], [-87.024699960105, 36.012111573578], [-87.025584422466, 36.01204713831], [-87.026156317043, 36.011295435388], [-87.02645894648, 36.011184157117], [-87.026483441229, 36.011056557082], [-87.02652673687, 36.010983196773], [-87.026673703232, 36.010770424347], [-87.026861418516, 36.010553168028], [-87.027242200518, 36.010148649911], [-87.02792290792, 36.009705931018], [-87.028159777951, 36.009771283179], [-87.02879834894, 36.009723801305], [-87.030272995195, 36.009473192975], [-87.030240232909, 36.009433354292], [-87.030117992251, 36.00928470764], [-87.030330982377, 36.009174390963], [-87.030925443642, 36.008866485495], [-87.030989300807, 36.008833409839], [-87.031421504528, 36.008609543162], [-87.031421674813, 36.00860974603], [-87.031522640418, 36.00872912657], [-87.031617579777, 36.00884138089], [-87.033240612715, 36.008427470246], [-87.034600672462, 36.007969642947], [-87.034805371434, 36.007901950592], [-87.03486883958, 36.008050306017], [-87.034905457462, 36.008135982474], [-87.035410947687, 36.00774647202], [-87.035538156956, 36.007648399485], [-87.035915975393, 36.007633063887], [-87.036473243618, 36.007610687399], [-87.036624301804, 36.007604441803], [-87.036706429199, 36.007446043572], [-87.036757795362, 36.007443953097], [-87.037220083411, 36.007424038427], [-87.03722513675, 36.007422624148], [-87.037225812208, 36.007422618332], [-87.037608597005, 36.00732151768], [-87.03819321814, 36.007167303861], [-87.039098937071, 36.006719936838], [-87.038979995779, 36.00651876203], [-87.039357028798, 36.006288312841], [-87.039463778958, 36.005867336222], [-87.039492459529, 36.005604179888], [-87.039493063827, 36.005598677886], [-87.039590655979, 36.004632452345], [-87.039689738557, 36.003651104333], [-87.039699609619, 36.003552667008], [-87.039699662658, 36.003552736949], [-87.0397540814, 36.003013470211], [-87.039895230687, 36.003049187228], [-87.039923621124, 36.003052029893], [-87.040169869121, 36.003076701732], [-87.04048510127, 36.000593646706], [-87.041103650334, 36.000632995653], [-87.041540640571, 36.000643259227], [-87.042445574635, 36.00068288298], [-87.042908797427, 36.002564616681], [-87.042908848823, 36.00256482972], [-87.042995550194, 36.002917028024], [-87.04336419657, 36.004419606635], [-87.043608182545, 36.005413961627], [-87.043689964311, 36.005747273342], [-87.044015767755, 36.007077848934], [-87.044339489778, 36.008399881429], [-87.044701798374, 36.009880253389], [-87.044773246265, 36.010171390211], [-87.045291096164, 36.012279420278], [-87.045344670986, 36.012497503359], [-87.04568496715, 36.013882702054], [-87.046315992617, 36.016506884553], [-87.047008991077, 36.019365689059], [-87.047192790626, 36.020123429193], [-87.048339959315, 36.024848595384], [-87.049780680876, 36.030330526162], [-87.049824144285, 36.030497179424], [-87.051047227414, 36.035144729709], [-87.051222953261, 36.035812421673], [-87.052055165696, 36.039094145663], [-87.052618074534, 36.041294706117], [-87.052741518306, 36.041778239137], [-87.054018799536, 36.046776920162], [-87.054381365155, 36.04819900924], [-87.054647057054, 36.049219281506], [-87.054850469265, 36.050000381556], [-87.054681075268, 36.049982084696], [-87.05448479606, 36.049977207813], [-87.054385950794, 36.049972578217], [-87.054307356804, 36.049964475275], [-87.054238177244, 36.049951893221], [-87.054176984117, 36.049929352399], [-87.054093909829, 36.049889420695], [-87.053996169298, 36.049866099413], [-87.053863279533, 36.049845283785], [-87.053714007628, 36.04981362235], [-87.053498137186, 36.049757976453], [-87.053375906237, 36.049726468546], [-87.053168162743, 36.049673339711], [-87.053121301445, 36.049665751368], [-87.052453494086, 36.049557606936], [-87.052157513208, 36.049483269128], [-87.051845310983, 36.049410171071], [-87.051672834813, 36.049363325187], [-87.051519187154, 36.049307523651], [-87.051357273329, 36.049240805137], [-87.051212849584, 36.049166241613], [-87.051087338072, 36.049089314615], [-87.051010784338, 36.049030642225], [-87.050938245519, 36.048968638676], [-87.050854519352, 36.048879259243], [-87.050793826561, 36.048818784619], [-87.050773615655, 36.048798646834], [-87.050703565378, 36.048720137523], [-87.050651148138, 36.048644771684], [-87.050601378934, 36.048564986604], [-87.050545486751, 36.048431408692], [-87.050393011874, 36.048054719588], [-87.050253162303, 36.047814183202], [-87.050006069791, 36.047342714692], [-87.049950541667, 36.047236606142], [-87.049906273833, 36.0471633656], [-87.049842961814, 36.047082599292], [-87.049777147119, 36.047017239217], [-87.049686890844, 36.046945499238], [-87.049605043614, 36.046895663185], [-87.049523385116, 36.046860111008], [-87.049466269893, 36.046838630614], [-87.049095683595, 36.046749550581], [-87.048961722872, 36.046749617829], [-87.04847898007, 36.046774697824], [-87.047947921095, 36.04682986609], [-87.047863204016, 36.046870162242], [-87.047727275134, 36.046926288629], [-87.04749731806, 36.047028974094], [-87.047222811968, 36.04715155098], [-87.047120456396, 36.047187601457], [-87.047043674401, 36.047214644828], [-87.046926397593, 36.047248630436], [-87.046737469489, 36.047287633874], [-87.046294204992, 36.047331043864], [-87.046106355297, 36.047349158037], [-87.045967082071, 36.047356960293], [-87.045833178151, 36.047361418549], [-87.045731645806, 36.047357904667], [-87.045625879564, 36.047341239614], [-87.045496868026, 36.047306096159], [-87.045271401894, 36.047242118641], [-87.044949339299, 36.047138319426], [-87.044821232883, 36.047069101249], [-87.044743376055, 36.047013732875], [-87.044680458649, 36.046962629929], [-87.044639276627, 36.046917933019], [-87.0445979069, 36.046858951583], [-87.044519025136, 36.046725570201], [-87.044477785559, 36.046676477603], [-87.044448722253, 36.046627280031], [-87.044434325976, 36.046561471414], [-87.044366274652, 36.046222503649], [-87.0443574204, 36.04616653757], [-87.044350896715, 36.046081979009], [-87.044341248394, 36.04596558086], [-87.044342460636, 36.045926754927], [-87.044345056981, 36.045843571636], [-87.044350767872, 36.045763302599], [-87.044358293061, 36.045718183464], [-87.044360478097, 36.045698308385], [-87.044363128823, 36.045674184808], [-87.044341721779, 36.045589756367], [-87.044291007952, 36.045437449563], [-87.044276671343, 36.045388974815], [-87.044264103256, 36.045346475406], [-87.044241358579, 36.045263157425], [-87.044231180421, 36.045209400006], [-87.044219375014, 36.0451347772], [-87.044212019017, 36.045089787017], [-87.044205769156, 36.04502610497], [-87.044196785924, 36.044960249399], [-87.044193889999, 36.044944952987], [-87.044186607835, 36.044906491972], [-87.044162740652, 36.044840764795], [-87.044137565279, 36.044778346763], [-87.044104127131, 36.04470501027], [-87.044059547146, 36.044607595287], [-87.044010707045, 36.044494832731], [-87.043953677917, 36.044376647217], [-87.043901067185, 36.044285895086], [-87.043892768359, 36.044267131881], [-87.043866205061, 36.044207076406], [-87.043840740096, 36.044122683007], [-87.043823351687, 36.04403492297], [-87.043803023708, 36.043929605], [-87.043801184331, 36.043917208622], [-87.043797767898, 36.043894198718], [-87.043789663944, 36.043839612278], [-87.043787956537, 36.043815209378], [-87.043784667853, 36.043768226529], [-87.0437816594, 36.043747035417], [-87.043774229761, 36.043694691852], [-87.043758448032, 36.04363486862], [-87.043755718741, 36.043624523198], [-87.043728025062, 36.043576411886], [-87.043685462815, 36.043529527664], [-87.043628005297, 36.043481674113], [-87.043557045935, 36.043436135814], [-87.043495788709, 36.043408094563], [-87.043414252629, 36.043381328337], [-87.043325922385, 36.043352423672], [-87.043226638215, 36.043313723188], [-87.04312591538, 36.04326844116], [-87.042971076061, 36.043223628595], [-87.042803669868, 36.043149253968], [-87.042632091295, 36.043066124087], [-87.042561176098, 36.043023880351], [-87.042483382462, 36.042972906101], [-87.042412410496, 36.042926267779], [-87.042360551812, 36.04289265077], [-87.042304548631, 36.042852475673], [-87.04225261871, 36.042813365354], [-87.042182899798, 36.042759023826], [-87.042132222066, 36.042712209819], [-87.042034607914, 36.042594373224], [-87.04195907433, 36.042509312913], [-87.041913692641, 36.042453662467], [-87.041891527391, 36.042414294056], [-87.041869348458, 36.042373826296], [-87.041858020295, 36.04233546307], [-87.041842620404, 36.042296036728], [-87.041820354408, 36.042248976367], [-87.041769086034, 36.042157112797], [-87.041735795202, 36.042094764409], [-87.041697093461, 36.042032461642], [-87.04165287793, 36.041962514864], [-87.041634959583, 36.041937395271], [-87.041592457061, 36.041894906501], [-87.041177891724, 36.04226771649], [-87.040893406801, 36.046891006343], [-87.040617620777, 36.052387830565], [-87.040599438086, 36.052756115566], [-87.040543538368, 36.053898905661], [-87.040348562538, 36.057884590417], [-87.040328801543, 36.058132510082], [-87.04027413319, 36.058818378499], [-87.040129432722, 36.060633696871], [-87.040109097041, 36.060888813837], [-87.039907600206, 36.063382823185], [-87.039727101855, 36.065620611729], [-87.039465224203, 36.068881060562], [-87.03912639644, 36.07712559784], [-87.039013426975, 36.079873775475], [-87.038909706158, 36.081465847432], [-87.038871153068, 36.082054726616], [-87.038864572695, 36.082155233533], [-87.038677129889, 36.082107400098], [-87.03835928189, 36.082025524847], [-87.038193698895, 36.081992883848], [-87.037938547801, 36.081943434545], [-87.037663567454, 36.081930417263], [-87.037522894229, 36.081939319525], [-87.037182018292, 36.081959835744], [-87.036933372999, 36.081993842065], [-87.036757906944, 36.082033811878], [-87.036515006054, 36.082093041594], [-87.036301725562, 36.08213992854], [-87.035979506969, 36.082241598062], [-87.035733073402, 36.082341514514], [-87.035673004454, 36.082406865573], [-87.035589677694, 36.082557028377], [-87.035572358747, 36.082578605859], [-87.035469431018, 36.08262729059], [-87.03540568887, 36.082722340508], [-87.035346840115, 36.082881085083], [-87.035331713078, 36.082966928143], [-87.035267303359, 36.083322419795], [-87.035306794061, 36.083651742708], [-87.035360251102, 36.08422160243], [-87.035451793859, 36.085013107912], [-87.035512520791, 36.085205989588], [-87.035523827484, 36.085398195671], [-87.035533234184, 36.085548661822], [-87.035531901744, 36.085861853654], [-87.035517334133, 36.086198235582], [-87.035515091973, 36.086545500405], [-87.035522232743, 36.086574009913], [-87.035533247617, 36.086588200156], [-87.035320550118, 36.086563388693], [-87.035373116275, 36.08762362029], [-87.035439891716, 36.088146113336], [-87.035466964123, 36.08835796427], [-87.035490471997, 36.088810774174], [-87.035664212495, 36.089624099139], [-87.035684772361, 36.089721173771], [-87.035787342895, 36.090033746339], [-87.036050246248, 36.090494116701], [-87.036213298565, 36.090886663066], [-87.036355315486, 36.091228566919], [-87.036645892986, 36.092460107396], [-87.036677054685, 36.093213944244], [-87.036517643595, 36.093631238315], [-87.03649311, 36.093695459336], [-87.036248268264, 36.094040165918], [-87.036508029668, 36.094094759519], [-87.036507801445, 36.094095049364], [-87.036753655391, 36.094129747553], [-87.037570583689, 36.09424497086], [-87.037663174845, 36.094307614187], [-87.037689029801, 36.094325105349], [-87.037829277029, 36.094421919267], [-87.037987180314, 36.094374544656], [-87.038178903045, 36.094322879782], [-87.038173424484, 36.094425766915], [-87.038023218039, 36.094551198761], [-87.037989934631, 36.094578991527], [-87.037308279188, 36.095154075342], [-87.036824463916, 36.095562745265], [-87.036217326082, 36.095304780492], [-87.036134006054, 36.095256729263], [-87.036051098045, 36.09532545806], [-87.03597490347, 36.095387924477], [-87.035904580116, 36.095446218477], [-87.035801721323, 36.095540278167], [-87.035659473556, 36.095663978859], [-87.03559838268, 36.095716470065], [-87.035521668608, 36.095782147416], [-87.03548205353, 36.095815911747], [-87.035393332963, 36.095891304418], [-87.035328330298, 36.095946577975], [-87.035305440481, 36.095974406078], [-87.035432715256, 36.096029980909], [-87.036026804913, 36.096247079376], [-87.035887079222, 36.096383847851], [-87.03577991405, 36.096488786725], [-87.035779791959, 36.096488887931], [-87.035754055076, 36.096514108421], [-87.035587006688, 36.096657153885], [-87.035567695158, 36.096673691833], [-87.035567381327, 36.096673961234], [-87.035393772986, 36.096822621233], [-87.035099592393, 36.097074532039], [-87.035099279242, 36.097074799717], [-87.034744360935, 36.097378716147], [-87.034744058923, 36.097378972853], [-87.033333966602, 36.098586397864], [-87.032665619533, 36.099158666312], [-87.032643078903, 36.099177966019], [-87.03261016071, 36.09920615245], [-87.032401250224, 36.099385029961], [-87.032218012661, 36.099541923334], [-87.032118586604, 36.099535868619], [-87.031450174131, 36.099495159661], [-87.030788904488, 36.099456858987], [-87.02978072568, 36.099397342989], [-87.029833487879, 36.098245270958], [-87.02831159379, 36.098247269798], [-87.027650845751, 36.098248508177], [-87.02696028687, 36.098247796779], [-87.026299538805, 36.098249027753], [-87.026175660462, 36.09824928703], [-87.025614423103, 36.098250460642], [-87.026596305674, 36.095281737065], [-87.026449191221, 36.095213211466], [-87.025891367088, 36.094952030877], [-87.025808950336, 36.094913173682], [-87.025577039142, 36.09480484965], [-87.025443886316, 36.094742655396], [-87.02545685701, 36.094698589521], [-87.024119167806, 36.094070413516], [-87.02413230914, 36.094039533404], [-87.023623189397, 36.093800729792], [-87.023546659156, 36.093770477018], [-87.023397776439, 36.094905232931], [-87.02339585803, 36.094922778553], [-87.023389567872, 36.094981898166], [-87.023381896949, 36.095043317102], [-87.023377613961, 36.095073828907], [-87.023269838854, 36.09506386411], [-87.023226465118, 36.095055195647], [-87.023189409231, 36.095047788776], [-87.021751544786, 36.094761911915], [-87.021632767371, 36.09473819364], [-87.021418934486, 36.094695686171], [-87.021337186071, 36.09467943477], [-87.020338100186, 36.094479107394], [-87.020215613045, 36.095273529879], [-87.020350408426, 36.095302012585], [-87.020625627417, 36.095360168431], [-87.020625595852, 36.095360401064], [-87.020587307397, 36.095618178759], [-87.020510956363, 36.096130350817], [-87.021040365425, 36.096235756639], [-87.02098026874, 36.096616473014], [-87.02091176527, 36.096975288739], [-87.020889119641, 36.097109543062], [-87.020783332172, 36.097728005043], [-87.020783319547, 36.097728065245], [-87.020740841189, 36.097977534874], [-87.020694710804, 36.098246858601], [-87.020667473137, 36.098405891806], [-87.019767473334, 36.098321731907], [-87.019395873703, 36.098286982154], [-87.019320364388, 36.098733768119], [-87.019272697915, 36.099028660431], [-87.0192274824, 36.099303764289], [-87.019166979945, 36.099653716656], [-87.019104163217, 36.100034457526], [-87.019031246287, 36.100472425621], [-87.018953196914, 36.10093241329], [-87.018885385311, 36.101346161138], [-87.018812043658, 36.101777542154], [-87.018804231024, 36.101775408124], [-87.018800121094, 36.101797969727], [-87.018760028657, 36.102024126667], [-87.018728886241, 36.1022353732], [-87.018643582748, 36.102763552351], [-87.018558081533, 36.103276348255], [-87.018440082801, 36.104000403538], [-87.020132659343, 36.104205871583], [-87.020214370444, 36.104215620212], [-87.020182508935, 36.104502420541], [-87.020177802013, 36.104531305739], [-87.020171742502, 36.104560201235], [-87.020164323383, 36.10458883523], [-87.020155548144, 36.104617204834], [-87.020145753192, 36.104645309489], [-87.020134258691, 36.104672878512], [-87.020121409514, 36.104700460709], [-87.020107535622, 36.104727223985], [-87.020092302107, 36.104753725186], [-87.020075708965, 36.104779689595], [-87.020074730386, 36.104808817969], [-87.020075100854, 36.104837660213], [-87.02007648893, 36.104866768568], [-87.020079230287, 36.104895590758], [-87.020082985726, 36.10492440437], [-87.020088093744, 36.104953206541], [-87.020094217961, 36.104981725398], [-87.020101687699, 36.105009957583], [-87.020110173654, 36.105038182316], [-87.020120012185, 36.105066120317], [-87.020130861974, 36.105093774473], [-87.020142720222, 36.105120871806], [-87.020155931757, 36.105147957117], [-87.020170153852, 36.105174484443], [-87.020179529017, 36.105192811805], [-87.020187892912, 36.105211421294], [-87.020194906353, 36.105230317497], [-87.020200909243, 36.105249496967], [-87.02020555885, 36.105268962601], [-87.020208856581, 36.105288439672], [-87.020211140944, 36.105308200606], [-87.020212409798, 36.105327968985], [-87.020211987577, 36.105347752243], [-87.020210549148, 36.105367543524], [-87.020207203245, 36.105396967212], [-87.020204195831, 36.105426387463], [-87.020201188386, 36.105455805425], [-87.020198861522, 36.105485222208], [-87.020196869611, 36.105514909158], [-87.020195216885, 36.105544317376], [-87.020194243275, 36.105573994567], [-87.020193266849, 36.105603397636], [-87.020192631752, 36.105633073107], [-87.020192672947, 36.105662468139], [-87.020193054041, 36.105692133869], [-87.020193272829, 36.105709165096], [-87.020228186334, 36.105712715222], [-87.020254975595, 36.105717632682], [-87.020452827624, 36.105753945894], [-87.020461095568, 36.105975846795], [-87.020473019, 36.106113380674], [-87.020490351409, 36.106250315908], [-87.020513773447, 36.106386928321], [-87.020552414851, 36.10657478359], [-87.020565585791, 36.106683363078], [-87.020568343769, 36.106734534541], [-87.020568482428, 36.10680893209], [-87.020565320675, 36.106865467145], [-87.020558673099, 36.106930215425], [-87.020548480876, 36.106992837737], [-87.020531053406, 36.107071463487], [-87.020511652825, 36.107138974708], [-87.020487102696, 36.107209384847], [-87.020466953701, 36.107258068202], [-87.020428138006, 36.107345815821], [-87.020369195347, 36.107445003436], [-87.02033874021, 36.107488240689], [-87.020277116847, 36.107571316992], [-87.020200839491, 36.107658691787], [-87.020160286177, 36.107700597328], [-87.020078628721, 36.107775743965], [-87.020017330128, 36.107825772848], [-87.01996389273, 36.107865967856], [-87.01987776739, 36.10792440924], [-87.01977843806, 36.10798291814], [-87.019684355466, 36.108031328503], [-87.019586183244, 36.108075222781], [-87.019496911769, 36.1081097683], [-87.019360745191, 36.108157071277], [-87.019294669017, 36.108177443186], [-87.019264972013, 36.108186177223], [-87.019217373132, 36.108196743471], [-87.019102835164, 36.108217276998], [-87.019023452809, 36.108228325788], [-87.018883190976, 36.108244588254], [-87.018771139953, 36.108251885964], [-87.018691955426, 36.108252905672], [-87.018602234233, 36.108249740744], [-87.018534794437, 36.1082442671], [-87.018467658627, 36.108236317822], [-87.018410692386, 36.108227522006], [-87.018367917999, 36.108219853433], [-87.018302392337, 36.108205570244], [-87.018237511356, 36.108188537263], [-87.018184208119, 36.108172777229], [-87.018111388578, 36.108147847252], [-87.018040535966, 36.108119764268], [-87.017961266615, 36.108083729388], [-87.017897424676, 36.108050294826], [-87.017833304914, 36.108012899201], [-87.017768880137, 36.107970795855], [-87.017704500681, 36.107923197739], [-87.017646453108, 36.107875126644], [-87.017589409862, 36.107821708941], [-87.017302015398, 36.107550159922], [-87.017237974682, 36.107494544387], [-87.017173390617, 36.107443746681], [-87.017080235191, 36.107378320806], [-87.016976943465, 36.107317750119], [-87.016881294183, 36.107265635731], [-87.016816986999, 36.107233730922], [-87.01676824366, 36.107212235436], [-87.016709291011, 36.107188800529], [-87.016644481915, 36.107165500239], [-87.016587497897, 36.107147415401], [-87.016552887816, 36.107137741182], [-87.016517049767, 36.107128724033], [-87.016473272257, 36.107118885538], [-87.016414265558, 36.107107471556], [-87.016358072185, 36.107099354486], [-87.016298734335, 36.107094853531], [-87.016237808831, 36.107093546354], [-87.016170548179, 36.107094596148], [-87.016100178501, 36.107097900172], [-87.01598866263, 36.107107666694], [-87.015912227395, 36.107118360102], [-87.01584319614, 36.10712991884], [-87.015753943312, 36.107147711674], [-87.015660806096, 36.107169564056], [-87.015580702243, 36.107191377581], [-87.015514908527, 36.107212228089], [-87.015444701221, 36.107237672601], [-87.015371991628, 36.107267321858], [-87.015292905786, 36.107304230363], [-87.015204361408, 36.107350707639], [-87.015189478936, 36.107365387796], [-87.015108762486, 36.107421239661], [-87.015008632484, 36.107497119801], [-87.014740340592, 36.107712137078], [-87.014189617918, 36.108157949854], [-87.014054094969, 36.108262422698], [-87.013959844764, 36.108327387992], [-87.014068978752, 36.107790979629], [-87.011264752252, 36.107480163394], [-87.010343066049, 36.10737774383], [-87.009035156364, 36.107232393882], [-87.007920453354, 36.107108477175], [-87.007088544549, 36.107015885403], [-87.006278717063, 36.106925746102], [-87.005895683472, 36.106883109465], [-87.004542318188, 36.10673245318], [-87.004051661753, 36.106677830294], [-87.003392142936, 36.106604403863], [-87.003014064213, 36.106562309803], [-87.002167598346, 36.106468061928], [-87.001768332448, 36.106423604621], [-87.001378097521, 36.106380152136], [-87.001183804459, 36.107570551819], [-87.001167229972, 36.107672098385], [-87.001108722351, 36.108030556512], [-87.001073581299, 36.108245857271], [-87.000981471885, 36.108810176413], [-87.000803132033, 36.110132496411], [-86.998609550492, 36.110368253114], [-86.997342725929, 36.111073224351], [-86.997110902378, 36.110945471962], [-86.996379896348, 36.110536140908], [-86.995302814032, 36.109958240362], [-86.995152792994, 36.109873766102], [-86.994410890453, 36.109457923309], [-86.994017280315, 36.11219954205], [-86.993779628482, 36.112038868211], [-86.993775094761, 36.112075350162], [-86.993770955524, 36.112137098213], [-86.993762212791, 36.11226751699], [-86.993761211338, 36.11228246353], [-86.993753145718, 36.112402794623], [-86.993751061273, 36.112433894264], [-86.993737741854, 36.112632597779], [-86.99369444191, 36.113278532166], [-86.993686867106, 36.113391543133], [-86.993669680707, 36.113647917409], [-86.993662430349, 36.113756084958], [-86.993603196219, 36.114639713734], [-86.993600640087, 36.114677828805], [-86.993601089963, 36.114684976311], [-86.993602994758, 36.114715272717], [-86.993643392282, 36.115357646996], [-86.99335554326, 36.115378518441], [-86.990946182501, 36.115266473562], [-86.990832350127, 36.115260814972], [-86.989582958278, 36.115202943057], [-86.98753950753, 36.115109804828], [-86.984504105459, 36.114967591889], [-86.984720636458, 36.113207640379], [-86.984721240003, 36.113201592265], [-86.984826162515, 36.112325488794], [-86.984832919299, 36.112269665056], [-86.985030366327, 36.11066453403], [-86.983416903196, 36.110508475502], [-86.98333521396, 36.110500625351], [-86.983177015208, 36.11172357946], [-86.981086412146, 36.111505445775], [-86.980984980436, 36.112064494321], [-86.980129422586, 36.112091230177], [-86.979916085532, 36.111484192444], [-86.980810952998, 36.110254978502], [-86.980667231576, 36.110240764805], [-86.977782005362, 36.109960902503], [-86.977489745973, 36.111521462198], [-86.977393135275, 36.1120343167], [-86.976045039725, 36.111873811567], [-86.975867210635, 36.112831262584], [-86.97556011036, 36.114510613451], [-86.974221043601, 36.114426934005], [-86.973567802265, 36.114388254086], [-86.972453577404, 36.115412592496], [-86.972201791011, 36.11564318579], [-86.97175247667, 36.115005073391], [-86.971723936114, 36.114966907218], [-86.971639721892, 36.114996816566], [-86.9716635312, 36.115040950155], [-86.972987308075, 36.116970871344], [-86.972003959596, 36.117405159046], [-86.972003851559, 36.117405207419], [-86.971602530845, 36.117582013592], [-86.971534950464, 36.117481523264], [-86.971401132396, 36.117282546832], [-86.970838361174, 36.116443241215]]]], &quot;type&quot;: &quot;MultiPolygon&quot;}, &quot;id&quot;: &quot;7&quot;, &quot;properties&quot;: {&quot;po_name&quot;: &quot;NASHVILLE&quot;, &quot;zip&quot;: &quot;37221&quot;}, &quot;type&quot;: &quot;Feature&quot;}, {&quot;bbox&quot;: [-86.995477360831, 36.09207561481, -86.805073814995, 36.210274403355], &quot;geometry&quot;: {&quot;coordinates&quot;: [[[[-86.975432896783, 36.208771485895], [-86.972209509494, 36.208691608628], [-86.971012327317, 36.208718886437], [-86.969450353526, 36.208809239257], [-86.969053078884, 36.20875358927], [-86.963711418784, 36.207506301499], [-86.960069838764, 36.206813092841], [-86.953954588153, 36.205648721286], [-86.950270934166, 36.204784664562], [-86.947806317087, 36.203464386082], [-86.945022711344, 36.201054983732], [-86.942545916582, 36.1986927393], [-86.941728383057, 36.19686330023], [-86.941459993075, 36.194880721978], [-86.941479985084, 36.191407389006], [-86.941746547761, 36.188080979266], [-86.942450917716, 36.185545020279], [-86.942352592035, 36.182419920428], [-86.942058207167, 36.180486742851], [-86.941899998162, 36.175228987937], [-86.941837573917, 36.169970061453], [-86.941995813221, 36.167835288919], [-86.942029318633, 36.16550302043], [-86.941266851841, 36.163127344059], [-86.940666215101, 36.158914562455], [-86.940000352532, 36.154354958036], [-86.93928837296, 36.153394590509], [-86.938756872296, 36.152677648636], [-86.935848294581, 36.149872050409], [-86.93176253677, 36.1457854282], [-86.929220881385, 36.142927217833], [-86.92729802123, 36.140659609766], [-86.925020429259, 36.139436658317], [-86.922929858738, 36.138509934672], [-86.920781051872, 36.137831709139], [-86.918880378345, 36.137449260475], [-86.916121149291, 36.136874834637], [-86.912552192861, 36.136214262492], [-86.907789344051, 36.135746995787], [-86.905845522303, 36.135734422211], [-86.904241368006, 36.135724022242], [-86.901618714009, 36.136388676387], [-86.89930183158, 36.137050995995], [-86.897357502432, 36.138206671774], [-86.895902999555, 36.139408297389], [-86.894266629384, 36.140760101521], [-86.892519871113, 36.142886290326], [-86.891493659382, 36.144402682574], [-86.890724626159, 36.146740372406], [-86.889722565573, 36.149032088701], [-86.889302662734, 36.150869083441], [-86.888726479321, 36.154048824195], [-86.888076108487, 36.156537547554], [-86.887921624735, 36.15866913319], [-86.888222381998, 36.161671684703], [-86.889017818527, 36.163672380965], [-86.890946267427, 36.1664863251], [-86.89484238834, 36.170129154963], [-86.89491011617, 36.170174673011], [-86.89562954252, 36.170802521684], [-86.896999954502, 36.171839896431], [-86.898928858363, 36.173187896574], [-86.901057730766, 36.174546145201], [-86.903921918476, 36.177504035547], [-86.908388693305, 36.182779504455], [-86.912551195398, 36.188156338128], [-86.913005309351, 36.190385660288], [-86.912604766006, 36.192867127757], [-86.912634973705, 36.193211167592], [-86.911905739395, 36.195707305392], [-86.91126459853, 36.196887181369], [-86.910782305138, 36.197774701907], [-86.909616895876, 36.199759385817], [-86.908751278915, 36.201094236987], [-86.907598654978, 36.202414633883], [-86.906179871956, 36.203753621602], [-86.905144964558, 36.20462479895], [-86.903641507034, 36.205731929303], [-86.902482038066, 36.206362954239], [-86.902032926332, 36.206607370623], [-86.899866286508, 36.207055244214], [-86.896772844026, 36.207078256468], [-86.894342283237, 36.206813718872], [-86.892688038897, 36.206362975953], [-86.891972207554, 36.206167921216], [-86.889646812103, 36.205371556004], [-86.887938421959, 36.204508034754], [-86.885236795128, 36.203201209603], [-86.883310092951, 36.202138972167], [-86.881583064271, 36.200975119658], [-86.878500278945, 36.198694706358], [-86.876569904155, 36.197281949872], [-86.874791928932, 36.195680321669], [-86.873433648174, 36.194325947396], [-86.872525214753, 36.193156040973], [-86.872244712071, 36.192759911851], [-86.870752961626, 36.190653184559], [-86.868905130946, 36.187674230569], [-86.868882569748, 36.18763786081], [-86.867535039032, 36.185832776479], [-86.866515995061, 36.184413302027], [-86.86547503367, 36.182855338652], [-86.864523388019, 36.181328542686], [-86.863914390395, 36.180314899101], [-86.863788439756, 36.180127761465], [-86.86348342047, 36.179674567195], [-86.862700660328, 36.178675380955], [-86.861685426524, 36.177290038771], [-86.860760824045, 36.176238966703], [-86.859619982685, 36.175295198356], [-86.858201796287, 36.173833367456], [-86.85725801603, 36.173011567634], [-86.856357543747, 36.172171825427], [-86.855794618544, 36.17169332474], [-86.854766408551, 36.170790507404], [-86.853507765341, 36.169997348751], [-86.852227031233, 36.169169078668], [-86.85110019438, 36.168498358813], [-86.850051446397, 36.168012170452], [-86.849069246012, 36.167648898936], [-86.84775010911, 36.167287990524], [-86.846965078305, 36.167064339816], [-86.845972788786, 36.166771624306], [-86.844982381423, 36.166655169851], [-86.844165879354, 36.166537487073], [-86.843437087284, 36.166489700765], [-86.84216558532, 36.166516206131], [-86.840927904963, 36.166657044602], [-86.840137444145, 36.166944593998], [-86.839596781137, 36.167212773609], [-86.839176423153, 36.167550622325], [-86.838810127436, 36.167861656551], [-86.838314425548, 36.168270539998], [-86.837685190777, 36.16866540059], [-86.83713685466, 36.168457091119], [-86.836729124643, 36.168296241905], [-86.836664669024, 36.168270668106], [-86.836626918477, 36.168234985896], [-86.836254605014, 36.167883740941], [-86.836243349596, 36.1675871343], [-86.836022783276, 36.16748976722], [-86.835305345617, 36.167791694425], [-86.835056876283, 36.167972248394], [-86.835051978052, 36.167998358985], [-86.83498649757, 36.168302935433], [-86.834931891016, 36.168469626827], [-86.834876905564, 36.168609719304], [-86.834807318268, 36.16872585172], [-86.834741264421, 36.168823555909], [-86.834656515637, 36.168915619319], [-86.834577911622, 36.168979895202], [-86.834475675433, 36.1690520274], [-86.834278561863, 36.169180275529], [-86.833981022812, 36.169374105096], [-86.833843824142, 36.16946345071], [-86.833700624214, 36.16955670242], [-86.833425460456, 36.169735890312], [-86.833253351883, 36.169847973748], [-86.833020904079, 36.169999351471], [-86.832817460092, 36.170131841014], [-86.832710050188, 36.170201789673], [-86.832510576647, 36.170331691927], [-86.832258225734, 36.170496028568], [-86.831968964902, 36.170684399659], [-86.831737091983, 36.170835397733], [-86.831251167205, 36.171151833511], [-86.831097155618, 36.171252126079], [-86.830741542262, 36.171459505819], [-86.830531854734, 36.171560118447], [-86.829751890863, 36.171902120271], [-86.829463972425, 36.172018805801], [-86.82913815154, 36.172127355809], [-86.828805343071, 36.172215626233], [-86.828683653316, 36.172242834861], [-86.828411511452, 36.172300742784], [-86.828095365066, 36.172362523197], [-86.827837330517, 36.172408795299], [-86.827445301917, 36.172471920822], [-86.827351932991, 36.172485746253], [-86.826124855531, 36.172623940059], [-86.82534711767, 36.172709348771], [-86.825216283893, 36.172345980064], [-86.825049988683, 36.172384751271], [-86.825176940787, 36.17273331246], [-86.824745795339, 36.172840139353], [-86.824688897937, 36.172852350273], [-86.824624356758, 36.172866200397], [-86.824447008412, 36.172917135132], [-86.824273842372, 36.172979577628], [-86.823912637694, 36.173140919822], [-86.823761403476, 36.173209945071], [-86.823615889808, 36.173276358571], [-86.823436578559, 36.173380917858], [-86.823250220744, 36.173496969374], [-86.823058324663, 36.17362709478], [-86.822928558487, 36.173726793073], [-86.82285087789, 36.173788229359], [-86.822803858143, 36.173810433788], [-86.822759925597, 36.173821446852], [-86.822709728062, 36.173816294844], [-86.822661477903, 36.173803163019], [-86.822623956759, 36.173778969173], [-86.822593518348, 36.173751705836], [-86.822515918753, 36.1736525163], [-86.822773318168, 36.173257247748], [-86.823551705905, 36.172061883306], [-86.824161799547, 36.171124150521], [-86.824410188574, 36.170743072776], [-86.824353568747, 36.170706649184], [-86.824293929884, 36.170673266826], [-86.824223684557, 36.170639096116], [-86.824168312414, 36.170615612394], [-86.824093449616, 36.170587906455], [-86.823992811039, 36.170549017832], [-86.823825988599, 36.170484554004], [-86.823716218801, 36.170442135667], [-86.823565982247, 36.170384079172], [-86.822459476754, 36.169956045844], [-86.822308806056, 36.169897737214], [-86.822266094126, 36.169880640895], [-86.822216725401, 36.169858365876], [-86.822164659483, 36.16983355099], [-86.822113381075, 36.16980748652], [-86.822029321509, 36.169761750133], [-86.821979474611, 36.169732753078], [-86.82191908688, 36.16969532099], [-86.821854103085, 36.169652058012], [-86.821762161987, 36.169585422894], [-86.821642586579, 36.169487551515], [-86.821585868933, 36.169432743602], [-86.822238124419, 36.169340396011], [-86.822027665158, 36.16838584537], [-86.821505418472, 36.168468516432], [-86.82148646845, 36.168470843647], [-86.821451305559, 36.168477674815], [-86.821320498849, 36.168499066231], [-86.821088707135, 36.168535084251], [-86.820764026728, 36.167858352031], [-86.820723752248, 36.167623919838], [-86.820803340209, 36.167612335354], [-86.82126712417, 36.16753952822], [-86.821296132931, 36.167534910889], [-86.82109235571, 36.166672126583], [-86.82108537547, 36.166624742831], [-86.821047129721, 36.166612410499], [-86.820859516878, 36.16655434964], [-86.820832728774, 36.166552059452], [-86.820805953449, 36.166550868004], [-86.820778852152, 36.166551052307], [-86.820752098868, 36.166552333071], [-86.820725365453, 36.166555261944], [-86.820698980024, 36.166559011996], [-86.820672606691, 36.166564136647], [-86.820646924385, 36.166570630134], [-86.820621595015, 36.166578218904], [-86.820596952424, 36.166586902405], [-86.820589540036, 36.166590798717], [-86.820582807316, 36.166594965115], [-86.820576415496, 36.166599403903], [-86.82057003005, 36.166604390919], [-86.820564325712, 36.166609650875], [-86.820559301023, 36.1666151792], [-86.820554279162, 36.16662098107], [-86.820550277164, 36.166627052431], [-86.820546614643, 36.166633395047], [-86.820543295145, 36.166640010612], [-86.820543258224, 36.166639852906], [-86.820457619552, 36.166661267129], [-86.820445603651, 36.166622956619], [-86.820241798482, 36.165615475784], [-86.820073253734, 36.164932826334], [-86.819933600222, 36.164368104874], [-86.819905891192, 36.164254746413], [-86.820480714502, 36.164163008319], [-86.820364852476, 36.163676486643], [-86.820359308117, 36.163652893108], [-86.820358167845, 36.163627863474], [-86.820352585005, 36.163600000773], [-86.820351466909, 36.163577116003], [-86.820348457663, 36.163560956702], [-86.820295205589, 36.163350058696], [-86.820108527949, 36.162711443736], [-86.820006969941, 36.162271770902], [-86.819597914314, 36.162308054214], [-86.819573476965, 36.162224894776], [-86.819494077998, 36.161884794206], [-86.819591546872, 36.161875342232], [-86.81956023868, 36.161730509297], [-86.81955851243, 36.161721562659], [-86.819564061469, 36.161720769528], [-86.819592610332, 36.161717331233], [-86.819589753964, 36.161701738599], [-86.819567099809, 36.161607393267], [-86.81951905265, 36.161416522369], [-86.819471908676, 36.161231283132], [-86.819455985279, 36.161164581549], [-86.819736098703, 36.161136469205], [-86.819704217581, 36.160990828064], [-86.819642963533, 36.16073681468], [-86.819591758436, 36.160535418693], [-86.819548689594, 36.160354527651], [-86.819494200463, 36.160141587527], [-86.819449442318, 36.159950428076], [-86.819411418187, 36.159797772521], [-86.819359452102, 36.159579836655], [-86.819302458389, 36.159354707188], [-86.819257766763, 36.159169971931], [-86.819215491895, 36.158989073034], [-86.819177200898, 36.158848627128], [-86.81916929691, 36.158795124015], [-86.818547179287, 36.158733629153], [-86.81805658879, 36.15868292788], [-86.817554719657, 36.158633448504], [-86.817621105152, 36.15896129172], [-86.817586881868, 36.158967085283], [-86.817411694153, 36.158998130539], [-86.817394776242, 36.159001166196], [-86.81720275613, 36.159035617079], [-86.817148536726, 36.15903378597], [-86.81694869826, 36.159069478645], [-86.816944517875, 36.159049983168], [-86.816919518864, 36.158933419508], [-86.81694048341, 36.158930167663], [-86.816934845672, 36.158842660168], [-86.816930835067, 36.158802839673], [-86.816929089508, 36.158788622723], [-86.816924529876, 36.158769922459], [-86.816899856511, 36.158668734549], [-86.816910363012, 36.158636247228], [-86.816871416672, 36.158580711788], [-86.816582902421, 36.158536325543], [-86.816312801661, 36.158514344754], [-86.816379154753, 36.158883249785], [-86.816284859822, 36.158896859594], [-86.816066766691, 36.158935792796], [-86.815901870035, 36.158965228472], [-86.815766580702, 36.158989379966], [-86.815649047717, 36.15901036089], [-86.815627014183, 36.159016662133], [-86.815615041372, 36.158964487165], [-86.815481787355, 36.158948256145], [-86.8154817492, 36.158948251824], [-86.81546664995, 36.158946412577], [-86.815429542835, 36.15894094021], [-86.815398344979, 36.158938289455], [-86.815357346894, 36.15893444525], [-86.815311421556, 36.158929388973], [-86.81504342581, 36.158904731021], [-86.814870147255, 36.158892427833], [-86.814302792479, 36.158838430048], [-86.814263276316, 36.158833873821], [-86.814249062759, 36.158832234478], [-86.813680238874, 36.158778243682], [-86.813619683722, 36.158781795645], [-86.813609317697, 36.1587413792], [-86.813563563229, 36.158590013572], [-86.813484352333, 36.158584997275], [-86.813473488965, 36.158582873404], [-86.813351410192, 36.158570512501], [-86.813213396918, 36.158556880727], [-86.813202209596, 36.158556131414], [-86.813164227245, 36.158551991436], [-86.813107253389, 36.158545782879], [-86.813099123109, 36.158545837658], [-86.813058355807, 36.15879884369], [-86.813053174213, 36.158830391684], [-86.812933741007, 36.158820584493], [-86.812933903107, 36.15881946053], [-86.812836257154, 36.158811328713], [-86.812790451733, 36.159101729505], [-86.812746994375, 36.159356951744], [-86.812736719462, 36.159415122948], [-86.812095037308, 36.159360707623], [-86.811937065327, 36.159347310559], [-86.811840349701, 36.159339108148], [-86.811740477625, 36.159324798029], [-86.811540359766, 36.15930945134], [-86.811375500437, 36.159291482463], [-86.811272390544, 36.159273099424], [-86.811184056335, 36.159261770278], [-86.811104495345, 36.159245612476], [-86.811019077467, 36.159231878795], [-86.810569354928, 36.159185152759], [-86.810318395938, 36.159320511229], [-86.810068584975, 36.159472179145], [-86.809862765222, 36.159615885822], [-86.809667935862, 36.159777623981], [-86.809441809357, 36.1599966819], [-86.809193423022, 36.160288440269], [-86.809099932729, 36.160422025386], [-86.809021982747, 36.160548393018], [-86.808883038473, 36.16081246695], [-86.808817003674, 36.160981059088], [-86.808774214945, 36.161103865771], [-86.808721264388, 36.161289894259], [-86.808687400706, 36.161427477059], [-86.808677724658, 36.161498746865], [-86.808047825085, 36.161601144963], [-86.805624947321, 36.161953024171], [-86.805601414377, 36.161846469703], [-86.805101346673, 36.160907006805], [-86.805073814995, 36.16086422838], [-86.805905428639, 36.160358816428], [-86.806875988482, 36.15972267343], [-86.808083518345, 36.158876211262], [-86.808507122964, 36.158559107548], [-86.808662411833, 36.158443211457], [-86.809161880434, 36.158055271609], [-86.809370934942, 36.157893467384], [-86.809413126974, 36.157860496946], [-86.809059524837, 36.157826282009], [-86.80774536098, 36.157706888935], [-86.807820597287, 36.157610466258], [-86.809125710788, 36.157202250839], [-86.810868786175, 36.156669978462], [-86.81118081749, 36.156488348999], [-86.81278078017, 36.155246504778], [-86.812836566689, 36.155203302492], [-86.812947472086, 36.155117393953], [-86.813234450755, 36.154892397883], [-86.813873705904, 36.154398529476], [-86.814209770822, 36.154138036622], [-86.815604444537, 36.153059477804], [-86.815660202285, 36.153016795165], [-86.816310455941, 36.152512437311], [-86.820440376165, 36.149305494089], [-86.821553481236, 36.148436970207], [-86.821898790671, 36.148154935711], [-86.822101571868, 36.147984361251], [-86.82219610656, 36.147900074361], [-86.822267397217, 36.147836508951], [-86.822275413836, 36.147828789923], [-86.822369384814, 36.147745160885], [-86.822537760092, 36.147585257963], [-86.822653169997, 36.147475137321], [-86.822710165285, 36.147418679345], [-86.8230264989, 36.147093490999], [-86.823680008825, 36.146356655024], [-86.823823149924, 36.146180963543], [-86.824416830522, 36.145356075768], [-86.824753436473, 36.144828530142], [-86.825730794029, 36.143123561006], [-86.825742080067, 36.143104829811], [-86.825966954804, 36.142709357536], [-86.826426213808, 36.141996884342], [-86.826457648801, 36.141954938837], [-86.826642187726, 36.14172618832], [-86.826892017335, 36.141451441392], [-86.827162911095, 36.141189681804], [-86.827454319078, 36.140943191565], [-86.827550422984, 36.140867288161], [-86.8276479066, 36.140796844236], [-86.827926337021, 36.140605384464], [-86.828262164912, 36.140400315313], [-86.828614476985, 36.140213840344], [-86.828979844112, 36.140045404368], [-86.829358314244, 36.139896136685], [-86.829747114778, 36.139766519819], [-86.830005013306, 36.139688403924], [-86.833101591616, 36.138887955538], [-86.833735272303, 36.138725921348], [-86.838736758624, 36.137445140729], [-86.841041556515, 36.136851131974], [-86.841753369766, 36.136653870773], [-86.841966678116, 36.136585352889], [-86.84227708134, 36.136475472702], [-86.842607628954, 36.136349022161], [-86.843062069862, 36.136153549234], [-86.843231873984, 36.136073795789], [-86.843446222529, 36.135972825193], [-86.843844855754, 36.135755762528], [-86.844189500408, 36.135554488161], [-86.844532569213, 36.135332317162], [-86.845035280075, 36.134963981923], [-86.84527436118, 36.134772207007], [-86.845615306058, 36.134475298816], [-86.845816400457, 36.134278323421], [-86.845890125857, 36.134205282202], [-86.846123141065, 36.13395640871], [-86.846360018585, 36.13368552903], [-86.84660723876, 36.133368399033], [-86.84674209612, 36.133181748934], [-86.84691941865, 36.13291568143], [-86.847093739547, 36.132625489307], [-86.847231976834, 36.132375053802], [-86.847339358846, 36.132158951698], [-86.847440145959, 36.131928908993], [-86.847729264341, 36.132012264906], [-86.847957050374, 36.132032640979], [-86.847949580036, 36.132094228835], [-86.848389769408, 36.132216401326], [-86.848456765169, 36.132147805182], [-86.848465271709, 36.132151589027], [-86.848473769443, 36.132154548798], [-86.848482940823, 36.132157233698], [-86.848492103359, 36.132159091092], [-86.848501600066, 36.132160397857], [-86.848511089502, 36.132161156393], [-86.848520574472, 36.132161364966], [-86.848530053557, 36.132161023011], [-86.848539521731, 36.132159858143], [-86.848548984725, 36.132158142744], [-86.848568930108, 36.132154705917], [-86.848589229596, 36.132152913719], [-86.848609885331, 36.132152768425], [-86.848630217129, 36.132153998964], [-86.84865022358, 36.132156605344], [-86.848669911161, 36.132160863377], [-86.848689276321, 36.132166770799], [-86.848707638086, 36.132173784695], [-86.848724998662, 36.132182177471], [-86.848741697412, 36.132191950175], [-86.848771658093, 36.132206848517], [-86.848802277702, 36.132220094519], [-86.848834232721, 36.132231678844], [-86.848866848849, 36.132241617107], [-86.848900466114, 36.132250170754], [-86.848934401449, 36.132256799746], [-86.848968657778, 36.13226177763], [-86.849003573031, 36.132265103742], [-86.849038469134, 36.132266507], [-86.849073346194, 36.132266261541], [-86.849108204092, 36.132264092654], [-86.849121742164, 36.132263173807], [-86.849134943247, 36.132262805608], [-86.849148486598, 36.132262710283], [-86.849161697802, 36.132262892577], [-86.849175252901, 36.132263895439], [-86.849188472913, 36.132264901231], [-86.84920169822, 36.13226673169], [-86.849214927895, 36.132268838545], [-86.84922816116, 36.132271214934], [-86.849241061714, 36.132274145949], [-86.849271912131, 36.132277499453], [-86.849303072384, 36.132277830087], [-86.849333858988, 36.13227541623], [-86.849364282385, 36.13226998138], [-86.849393659961, 36.1322620832], [-86.849421993571, 36.132251169965], [-86.849448259825, 36.132237797733], [-86.849472473566, 36.132221969262], [-86.849494634328, 36.132204234551], [-86.849513725352, 36.13218431861], [-86.849529395749, 36.132161406644], [-86.849547793465, 36.132140127173], [-86.849568921339, 36.13212074573], [-86.849592436494, 36.132102998601], [-86.849618346308, 36.132087707005], [-86.849646314167, 36.132074599173], [-86.84967566152, 36.132063952305], [-86.84970605485, 36.132056047466], [-86.849737494128, 36.132050881794], [-86.849769639324, 36.132048457111], [-86.849799079936, 36.132046327327], [-86.849828871032, 36.132045567479], [-86.849858336695, 36.132045909906], [-86.849887813391, 36.132047348805], [-86.849917306234, 36.132050164002], [-86.849946471506, 36.132054079201], [-86.849975312867, 36.132059370232], [-86.850004163062, 36.1320654859], [-86.850032349982, 36.132072975786], [-86.850059872215, 36.132081576062], [-86.850073821677, 36.13208752085], [-86.850088107648, 36.132093463837], [-86.850102390675, 36.13209913156], [-86.850117007826, 36.132104245214], [-86.850131625046, 36.132109365162], [-86.850146575797, 36.132114205185], [-86.850161525695, 36.132118767638], [-86.85017647199, 36.13212305941], [-86.850191418967, 36.132127348887], [-86.850206695872, 36.132131087758], [-86.850234971718, 36.132146547607], [-86.850261570831, 36.132163941103], [-86.850286494431, 36.132182723393], [-86.850309401805, 36.132203162434], [-86.850330292219, 36.132224992105], [-86.850349166347, 36.132248209542], [-86.850365346825, 36.132272544236], [-86.850379158763, 36.132297720903], [-86.850390612723, 36.13232373775], [-86.850399367274, 36.132350598331], [-86.850405755799, 36.132377745723], [-86.850409094835, 36.132405196761], [-86.850410068558, 36.13243293575], [-86.850407993171, 36.132460421521], [-86.850403548148, 36.132487923995], [-86.850396045411, 36.132514897454], [-86.8503861707, 36.1325413405], [-86.850373917633, 36.132567250313], [-86.850358948071, 36.132592081572], [-86.850341589988, 36.132615826239], [-86.850321854051, 36.132638492253], [-86.850300070245, 36.132659797995], [-86.850276235658, 36.132679471635], [-86.850250694631, 36.13269778145], [-86.850227560683, 36.132719373694], [-86.850205791538, 36.132742052872], [-86.850185042692, 36.132765271989], [-86.85016565497, 36.132789036656], [-86.850147632625, 36.132813612398], [-86.850130629195, 36.132838730381], [-86.850114988253, 36.132864389327], [-86.850100706252, 36.132890587546], [-86.850087783788, 36.132917050894], [-86.850076223203, 36.132944327634], [-86.850066355046, 36.132971595309], [-86.8500575086, 36.132999402345], [-86.85005035963, 36.133027473849], [-86.850044563728, 36.133055535245], [-86.850040130311, 36.133084136464], [-86.850037384952, 36.13311245165], [-86.850035997717, 36.133141030832], [-86.850036306543, 36.133169873348], [-86.850037627591, 36.133198434021], [-86.850040643155, 36.133226981609], [-86.85004534892, 36.133255244866], [-86.850048027408, 36.133284070684], [-86.850049349874, 36.133312631346], [-86.850048982163, 36.133341478627], [-86.850046919217, 36.133370337853], [-86.850043500955, 36.133398932489], [-86.850038727478, 36.133427535529], [-86.850032255005, 36.133455602262], [-86.850024089395, 36.133483679778], [-86.850014904266, 36.133511490338], [-86.850003686558, 36.133539040506], [-86.849991441318, 36.133565773206], [-86.849977843687, 36.133592515433], [-86.849962543388, 36.133618444948], [-86.849947238764, 36.133644103213], [-86.849933290729, 36.133669750202], [-86.849920028033, 36.133696214778], [-86.849907781928, 36.133722673908], [-86.84989655615, 36.133749674126], [-86.849886685583, 36.133776665941], [-86.8498774966, 36.13380392652], [-86.849869327959, 36.133831729332], [-86.849862512423, 36.13385952433], [-86.849856714864, 36.133887311011], [-86.849851935408, 36.133915364658], [-86.849848174093, 36.133943688707], [-86.849845428618, 36.133972002165], [-86.849843700437, 36.134000309029], [-86.849843326068, 36.134028607501], [-86.849843967567, 36.134056897672], [-86.849845624946, 36.134085180686], [-86.854927025336, 36.133983347842], [-86.855750070854, 36.131669937062], [-86.856139165129, 36.13057052755], [-86.85618975118, 36.130435697173], [-86.856519132504, 36.13067624998], [-86.856612797117, 36.130752504211], [-86.856856512968, 36.130951999166], [-86.85724036138, 36.131375532593], [-86.85743425783, 36.131639023615], [-86.85764562497, 36.132004490126], [-86.858029653511, 36.131973829841], [-86.858437944415, 36.13191644195], [-86.858438994722, 36.131916293687], [-86.858457384978, 36.132002333574], [-86.858499898532, 36.132175648802], [-86.858511232651, 36.132221719127], [-86.858613297079, 36.132640752688], [-86.858600110387, 36.132643041369], [-86.858604337963, 36.132658123281], [-86.85865851401, 36.132845365718], [-86.858667306357, 36.132875521413], [-86.858707062898, 36.133044459629], [-86.858718421755, 36.133092729159], [-86.85875532621, 36.133248502641], [-86.858769512955, 36.133307739354], [-86.858806418322, 36.133463513379], [-86.858820581365, 36.133520551986], [-86.858854729673, 36.133671949659], [-86.858871745146, 36.133742154677], [-86.858908648793, 36.133897928096], [-86.858922788217, 36.133952769735], [-86.858954157275, 36.134097594648], [-86.858973928778, 36.134172174263], [-86.859005226681, 36.134310406587], [-86.859025067518, 36.134391579916], [-86.859064825592, 36.134560519092], [-86.859076184871, 36.134608787426], [-86.859113138301, 36.134768956355], [-86.85904401053, 36.13489032106], [-86.858992563258, 36.134892885065], [-86.858515937869, 36.134911661522], [-86.85833586502, 36.134918036969], [-86.858321466774, 36.135238074618], [-86.858303365793, 36.135560922894], [-86.858466130222, 36.135566927374], [-86.859074269644, 36.135683472186], [-86.859171915774, 36.13594430209], [-86.859398336224, 36.135837199711], [-86.859457626522, 36.135808207373], [-86.85967594421, 36.135703360449], [-86.859727154006, 36.135678821508], [-86.859894281604, 36.135600711246], [-86.860047912587, 36.135527091774], [-86.860109888379, 36.135495882845], [-86.860336306278, 36.135388778122], [-86.860344385835, 36.135384326839], [-86.860551864289, 36.135279557315], [-86.86057073164, 36.135270629679], [-86.860670418618, 36.135219372232], [-86.860837474238, 36.135134667507], [-86.860688392545, 36.134628064887], [-86.860677101747, 36.13454104071], [-86.861308020272, 36.134627984999], [-86.861319070643, 36.134575213576], [-86.861380845949, 36.134275886373], [-86.861721776735, 36.134236091506], [-86.862041056783, 36.134198646351], [-86.862298127524, 36.13417043749], [-86.862303521689, 36.134168201815], [-86.862514586756, 36.13414471612], [-86.86257682314, 36.134137678084], [-86.862684537498, 36.1340775702], [-86.862802995005, 36.134008593472], [-86.862870312773, 36.133970751815], [-86.863018396871, 36.133886180839], [-86.863150329289, 36.133810517724], [-86.863241887148, 36.133759313406], [-86.86345999946, 36.133636878856], [-86.863672910409, 36.133534261522], [-86.863697172507, 36.133523099364], [-86.863942495041, 36.133411458159], [-86.864177052711, 36.133306486638], [-86.864201313956, 36.13329532381], [-86.864443950737, 36.133185899074], [-86.864640604633, 36.133083395917], [-86.864761838345, 36.133020991554], [-86.865068888051, 36.132856160894], [-86.865130835831, 36.13282275127], [-86.865392097258, 36.132682422173], [-86.86550539454, 36.132637654958], [-86.865966709289, 36.13245853013], [-86.866464008597, 36.132349470726], [-86.86696942843, 36.132240349759], [-86.867423210995, 36.132116214658], [-86.867590685153, 36.132071055914], [-86.867774364026, 36.132021386131], [-86.86805256501, 36.13194466021], [-86.86814227518, 36.131972587579], [-86.868770203408, 36.13216585931], [-86.868732367718, 36.132669403906], [-86.86872034559, 36.132730381501], [-86.868934174455, 36.132739147844], [-86.869232530701, 36.132770878526], [-86.869505347145, 36.132811978797], [-86.869487913212, 36.132888125802], [-86.869258027662, 36.133913908024], [-86.869195971678, 36.134184672076], [-86.869445537827, 36.134213641507], [-86.869803632582, 36.134257210733], [-86.869974518012, 36.134275758981], [-86.870191529058, 36.134300566237], [-86.870674359243, 36.134354220448], [-86.870706917107, 36.134358383156], [-86.871357924353, 36.134430601158], [-86.872291059685, 36.134535941531], [-86.872385922476, 36.134547809371], [-86.872376662877, 36.13460088712], [-86.872309722628, 36.134796842891], [-86.872397093691, 36.134816480858], [-86.87305439571, 36.134967758925], [-86.872979797405, 36.135328722876], [-86.872936134368, 36.135546610518], [-86.872876944383, 36.135830540139], [-86.872968743577, 36.135832623057], [-86.873421637985, 36.135842257781], [-86.873708889959, 36.135848419234], [-86.873971751996, 36.135853933126], [-86.874532440241, 36.135226824409], [-86.87461132011, 36.135121998324], [-86.874737004808, 36.135181136833], [-86.874791523934, 36.135104895887], [-86.875774701572, 36.13375909244], [-86.875722768636, 36.133717712631], [-86.875550622805, 36.133584902643], [-86.875424919454, 36.133486918546], [-86.875250042117, 36.133351930253], [-86.874982261526, 36.133145090434], [-86.874954928864, 36.133123311708], [-86.874862023848, 36.133051462646], [-86.874420560663, 36.133309595882], [-86.873780898578, 36.132975510637], [-86.873676672823, 36.132921048369], [-86.873096286357, 36.132618122098], [-86.873287849927, 36.13202308241], [-86.873156736627, 36.131710036744], [-86.872668365029, 36.131150959614], [-86.872649484635, 36.131127745663], [-86.872629259759, 36.131105640282], [-86.872608024895, 36.131083816915], [-86.872585446962, 36.131063102107], [-86.872561523638, 36.131043220589], [-86.872536932881, 36.131024169748], [-86.872510994606, 36.131005951066], [-86.872484054708, 36.130988839615], [-86.872456109622, 36.130972831987], [-86.872427503659, 36.130957930841], [-86.872398222477, 36.130943858135], [-86.872367941761, 36.130930890354], [-86.872336998927, 36.130919301486], [-86.872305386521, 36.130908541587], [-86.872273112687, 36.13089915945], [-86.872240512333, 36.130890879659], [-86.872207589162, 36.13088397518], [-86.872174672031, 36.130877620073], [-86.872141420213, 36.130871816801], [-86.872108177256, 36.13086656288], [-86.872074598198, 36.130861860803], [-86.872041031018, 36.130857982768], [-86.87200746616, 36.13085437999], [-86.871973911753, 36.130851600119], [-86.871940023373, 36.130849373222], [-86.871906138898, 36.130847694566], [-86.871872262581, 36.130846565838], [-86.871838392324, 36.130845988771], [-86.871804534618, 36.13084623345], [-86.87177033423, 36.130846752446], [-86.871736485074, 36.130848097037], [-86.871702643334, 36.1308499887], [-86.871668809255, 36.130852706723], [-86.871635316084, 36.130855695841], [-86.871601494044, 36.130859510889], [-86.871568015046, 36.130863598735], [-86.871534881588, 36.13086850821], [-86.871501415543, 36.130873969503], [-86.871468297147, 36.13088025184], [-86.871435521795, 36.130886807546], [-86.871402752463, 36.130893912051], [-86.871370330082, 36.13090183875], [-86.871337912814, 36.13091003897], [-86.871305837546, 36.130919060275], [-86.871273122464, 36.130931110315], [-86.871241446415, 36.130945074681], [-86.871211139583, 36.130960954424], [-86.871182550374, 36.130978739589], [-86.871155673745, 36.130998163514], [-86.871130844761, 36.131019222064], [-86.871108064606, 36.131041637085], [-86.871087331397, 36.131065687311], [-86.871068641009, 36.131090546346], [-86.871052673175, 36.131116759281], [-86.871039085366, 36.131143778594], [-86.871027878315, 36.131171606568], [-86.871019719852, 36.131199960237], [-86.871013944044, 36.131228844982], [-86.870799521989, 36.132674280632], [-86.870693840185, 36.132918987558], [-86.870658639594, 36.13297396764], [-86.870512424131, 36.132923280213], [-86.870544218216, 36.13286292781], [-86.87062334451, 36.132666760808], [-86.870729263551, 36.131949547693], [-86.870650759042, 36.13194872927], [-86.870648458822, 36.131948705236], [-86.870604626965, 36.131948250074], [-86.870339654435, 36.131501831475], [-86.87004150442, 36.130994117771], [-86.870192311131, 36.130911715318], [-86.870552257543, 36.130692918917], [-86.870883942684, 36.130491359299], [-86.871357829016, 36.130472553532], [-86.872099774048, 36.130440818768], [-86.872673841603, 36.130416888751], [-86.873523269057, 36.130305252293], [-86.873544915916, 36.130302897853], [-86.873632742214, 36.130295213785], [-86.873581417829, 36.130048650712], [-86.873644965887, 36.130039823247], [-86.874618402475, 36.129873162031], [-86.874824643309, 36.130150774771], [-86.875101407247, 36.130190520278], [-86.875147555056, 36.130198979167], [-86.875375488282, 36.130232487467], [-86.875806926949, 36.130295287587], [-86.875866619264, 36.130303645582], [-86.876352332646, 36.130374839914], [-86.876482578012, 36.130393673554], [-86.876656237629, 36.130418782383], [-86.876835340842, 36.130446052529], [-86.877236811979, 36.130493680329], [-86.877741394193, 36.130555941083], [-86.877314177254, 36.130875515976], [-86.877374974827, 36.13122890483], [-86.877430064328, 36.131555960486], [-86.877428690503, 36.131676843819], [-86.87742575697, 36.132147172302], [-86.876914022896, 36.132419012058], [-86.876793707235, 36.132480815962], [-86.877259587399, 36.133050214096], [-86.877701219065, 36.133611506532], [-86.877765636209, 36.133687507961], [-86.877860964596, 36.133801277677], [-86.877941069526, 36.133867464664], [-86.878048009276, 36.133968033951], [-86.878111841073, 36.134024801602], [-86.878163612244, 36.134054232168], [-86.878211805023, 36.134084492293], [-86.87846000432, 36.134270828676], [-86.878615292908, 36.134402167408], [-86.878677418546, 36.134455471505], [-86.878798248001, 36.134544148096], [-86.879206387529, 36.134209063105], [-86.879488724873, 36.13405306061], [-86.87951430113, 36.134083517711], [-86.879848941081, 36.134454687152], [-86.880572930418, 36.134510941067], [-86.880597336687, 36.13451296005], [-86.880990508489, 36.134543055056], [-86.881164060196, 36.134557171469], [-86.881248429492, 36.13459171722], [-86.881490606308, 36.134686650641], [-86.881738225376, 36.134783733487], [-86.881915117272, 36.134854965086], [-86.882021234853, 36.134895944977], [-86.882290650408, 36.135003861545], [-86.88236411195, 36.13503189377], [-86.882630790698, 36.135137629612], [-86.882851204202, 36.13522392531], [-86.882976383156, 36.135273556234], [-86.883327440276, 36.135413837253], [-86.883341034419, 36.135418131396], [-86.883558735494, 36.135504446811], [-86.883575405593, 36.135511192526], [-86.883907060412, 36.135642546746], [-86.88473188497, 36.135251847383], [-86.884750613395, 36.135242976486], [-86.884837154018, 36.135222911086], [-86.884863554377, 36.13526815369], [-86.885233508792, 36.135797008714], [-86.885835010252, 36.135569048533], [-86.885766184308, 36.13545443405], [-86.885753539447, 36.135432097217], [-86.885753515694, 36.13543205504], [-86.885731261786, 36.135392743439], [-86.885718413689, 36.135372361412], [-86.885697463733, 36.135339127966], [-86.885469337532, 36.134977249653], [-86.885482834266, 36.134903227855], [-86.885495058607, 36.134836770549], [-86.885508612637, 36.134763082558], [-86.885523914102, 36.134679893867], [-86.8855479415, 36.134547049288], [-86.88555850252, 36.134484552019], [-86.885742000308, 36.134412492342], [-86.885806683542, 36.134387340845], [-86.885830538454, 36.134378065281], [-86.885830785727, 36.134377969033], [-86.886098286385, 36.134274000556], [-86.886118113368, 36.134265926623], [-86.886144323859, 36.134255503368], [-86.886383997534, 36.134161634571], [-86.886443482538, 36.134169953393], [-86.886443695871, 36.134169977008], [-86.88646919487, 36.134171978762], [-86.88653227005, 36.134179830476], [-86.886536383501, 36.134180355397], [-86.886845216272, 36.134219781177], [-86.886907367194, 36.134228003484], [-86.887008819895, 36.134241425901], [-86.887081268463, 36.13425101064], [-86.887628866118, 36.134053645107], [-86.887629034041, 36.134053582633], [-86.887679919357, 36.134034069953], [-86.887714652285, 36.134017458136], [-86.888077490194, 36.134719152187], [-86.888133131979, 36.134698139176], [-86.888823128387, 36.134421501305], [-86.888755305882, 36.134310288652], [-86.888754205785, 36.134308382355], [-86.888459685932, 36.133798204146], [-86.88857846629, 36.133571678398], [-86.888583371527, 36.133562325516], [-86.888722292115, 36.133297392425], [-86.88874086134, 36.133262091885], [-86.888634776818, 36.133056024117], [-86.88870025106, 36.133031314488], [-86.88889585714, 36.132957490152], [-86.888935022871, 36.132942709923], [-86.88927449477, 36.132814589579], [-86.889556519168, 36.132708147742], [-86.889634838861, 36.132678589214], [-86.890003834941, 36.132539322959], [-86.890039354335, 36.132602276246], [-86.890079664916, 36.132673722275], [-86.890315853013, 36.132435019432], [-86.890600197727, 36.132707974183], [-86.891102877257, 36.133190509496], [-86.891148130386, 36.133237992929], [-86.891261482988, 36.133165982751], [-86.892064313359, 36.132690796771], [-86.892003923413, 36.132572508004], [-86.891677237519, 36.132011765354], [-86.891585484075, 36.131853918933], [-86.891482124097, 36.131684898428], [-86.8914361456, 36.131600525434], [-86.891384144353, 36.131493222371], [-86.892021078792, 36.131277534149], [-86.892610467744, 36.13141163098], [-86.892743573724, 36.131443611565], [-86.893024138962, 36.131338243118], [-86.893272345638, 36.131246299816], [-86.893504373218, 36.131161068929], [-86.893690493879, 36.131089363879], [-86.894084362218, 36.130941397224], [-86.894116718363, 36.130927971216], [-86.894219000452, 36.1306283252], [-86.894457728287, 36.130657322668], [-86.894492994049, 36.130661457737], [-86.894954148128, 36.130715177222], [-86.895103340032, 36.130347001581], [-86.895275710627, 36.129921619334], [-86.895314290542, 36.12981296343], [-86.895379690291, 36.129832985923], [-86.895438024417, 36.12985086713], [-86.895759593433, 36.129989040611], [-86.895943530897, 36.130094762867], [-86.896103838989, 36.130228170555], [-86.896251795086, 36.130363139508], [-86.896369003013, 36.130486459431], [-86.896494660207, 36.130650751659], [-86.896580068006, 36.130787266681], [-86.896680447533, 36.130952827677], [-86.896788019064, 36.131132913781], [-86.896896888074, 36.131341563116], [-86.897821823025, 36.131006401472], [-86.898569450113, 36.130738942931], [-86.89889754013, 36.130380516205], [-86.900653470284, 36.128448321794], [-86.901275274418, 36.127764220468], [-86.901336356057, 36.12771373371], [-86.903230421699, 36.127057321008], [-86.90387683521, 36.126877120178], [-86.904096999789, 36.126807936678], [-86.904271051142, 36.126753291962], [-86.90467783993, 36.12663601736], [-86.905729874918, 36.126287711038], [-86.905892556229, 36.12626540009], [-86.906047429638, 36.126244158854], [-86.905923939902, 36.125592531829], [-86.906963911784, 36.125071144118], [-86.9066534855, 36.124640033788], [-86.90734508977, 36.124276103186], [-86.908256629354, 36.123644270755], [-86.909234837108, 36.122798338355], [-86.910249788785, 36.12176302584], [-86.910758757522, 36.121216394953], [-86.910861105567, 36.121111001995], [-86.911031677191, 36.120935318691], [-86.910556795391, 36.120631819056], [-86.910573764273, 36.120458071859], [-86.910617553712, 36.120024791782], [-86.910663696919, 36.119560725916], [-86.910680688433, 36.119389176766], [-86.910754356943, 36.118524457094], [-86.910779612879, 36.118301662268], [-86.910800569883, 36.118268444491], [-86.91279373271, 36.115109093342], [-86.915170826895, 36.113226319503], [-86.913947028348, 36.11104225905], [-86.913845893613, 36.110861733837], [-86.913907338076, 36.110849432639], [-86.913974249573, 36.110836036335], [-86.914060046123, 36.110818906123], [-86.914230155607, 36.110773660737], [-86.914685235159, 36.110073533543], [-86.915181590276, 36.11013569851], [-86.91547670815, 36.110126866746], [-86.915843505527, 36.110139465997], [-86.916533403719, 36.110162795514], [-86.917174557478, 36.110098581945], [-86.918198188502, 36.110319356411], [-86.918641613052, 36.107210603104], [-86.915355011056, 36.106853190863], [-86.915465779348, 36.105889749731], [-86.915465786571, 36.105889703318], [-86.915542127539, 36.105229853735], [-86.915593625453, 36.104763546173], [-86.91561066263, 36.104626334041], [-86.915613755902, 36.104601311491], [-86.915630798292, 36.104464374025], [-86.915695480313, 36.103967197564], [-86.915707902132, 36.103870129403], [-86.915747606463, 36.103555828595], [-86.91576003343, 36.103459034521], [-86.915792375488, 36.103210445906], [-86.91579238648, 36.103210359402], [-86.915809778181, 36.103076306004], [-86.915809783189, 36.103076251023], [-86.915838653564, 36.102849668806], [-86.915862256541, 36.102665430987], [-86.916199387099, 36.102695278547], [-86.916199428066, 36.102695283959], [-86.916232308471, 36.102434880613], [-86.918120983695, 36.10270484722], [-86.918120992952, 36.102704793924], [-86.918121264461, 36.102703694713], [-86.918121282648, 36.102703620745], [-86.918521668075, 36.101084272565], [-86.918553026189, 36.100956565231], [-86.920342738656, 36.098239169483], [-86.920454174923, 36.098070194153], [-86.921111140982, 36.097072078998], [-86.922463774576, 36.097217778851], [-86.922485143727, 36.097075587366], [-86.922613687803, 36.096223534605], [-86.922632180448, 36.096096199715], [-86.922721518117, 36.095482350486], [-86.922728436248, 36.095436420579], [-86.922776265274, 36.095125075685], [-86.922822516873, 36.094823358445], [-86.922833850601, 36.094749922572], [-86.922877255354, 36.094756732995], [-86.92361244622, 36.094872802557], [-86.923654158128, 36.094879626813], [-86.924059691805, 36.09490734863], [-86.92357245424, 36.093558640122], [-86.923525972599, 36.093442470204], [-86.923476393958, 36.093326782416], [-86.923424572433, 36.093212256433], [-86.923370500054, 36.093098206093], [-86.923317953854, 36.092993986886], [-86.923277073837, 36.09292287375], [-86.923187728745, 36.092783452668], [-86.923139551899, 36.092715370867], [-86.923088846028, 36.092648225845], [-86.923036178527, 36.092582237605], [-86.922981268836, 36.092517414017], [-86.922924121526, 36.092454208895], [-86.922732930885, 36.092264058279], [-86.922509471836, 36.09207561481], [-86.923479401697, 36.09213462922], [-86.925374476417, 36.092333280176], [-86.925474780358, 36.092343499004], [-86.928274955906, 36.092600536635], [-86.930253120083, 36.092782263131], [-86.930370696752, 36.092792894642], [-86.928496255479, 36.093926808755], [-86.929431564267, 36.094945944031], [-86.929489504729, 36.095008956825], [-86.929558076034, 36.095083426286], [-86.930045953228, 36.095613711693], [-86.930376246704, 36.096532012264], [-86.931501283238, 36.097099130311], [-86.931468017025, 36.09726421741], [-86.931386111034, 36.097669232451], [-86.931291754748, 36.098141034824], [-86.930264593644, 36.09805098401], [-86.928863743287, 36.097934566293], [-86.927994787676, 36.097851965912], [-86.927669579248, 36.097830842591], [-86.927429737352, 36.097815106769], [-86.927429414466, 36.097816202392], [-86.927364458498, 36.098022468064], [-86.927252017811, 36.09824942493], [-86.927241111095, 36.09829111335], [-86.927199523141, 36.09845009577], [-86.927276082433, 36.098686861471], [-86.927315228256, 36.0987346357], [-86.927346001956, 36.098934931215], [-86.927425528701, 36.099454915571], [-86.927418414281, 36.099454421427], [-86.927343503686, 36.099590709341], [-86.927311817063, 36.099648315926], [-86.92718008661, 36.099887832369], [-86.92704418785, 36.100135297081], [-86.927023222541, 36.100173279149], [-86.927001096373, 36.100213373428], [-86.926998773355, 36.100217785018], [-86.926800886063, 36.100577811021], [-86.926800955224, 36.100577815068], [-86.927066476113, 36.100594724357], [-86.927066970576, 36.100594853335], [-86.927067495476, 36.100594991808], [-86.926969275095, 36.100723838138], [-86.926966812875, 36.100727079822], [-86.926966744105, 36.100727169633], [-86.926556025286, 36.101264558485], [-86.926356946605, 36.101525194996], [-86.926126941225, 36.101826312764], [-86.926126910638, 36.101826350772], [-86.926749521227, 36.101857707084], [-86.928076902462, 36.101924543549], [-86.928470238238, 36.10194427774], [-86.928708270544, 36.101956219555], [-86.928818612473, 36.101961881651], [-86.928908453312, 36.101966491099], [-86.928908439683, 36.101966531839], [-86.928860179897, 36.102093779786], [-86.92885576877, 36.10212183589], [-86.928767193972, 36.102681838851], [-86.928901839531, 36.102703327896], [-86.928894596516, 36.102749811175], [-86.92888956479, 36.10278281579], [-86.928301683781, 36.105081765424], [-86.928040039213, 36.106099126748], [-86.928791732667, 36.106227403329], [-86.929428502053, 36.106352751017], [-86.928595102943, 36.107055359844], [-86.927182663707, 36.108106654833], [-86.926216491058, 36.108840013765], [-86.925005500363, 36.109749914924], [-86.924753396371, 36.109937863379], [-86.925720424398, 36.109841187048], [-86.927500477566, 36.10998884709], [-86.927414608954, 36.110521356657], [-86.927351473467, 36.110913034986], [-86.927283251711, 36.111333324406], [-86.929241311887, 36.111551212444], [-86.929328612453, 36.111557813446], [-86.929339092775, 36.111608423312], [-86.929407269896, 36.111610334911], [-86.929456774013, 36.111608625063], [-86.929912093214, 36.111673163944], [-86.930091211245, 36.111698552036], [-86.93013248668, 36.111704402223], [-86.929766177241, 36.110831554511], [-86.929647550225, 36.110715099849], [-86.929305724556, 36.110586008351], [-86.929305968158, 36.110516176794], [-86.929317329999, 36.110289423646], [-86.930473678786, 36.110723788148], [-86.930798285417, 36.110509613218], [-86.931208086796, 36.110181055046], [-86.932051671885, 36.1095208588], [-86.932050514932, 36.109465852607], [-86.931456081994, 36.109429181048], [-86.931342674291, 36.108330625178], [-86.931870028683, 36.108381102614], [-86.932191468231, 36.108576011103], [-86.932334830269, 36.108404472488], [-86.934342877017, 36.108531340835], [-86.93400866626, 36.107912274726], [-86.933954422749, 36.107812149014], [-86.933684150622, 36.107104173662], [-86.933305128984, 36.105944355264], [-86.933196679609, 36.105429349944], [-86.933163477632, 36.105272300229], [-86.933228694327, 36.10525692661], [-86.93329535051, 36.105241316892], [-86.933244592254, 36.104660265862], [-86.933248727937, 36.10456213697], [-86.933276841981, 36.104035678987], [-86.933283753414, 36.10390243369], [-86.932750352313, 36.103628065287], [-86.932892238271, 36.103473962113], [-86.933071818604, 36.103271802097], [-86.933246857317, 36.103067158145], [-86.933372366262, 36.102920817053], [-86.933561883559, 36.102700263833], [-86.933614917674, 36.102628198279], [-86.93380676392, 36.102365733055], [-86.93441312868, 36.101489957436], [-86.934624953784, 36.101151790874], [-86.934691685256, 36.101045277459], [-86.934792193152, 36.100884477612], [-86.9351314788, 36.100255266727], [-86.9353737832, 36.099751115391], [-86.935520729256, 36.099437943478], [-86.93720199275, 36.095757201053], [-86.938085852902, 36.093805468745], [-86.938948456464, 36.093911805797], [-86.941361808147, 36.094194077872], [-86.941700772588, 36.094234561062], [-86.941741448971, 36.094239464716], [-86.940691546517, 36.098924235293], [-86.940910155447, 36.098839117389], [-86.942331781972, 36.099010429813], [-86.942242788468, 36.099514722132], [-86.943793698502, 36.099668973483], [-86.944264017785, 36.099715747256], [-86.944392638277, 36.099719648306], [-86.946573976865, 36.09983221165], [-86.947015666203, 36.099855115987], [-86.947017299687, 36.099856491048], [-86.947026958717, 36.099864612609], [-86.949967367999, 36.102337311688], [-86.949927350825, 36.102585970237], [-86.949926540081, 36.102595900741], [-86.949905792351, 36.102849868032], [-86.950004462217, 36.10317435457], [-86.950077642543, 36.103279288473], [-86.949600597779, 36.103655127413], [-86.949593017078, 36.103659977464], [-86.949597849029, 36.103821490722], [-86.949568100289, 36.104133225958], [-86.949565225956, 36.104163336281], [-86.949525646362, 36.104578076925], [-86.95016055148, 36.105129101913], [-86.951592336659, 36.10492624309], [-86.952558698356, 36.104789315548], [-86.953240608376, 36.105419070816], [-86.953604455635, 36.105948043846], [-86.953964000032, 36.106118820801], [-86.954628194467, 36.105948734962], [-86.954738932318, 36.105923684488], [-86.955181965773, 36.10583006838], [-86.955885450834, 36.105549779104], [-86.956656372669, 36.105246973454], [-86.957091273959, 36.105153413632], [-86.957666856916, 36.105047751102], [-86.95842324228, 36.104887901853], [-86.958870138215, 36.10489094148], [-86.959229986002, 36.104861707635], [-86.960471973735, 36.104576409261], [-86.961449991641, 36.104351737933], [-86.962356763358, 36.104311539431], [-86.96304919551, 36.10424448002], [-86.963049257505, 36.104244474374], [-86.963019916071, 36.104579412139], [-86.962994541163, 36.104869066703], [-86.962960882991, 36.104959596924], [-86.962788954843, 36.105203363782], [-86.962775628502, 36.105222259616], [-86.962754668896, 36.105257325059], [-86.962748128327, 36.10526827664], [-86.962744832567, 36.10527380357], [-86.962651813861, 36.105430052655], [-86.962589458191, 36.105560694319], [-86.962538365163, 36.105985564382], [-86.962538674309, 36.105996581467], [-86.962544781006, 36.106214881141], [-86.962521816351, 36.106391911803], [-86.96256064653, 36.1065643165], [-86.962678980381, 36.106659427043], [-86.962794765564, 36.106844415172], [-86.963092034474, 36.107251216395], [-86.963601751527, 36.107650577478], [-86.964096638164, 36.107852332643], [-86.964420144819, 36.107813554547], [-86.964541942187, 36.107778291364], [-86.964788251417, 36.107758920807], [-86.965222050756, 36.107808354353], [-86.965425721442, 36.107986273446], [-86.965514816318, 36.108106917198], [-86.965674304237, 36.10827604439], [-86.965746898068, 36.108351763216], [-86.965832821818, 36.108420076385], [-86.965911706383, 36.108509059878], [-86.966181761509, 36.108931469279], [-86.965977769753, 36.110108770002], [-86.965909300131, 36.11049172358], [-86.96554797833, 36.110624282122], [-86.965306381559, 36.110802034802], [-86.965520077129, 36.111670623633], [-86.964911608738, 36.111748019824], [-86.963451242177, 36.112377254904], [-86.962646901677, 36.112607844885], [-86.961702036451, 36.112417586721], [-86.961065915462, 36.112449029386], [-86.960231647241, 36.11289302272], [-86.959653885593, 36.112822898488], [-86.959464124068, 36.114076657932], [-86.96390599785, 36.114354378823], [-86.962113167171, 36.115142646016], [-86.961829009416, 36.116023415283], [-86.961980665651, 36.117493719509], [-86.961984871968, 36.117544207833], [-86.962142630857, 36.117574010106], [-86.962371756386, 36.117575387217], [-86.963127494106, 36.117469541229], [-86.963558738972, 36.117385742729], [-86.96416646882, 36.117193905268], [-86.964147556914, 36.11714343268], [-86.963852498723, 36.116469455694], [-86.963453179984, 36.116661999948], [-86.963341134053, 36.116509022181], [-86.963959088949, 36.116210834893], [-86.96400972565, 36.116346209477], [-86.964402574203, 36.116218505013], [-86.965378769039, 36.116136119629], [-86.965411983716, 36.115890361663], [-86.966159864146, 36.115647233038], [-86.966229097388, 36.115624724657], [-86.966250680036, 36.115734609126], [-86.966268345013, 36.115737017315], [-86.967511101891, 36.115918257618], [-86.968102654808, 36.116005815503], [-86.968171348797, 36.116015983181], [-86.968262750954, 36.116029511788], [-86.968335315298, 36.116040252106], [-86.968407507959, 36.116050936987], [-86.968428926253, 36.116057904765], [-86.968439501685, 36.116061008845], [-86.968443147655, 36.116062156842], [-86.968446028595, 36.116062924662], [-86.968450280288, 36.116064172531], [-86.968471848079, 36.116069806158], [-86.968493620479, 36.116074807437], [-86.968495429876, 36.116075163774], [-86.9684972753, 36.116075582206], [-86.968518978035, 36.116079787364], [-86.968519329437, 36.116079855511], [-86.968545264778, 36.116084032401], [-86.968577662342, 36.116087712696], [-86.96836168311, 36.116812498937], [-86.968821465628, 36.116978031538], [-86.969704990951, 36.116797311364], [-86.969999657155, 36.116705210733], [-86.97020115443, 36.116642227803], [-86.97038032496, 36.11658624569], [-86.970838300132, 36.116443152423], [-86.970838361174, 36.116443241215], [-86.971401132396, 36.117282546832], [-86.971534950464, 36.117481523264], [-86.971602530845, 36.117582013592], [-86.972003851559, 36.117405207419], [-86.972003959596, 36.117405159046], [-86.972987308075, 36.116970871344], [-86.9716635312, 36.115040950155], [-86.971639721892, 36.114996816566], [-86.971723936114, 36.114966907218], [-86.97175247667, 36.115005073391], [-86.972201791011, 36.11564318579], [-86.972453577404, 36.115412592496], [-86.973567802265, 36.114388254086], [-86.974221043601, 36.114426934005], [-86.97556011036, 36.114510613451], [-86.975782491279, 36.114532988984], [-86.975798365773, 36.114557584991], [-86.975813907229, 36.114582458406], [-86.975829448694, 36.114607331819], [-86.975844655703, 36.114632482079], [-86.975859518705, 36.11465736155], [-86.97587438579, 36.114682515129], [-86.975888915761, 36.114707672006], [-86.975903449809, 36.114733102419], [-86.975917641835, 36.11475853846], [-86.975931500916, 36.114783972615], [-86.975945355089, 36.114809408524], [-86.975959210696, 36.114834845565], [-86.97597239121, 36.114860563927], [-86.975985572382, 36.114886277704], [-86.975998755029, 36.114911996046], [-86.976011601073, 36.114937988965], [-86.976024110716, 36.114963985749], [-86.976036280421, 36.114989985854], [-86.976048787921, 36.115015979219], [-86.976060619842, 36.115041984917], [-86.976072455104, 36.115068261869], [-86.976083949724, 36.115094542149], [-86.976095108623, 36.115120824572], [-86.976106265393, 36.115147105294], [-86.976117422206, 36.115173388876], [-86.976127906009, 36.115199951475], [-86.976138729779, 36.115226511894], [-86.976148873658, 36.115253078386], [-86.97615970275, 36.11528018533], [-86.97617154076, 36.115306737537], [-86.976184055855, 36.115333283691], [-86.976197583218, 36.115359547506], [-86.976211784278, 36.115385529435], [-86.976226994243, 36.115410955481], [-86.976242881305, 36.115436376045], [-86.976259439393, 36.115461240026], [-86.976277008362, 36.115485823396], [-86.976295253146, 36.115510124861], [-86.976314166864, 36.115533871476], [-86.97633409145, 36.115557336335], [-86.976354687791, 36.11558024632], [-86.97637595925, 36.115602874976], [-86.976397900357, 36.115624949349], [-86.976420508987, 36.115646468881], [-86.976443794168, 36.115667708789], [-86.976468086799, 36.115688388815], [-86.97649271339, 36.115708520134], [-86.976518007477, 36.115728094324], [-86.976543971197, 36.115747113082], [-86.976570270264, 36.115765581405], [-86.976597576818, 36.115783492705], [-86.976625216562, 36.115800850152], [-86.976653524534, 36.115817652751], [-86.976682165032, 36.115833904935], [-86.976711475853, 36.115849600536], [-86.976741116512, 36.115864469883], [-86.976768702076, 36.115877704709], [-86.976768706201, 36.115877753323], [-86.97679020778, 36.11611214077], [-86.976739400454, 36.116413091364], [-86.976628935584, 36.116929078023], [-86.976598480967, 36.11707161881], [-86.976500231836, 36.11753147234], [-86.976445198562, 36.117691996455], [-86.976395963422, 36.117835602049], [-86.976604641161, 36.118119621006], [-86.976670328817, 36.118202325715], [-86.976722160328, 36.118259321028], [-86.97705754389, 36.118219243424], [-86.977089890985, 36.118223589753], [-86.977094171353, 36.118224166321], [-86.977157726149, 36.118232785766], [-86.977728742497, 36.118310264162], [-86.977729460368, 36.118310360789], [-86.977730428359, 36.118310490873], [-86.978335377189, 36.118521512255], [-86.978338757104, 36.118522743955], [-86.978339798023, 36.118523124693], [-86.978418464016, 36.118862037547], [-86.978424809165, 36.118887804777], [-86.978426454791, 36.118894496781], [-86.978429870569, 36.118908369117], [-86.978430073546, 36.118909270598], [-86.978430584932, 36.11891138634], [-86.977897582281, 36.119346462342], [-86.977845800948, 36.119401811533], [-86.977658000146, 36.119333200655], [-86.977522584537, 36.11927394999], [-86.977499266054, 36.119264725946], [-86.977425820743, 36.119310724751], [-86.977943433067, 36.119770251593], [-86.978103365149, 36.119999713679], [-86.978156397628, 36.12056629724], [-86.97815493165, 36.120887178649], [-86.977909374174, 36.121183663606], [-86.977809402426, 36.121204254712], [-86.977408733701, 36.120783341183], [-86.976720476998, 36.120544968769], [-86.97595783369, 36.120645642737], [-86.975075790329, 36.120949470008], [-86.975062000636, 36.122252831517], [-86.973934503346, 36.122202601752], [-86.973536073757, 36.122183840813], [-86.973485740004, 36.12437537608], [-86.973484385678, 36.12437538701], [-86.973471238923, 36.124984294562], [-86.973420456258, 36.127336232761], [-86.97340363378, 36.12817369913], [-86.973398418648, 36.128411095475], [-86.973366129217, 36.129976131268], [-86.973323625313, 36.130486344269], [-86.972624371368, 36.130683187099], [-86.972136677029, 36.131564006771], [-86.971727575543, 36.132862856739], [-86.971645088791, 36.133179167547], [-86.9700872406, 36.133009018613], [-86.970025341452, 36.133486421808], [-86.969876452361, 36.135269963548], [-86.969805355332, 36.135859628434], [-86.969480955648, 36.136258783408], [-86.969495345104, 36.136360091705], [-86.969549401313, 36.136740170854], [-86.969511757819, 36.136770913984], [-86.969598029036, 36.13726278267], [-86.969650000995, 36.137441754483], [-86.969531441538, 36.138632218863], [-86.976238796504, 36.139393759563], [-86.976247954133, 36.139394783177], [-86.976247947391, 36.139394234948], [-86.976344126449, 36.138182513937], [-86.977215731349, 36.138225732438], [-86.977448476278, 36.128522572459], [-86.980192672376, 36.128598105991], [-86.980249243585, 36.128599568753], [-86.981238504778, 36.128626801914], [-86.984378482265, 36.128713192243], [-86.986045672266, 36.128758214464], [-86.98607619763, 36.128824641203], [-86.986107765435, 36.128898596339], [-86.986126919942, 36.128951173642], [-86.986144894228, 36.129015965385], [-86.986155457421, 36.129089110674], [-86.986155180489, 36.129146047096], [-86.986148079264, 36.129206726209], [-86.986116226272, 36.129375755589], [-86.986080005556, 36.129516678944], [-86.986054883377, 36.12962134703], [-86.986022307321, 36.129767860209], [-86.986004083849, 36.129865866133], [-86.985991108828, 36.129957135836], [-86.985980698601, 36.130077119777], [-86.985979306636, 36.130183744667], [-86.985983005801, 36.130271926609], [-86.985987751991, 36.130363180235], [-86.985989696537, 36.130390461869], [-86.985992556365, 36.130421682762], [-86.985998069388, 36.130467770385], [-86.986007713924, 36.130525907125], [-86.986016955184, 36.130567307281], [-86.986026562169, 36.130602082667], [-86.986033984876, 36.130625436882], [-86.986040877327, 36.130645689434], [-86.986048431536, 36.130667020555], [-86.986048469498, 36.130667123263], [-86.986055938338, 36.130687828961], [-86.986063432039, 36.130708661511], [-86.986070817665, 36.130729653477], [-86.986078003749, 36.130750938385], [-86.986084989688, 36.130772808699], [-86.986091859591, 36.130795390214], [-86.986098658095, 36.130818584698], [-86.986105427259, 36.130842256739], [-86.986112212, 36.130866273763], [-86.986119030139, 36.130890423292], [-86.986119082442, 36.130890601429], [-86.986125960963, 36.130914670339], [-86.986126067701, 36.130915027741], [-86.98613305586, 36.130938892007], [-86.986133203096, 36.130939385863], [-86.986140322771, 36.130962932558], [-86.986140453521, 36.130963348713], [-86.986147647341, 36.130986502761], [-86.986147736281, 36.130986790485], [-86.986154920164, 36.131009485038], [-86.986154966476, 36.13100963518], [-86.986162047941, 36.131031808611], [-86.986168927254, 36.131053326668], [-86.986175482437, 36.131074024945], [-86.986181627093, 36.13109382059], [-86.986187279129, 36.131112636438], [-86.986192398805, 36.131130510588], [-86.986197049581, 36.131147667444], [-86.98620131038, 36.131164326704], [-86.986205240127, 36.131180688202], [-86.986208904226, 36.131196962588], [-86.986212374329, 36.13121335188], [-86.986215705175, 36.131230059949], [-86.986218961908, 36.131247276275], [-86.986222176804, 36.131265100178], [-86.9862253391, 36.131283403544], [-86.986228427012, 36.131302022869], [-86.986231414498, 36.131320792963], [-86.986234278471, 36.131339558916], [-86.986236997086, 36.131358152643], [-86.986237768983, 36.131363666961], [-86.986227871892, 36.131365014993], [-86.984235020477, 36.131636214216], [-86.98431805688, 36.132055897582], [-86.984457133708, 36.132758805643], [-86.986055817971, 36.132541251067], [-86.986060149335, 36.132562849469], [-86.986108585389, 36.132762376241], [-86.986124731947, 36.132843196463], [-86.986138046323, 36.132941263887], [-86.986146304748, 36.133070497839], [-86.986144770783, 36.133141197966], [-86.986138410323, 36.133205538403], [-86.986128393582, 36.133280027391], [-86.986121169504, 36.133319999085], [-86.986112731129, 36.133361327952], [-86.98610104797, 36.133412024791], [-86.98608360014, 36.133479041599], [-86.986060753408, 36.13355797422], [-86.986041397823, 36.133621133704], [-86.986017874795, 36.133695723906], [-86.985991554043, 36.133778417591], [-86.985963774212, 36.13386736151], [-86.985944760441, 36.133934991452], [-86.985932629238, 36.133993654653], [-86.985927318448, 36.134036413354], [-86.985833961882, 36.134079402788], [-86.984010090003, 36.134937118238], [-86.983368071931, 36.136994196778], [-86.986001709729, 36.136345867153], [-86.986001911613, 36.136345818], [-86.986001977722, 36.136345800862], [-86.986001739688, 36.136345154939], [-86.986001275164, 36.136343883601], [-86.986000226562, 36.136341145024], [-86.985999513769, 36.136338403702], [-86.985998468578, 36.136335939812], [-86.985971263242, 36.136245231579], [-86.985959044972, 36.136188465485], [-86.985950228468, 36.136133823521], [-86.985942375895, 36.136046300056], [-86.985942132721, 36.13597212735], [-86.985953471566, 36.13584896134], [-86.985978069552, 36.135729811121], [-86.98602671635, 36.135583814153], [-86.986080537077, 36.135468175494], [-86.986162791009, 36.135332986794], [-86.986363617094, 36.135005808023], [-86.986449950601, 36.134840273258], [-86.98655542502, 36.134610127502], [-86.986637902445, 36.134623512128], [-86.986716800064, 36.134633383298], [-86.986658924138, 36.134787467445], [-86.986606179284, 36.134903279022], [-86.986557861589, 36.134994055893], [-86.986343447188, 36.135346761784], [-86.986272856906, 36.13546916916], [-86.986229204056, 36.135563165404], [-86.986190984453, 36.135666810069], [-86.986162930118, 36.135771006905], [-86.986141074342, 36.135902098575], [-86.986134038298, 36.136017260988], [-86.986138589472, 36.136138098268], [-86.986150207567, 36.13622838502], [-86.98615061955, 36.136229970419], [-86.986150919659, 36.136231126346], [-86.986812741528, 36.136236703469], [-86.986812744458, 36.13623665537], [-86.98687224017, 36.135457225304], [-86.98693185566, 36.134676173243], [-86.986949184588, 36.134581298354], [-86.987132905721, 36.134603376662], [-86.987261430413, 36.134612856289], [-86.987383745573, 36.134622157099], [-86.987524796616, 36.13462313967], [-86.987519413886, 36.134702134493], [-86.987518572269, 36.134716151268], [-86.987381090077, 36.137439973406], [-86.988147325049, 36.137398537237], [-86.988802706196, 36.137375585373], [-86.989533994864, 36.137356403971], [-86.990446766819, 36.137333529544], [-86.990407182602, 36.137852516503], [-86.990316662882, 36.139066400129], [-86.99025494667, 36.139874840044], [-86.990223535202, 36.140289094978], [-86.993729571172, 36.140504215859], [-86.994815542441, 36.140570263173], [-86.994565992882, 36.142981017777], [-86.995477360831, 36.143062005286], [-86.995195532233, 36.145098667665], [-86.994385119169, 36.145034899814], [-86.992221740828, 36.14486651765], [-86.99162337711, 36.144819938633], [-86.986443642538, 36.144416595857], [-86.986887056379, 36.144993167329], [-86.988432178789, 36.145914547805], [-86.988303697752, 36.146232071409], [-86.988064136053, 36.146823019658], [-86.986660326092, 36.147025704817], [-86.985612188585, 36.147503484497], [-86.984809232649, 36.147869366851], [-86.981789273918, 36.148419228648], [-86.981279807409, 36.149950781289], [-86.978509778502, 36.151439146582], [-86.978443176236, 36.151806703161], [-86.977449352557, 36.157309020987], [-86.977096665903, 36.15925904134], [-86.976530875351, 36.162393148205], [-86.977051779868, 36.16243728164], [-86.984604918668, 36.162745111086], [-86.985189269196, 36.162768911932], [-86.984710361875, 36.165591098049], [-86.984618480818, 36.166131657775], [-86.984566218973, 36.16651785772], [-86.984332961541, 36.168241578126], [-86.984302402556, 36.16846784749], [-86.984283935104, 36.168604600513], [-86.984432445051, 36.168613828962], [-86.984873743992, 36.168573416793], [-86.985463344937, 36.168634534662], [-86.985879710155, 36.169041555802], [-86.986252861587, 36.169406071204], [-86.986614604434, 36.169561349643], [-86.986651799237, 36.169609943818], [-86.986953478851, 36.170002513647], [-86.986947971412, 36.170213538856], [-86.987673073261, 36.170053768126], [-86.988618745968, 36.170330078584], [-86.988734021913, 36.170363748085], [-86.989842065161, 36.170102480309], [-86.989960979877, 36.170074583803], [-86.990680327511, 36.169563209104], [-86.991143917396, 36.169489902009], [-86.991373514772, 36.169453676765], [-86.991395808203, 36.169305139195], [-86.991373605646, 36.169453662283], [-86.991373521636, 36.169454226134], [-86.991365221208, 36.16951075287], [-86.991365125645, 36.169511408959], [-86.991308575486, 36.169896497159], [-86.991196244679, 36.170451240449], [-86.991100348641, 36.17094627436], [-86.990569828933, 36.173684801786], [-86.990530811436, 36.173885231436], [-86.990523978241, 36.173920331045], [-86.989966275505, 36.176799491884], [-86.989823646616, 36.177534691559], [-86.989797602994, 36.177671287505], [-86.9897829376, 36.177748202294], [-86.989770668481, 36.1778118506], [-86.98977057568, 36.177812333823], [-86.989770490849, 36.177812776919], [-86.98969128211, 36.178223655167], [-86.989504065103, 36.179187780389], [-86.989472239004, 36.179352868269], [-86.989046809769, 36.181540861675], [-86.988904274795, 36.182284848026], [-86.988437476464, 36.18469074745], [-86.98808657359, 36.186500120021], [-86.987903996766, 36.187442225402], [-86.987370739856, 36.19019369679], [-86.987118462176, 36.19150089954], [-86.98679002285, 36.193202680994], [-86.986309954471, 36.195696577959], [-86.986216978422, 36.196178079924], [-86.986166040879, 36.196442767848], [-86.985478868711, 36.20005697064], [-86.98526054624, 36.20119934909], [-86.984974707297, 36.202691706617], [-86.984944164128, 36.202852385686], [-86.984307045655, 36.206138713046], [-86.984306773981, 36.206140095103], [-86.98419607934, 36.206702221907], [-86.983784153737, 36.208799963692], [-86.983649272118, 36.209513108205], [-86.985342257619, 36.20979599161], [-86.985197062769, 36.210274403355], [-86.985163865164, 36.210274065244], [-86.983442837746, 36.210256514588], [-86.983414916552, 36.210253749925], [-86.983168576781, 36.210229351027], [-86.982855175685, 36.210024623228], [-86.981429491007, 36.209499283204], [-86.979710597365, 36.209252516992], [-86.979702291805, 36.209251324146], [-86.978637568486, 36.209098458721], [-86.975432896783, 36.208771485895]]]], &quot;type&quot;: &quot;MultiPolygon&quot;}, &quot;id&quot;: &quot;12&quot;, &quot;properties&quot;: {&quot;po_name&quot;: &quot;NASHVILLE&quot;, &quot;zip&quot;: &quot;37209&quot;}, &quot;type&quot;: &quot;Feature&quot;}], &quot;type&quot;: &quot;FeatureCollection&quot;});\n",
       "\n",
       "        \n",
       "    \n",
       "            var marker_1b41c6511e89366b4c4addfe0881bea1 = L.marker(\n",
       "                [36.15773702, -86.81795909],\n",
       "                {}\n",
       "            ).addTo(map_db20d7fc482c3dbb419a8c9f81514095);\n",
       "        \n",
       "    \n",
       "            var icon_61ed92ca6971c6aabf0b691e684326e6 = L.AwesomeMarkers.icon(\n",
       "                {&quot;extraClasses&quot;: &quot;fa-rotate-0&quot;, &quot;icon&quot;: &quot;tree&quot;, &quot;iconColor&quot;: &quot;white&quot;, &quot;markerColor&quot;: &quot;green&quot;, &quot;prefix&quot;: &quot;fa&quot;}\n",
       "            );\n",
       "            marker_1b41c6511e89366b4c4addfe0881bea1.setIcon(icon_61ed92ca6971c6aabf0b691e684326e6);\n",
       "        \n",
       "    \n",
       "        var popup_f95d4ee0f5944a3a1221dfea97590495 = L.popup({&quot;maxWidth&quot;: &quot;100%&quot;});\n",
       "\n",
       "        \n",
       "            \n",
       "                var html_001997af2183630123b5ba304822527e = $(`&lt;div id=&quot;html_001997af2183630123b5ba304822527e&quot; style=&quot;width: 100.0%; height: 100.0%;&quot;&gt;McKissack Park&lt;/div&gt;`)[0];\n",
       "                popup_f95d4ee0f5944a3a1221dfea97590495.setContent(html_001997af2183630123b5ba304822527e);\n",
       "            \n",
       "        \n",
       "\n",
       "        marker_1b41c6511e89366b4c4addfe0881bea1.bindPopup(popup_f95d4ee0f5944a3a1221dfea97590495)\n",
       "        ;\n",
       "\n",
       "        \n",
       "    \n",
       "&lt;/script&gt;\n",
       "&lt;/html&gt;\" style=\"position:absolute;width:100%;height:100%;left:0;top:0;border:none !important;\" allowfullscreen webkitallowfullscreen mozallowfullscreen></iframe></div></div>"
      ],
      "text/plain": [
       "<folium.folium.Map at 0x220bcb17040>"
      ]
     },
     "execution_count": 23,
     "metadata": {},
     "output_type": "execute_result"
    }
   ],
   "source": [
    " marker.add_to(nashville_park_map)\n",
    "nashville_park_map.save('../maps/nashville_park_map.html')\n",
    "\n",
    "#display our map\n",
    "nashville_park_map"
   ]
  },
  {
   "cell_type": "code",
   "execution_count": null,
   "id": "0c2aa516",
   "metadata": {},
   "outputs": [],
   "source": []
  },
  {
   "cell_type": "code",
   "execution_count": null,
   "id": "51b0d52f",
   "metadata": {},
   "outputs": [],
   "source": []
  }
 ],
 "metadata": {
  "kernelspec": {
   "display_name": "Python 3 (ipykernel)",
   "language": "python",
   "name": "python3"
  },
  "language_info": {
   "codemirror_mode": {
    "name": "ipython",
    "version": 3
   },
   "file_extension": ".py",
   "mimetype": "text/x-python",
   "name": "python",
   "nbconvert_exporter": "python",
   "pygments_lexer": "ipython3",
   "version": "3.10.10"
  }
 },
 "nbformat": 4,
 "nbformat_minor": 5
}
