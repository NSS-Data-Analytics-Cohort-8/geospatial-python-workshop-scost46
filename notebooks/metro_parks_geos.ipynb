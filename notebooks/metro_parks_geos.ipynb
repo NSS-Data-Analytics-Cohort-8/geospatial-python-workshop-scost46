{
 "cells": [
  {
   "cell_type": "code",
   "execution_count": 1,
   "id": "d664debf",
   "metadata": {},
   "outputs": [],
   "source": [
    "from shapely.geometry import Point\n",
    "import pandas as pd\n",
    "import geopandas as gpd\n",
    "import matplotlib.pyplot as plt\n",
    "import folium\n",
    "from folium.plugins import MarkerCluster\n",
    "from folium.plugins import FastMarkerCluster"
   ]
  },
  {
   "cell_type": "code",
   "execution_count": 2,
   "id": "9334b4b3",
   "metadata": {
    "scrolled": true
   },
   "outputs": [
    {
     "name": "stdout",
     "output_type": "stream",
     "text": [
      "EPSG:4326\n"
     ]
    },
    {
     "data": {
      "text/html": [
       "<div>\n",
       "<style scoped>\n",
       "    .dataframe tbody tr th:only-of-type {\n",
       "        vertical-align: middle;\n",
       "    }\n",
       "\n",
       "    .dataframe tbody tr th {\n",
       "        vertical-align: top;\n",
       "    }\n",
       "\n",
       "    .dataframe thead th {\n",
       "        text-align: right;\n",
       "    }\n",
       "</style>\n",
       "<table border=\"1\" class=\"dataframe\">\n",
       "  <thead>\n",
       "    <tr style=\"text-align: right;\">\n",
       "      <th></th>\n",
       "      <th>zip</th>\n",
       "      <th>objectid</th>\n",
       "      <th>po_name</th>\n",
       "      <th>shape_stlength</th>\n",
       "      <th>shape_starea</th>\n",
       "      <th>geometry</th>\n",
       "    </tr>\n",
       "  </thead>\n",
       "  <tbody>\n",
       "    <tr>\n",
       "      <th>0</th>\n",
       "      <td>37115</td>\n",
       "      <td>1</td>\n",
       "      <td>MADISON</td>\n",
       "      <td>178783.02488886821</td>\n",
       "      <td>596553400.57885742</td>\n",
       "      <td>MULTIPOLYGON (((-86.68725 36.31821, -86.68722 ...</td>\n",
       "    </tr>\n",
       "    <tr>\n",
       "      <th>1</th>\n",
       "      <td>37216</td>\n",
       "      <td>3</td>\n",
       "      <td>NASHVILLE</td>\n",
       "      <td>75820.997821400058</td>\n",
       "      <td>188884682.28344727</td>\n",
       "      <td>MULTIPOLYGON (((-86.73451 36.23774, -86.73425 ...</td>\n",
       "    </tr>\n",
       "    <tr>\n",
       "      <th>2</th>\n",
       "      <td>37204</td>\n",
       "      <td>9</td>\n",
       "      <td>NASHVILLE</td>\n",
       "      <td>93180.292250425613</td>\n",
       "      <td>200664795.51708984</td>\n",
       "      <td>MULTIPOLYGON (((-86.77914 36.13424, -86.77923 ...</td>\n",
       "    </tr>\n",
       "    <tr>\n",
       "      <th>3</th>\n",
       "      <td>37027</td>\n",
       "      <td>11</td>\n",
       "      <td>BRENTWOOD</td>\n",
       "      <td>159760.6942933173</td>\n",
       "      <td>174978422.04101562</td>\n",
       "      <td>MULTIPOLYGON (((-86.81258 36.06319, -86.81263 ...</td>\n",
       "    </tr>\n",
       "    <tr>\n",
       "      <th>4</th>\n",
       "      <td>37064</td>\n",
       "      <td>18</td>\n",
       "      <td>FRANKLIN</td>\n",
       "      <td>28995.828320601937</td>\n",
       "      <td>46969608.005737305</td>\n",
       "      <td>MULTIPOLYGON (((-87.02197 36.01200, -87.02140 ...</td>\n",
       "    </tr>\n",
       "  </tbody>\n",
       "</table>\n",
       "</div>"
      ],
      "text/plain": [
       "     zip objectid    po_name      shape_stlength        shape_starea   \n",
       "0  37115        1    MADISON  178783.02488886821  596553400.57885742  \\\n",
       "1  37216        3  NASHVILLE  75820.997821400058  188884682.28344727   \n",
       "2  37204        9  NASHVILLE  93180.292250425613  200664795.51708984   \n",
       "3  37027       11  BRENTWOOD   159760.6942933173  174978422.04101562   \n",
       "4  37064       18   FRANKLIN  28995.828320601937  46969608.005737305   \n",
       "\n",
       "                                            geometry  \n",
       "0  MULTIPOLYGON (((-86.68725 36.31821, -86.68722 ...  \n",
       "1  MULTIPOLYGON (((-86.73451 36.23774, -86.73425 ...  \n",
       "2  MULTIPOLYGON (((-86.77914 36.13424, -86.77923 ...  \n",
       "3  MULTIPOLYGON (((-86.81258 36.06319, -86.81263 ...  \n",
       "4  MULTIPOLYGON (((-87.02197 36.01200, -87.02140 ...  "
      ]
     },
     "execution_count": 2,
     "metadata": {},
     "output_type": "execute_result"
    }
   ],
   "source": [
    "zipcodes = gpd.read_file('../data/zipcodes.geojson')\n",
    "print(zipcodes.crs)\n",
    "zipcodes.head( )"
   ]
  },
  {
   "cell_type": "code",
   "execution_count": 3,
   "id": "dc537295",
   "metadata": {},
   "outputs": [],
   "source": [
    "nashville_parks = gpd.read_file('../data/Metro Parks Boundaries (GIS).geojson')"
   ]
  },
  {
   "cell_type": "code",
   "execution_count": 4,
   "id": "6bc56967",
   "metadata": {},
   "outputs": [
    {
     "name": "stdout",
     "output_type": "stream",
     "text": [
      "              acres                  name year_estab   \n",
      "0             69.86    Harpeth River Park       1988  \\\n",
      "1              9.88    Harpeth Knoll Park       1972   \n",
      "2             17.14         Bellevue Park       1982   \n",
      "3            809.59       Bells Bend Park       2007   \n",
      "4          2168.792  Alvin G. Beaman Park       1996   \n",
      "..              ...                   ...        ...   \n",
      "282    3.7454340524                   NaN       2003   \n",
      "283   1.46849965739                   NaN       2000   \n",
      "284  0.181880190971                   NaN       2003   \n",
      "285   7.30424931138                   NaN       2014   \n",
      "286   6.50392802351                   NaN       2002   \n",
      "\n",
      "                                    common_nam status   \n",
      "0                                Harpeth River   PARK  \\\n",
      "1                                Harpeth Knoll   PARK   \n",
      "2                                  Red Caboose   PARK   \n",
      "3                                   Bells Bend   PARK   \n",
      "4                                       Beaman   PARK   \n",
      "..                                         ...    ...   \n",
      "282  Stones River Greenway - Lebanon Pk to Dam     GW   \n",
      "283          Stones River Greenway - Alta Lake     GW   \n",
      "284  Stones River Greenway - Lebanon Pk to Dam     GW   \n",
      "285              Whites Creek Community Garden   PARK   \n",
      "286    Mill Creek Greenway - Whittimore Branch     GW   \n",
      "\n",
      "                     address           lon          lat   \n",
      "0        7820 Coley Davis Rd   -86.9592214  36.07738249  \\\n",
      "1    708 Goodpasture Terrace  -86.93815537  36.05942777   \n",
      "2       656 Colice Jeanne Rd  -86.93354496  36.07159731   \n",
      "3      4187 Old Hickory Blvd  -86.92646294  36.15016925   \n",
      "4     5911 Old Hickory Blvd.  -86.91984207  36.26075833   \n",
      "..                       ...           ...          ...   \n",
      "282  100 Stewarts Ferry Pkwy             0            0   \n",
      "283             3940 Bell Rd             0            0   \n",
      "284                      NaN             0            0   \n",
      "285   3832 Whites Creek Pike             0            0   \n",
      "286    5824 Nolensville Pike             0            0   \n",
      "\n",
      "                                            descriptio   \n",
      "0    Harpeth River State Park has much historical a...  \\\n",
      "1    Huge grassy field with playground, and shade s...   \n",
      "2    Bellevue Park, known as Red Caboose Park, is p...   \n",
      "3    Located in western Davidson County, this park ...   \n",
      "4    Beaman Park provides education and awareness p...   \n",
      "..                                                 ...   \n",
      "282                                                NaN   \n",
      "283                                                NaN   \n",
      "284                                                NaN   \n",
      "285                                                NaN   \n",
      "286                                                NaN   \n",
      "\n",
      "                                              geometry  \n",
      "0    MULTIPOLYGON (((-86.95547 36.07930, -86.95578 ...  \n",
      "1    MULTIPOLYGON (((-86.93860 36.06077, -86.93742 ...  \n",
      "2    MULTIPOLYGON (((-86.93207 36.06954, -86.93283 ...  \n",
      "3    MULTIPOLYGON (((-86.93987 36.16093, -86.93495 ...  \n",
      "4    MULTIPOLYGON (((-86.90367 36.27352, -86.90364 ...  \n",
      "..                                                 ...  \n",
      "282  MULTIPOLYGON (((-86.62732 36.16291, -86.62669 ...  \n",
      "283  MULTIPOLYGON (((-86.60819 36.16592, -86.60817 ...  \n",
      "284  MULTIPOLYGON (((-86.64052 36.17177, -86.64067 ...  \n",
      "285  MULTIPOLYGON (((-86.82873 36.25082, -86.82857 ...  \n",
      "286  MULTIPOLYGON (((-86.71266 36.04247, -86.71235 ...  \n",
      "\n",
      "[287 rows x 10 columns]\n"
     ]
    }
   ],
   "source": [
    "print(nashville_parks)"
   ]
  },
  {
   "cell_type": "code",
   "execution_count": 5,
   "id": "520f2bad",
   "metadata": {},
   "outputs": [
    {
     "data": {
      "text/html": [
       "<div>\n",
       "<style scoped>\n",
       "    .dataframe tbody tr th:only-of-type {\n",
       "        vertical-align: middle;\n",
       "    }\n",
       "\n",
       "    .dataframe tbody tr th {\n",
       "        vertical-align: top;\n",
       "    }\n",
       "\n",
       "    .dataframe thead th {\n",
       "        text-align: right;\n",
       "    }\n",
       "</style>\n",
       "<table border=\"1\" class=\"dataframe\">\n",
       "  <thead>\n",
       "    <tr style=\"text-align: right;\">\n",
       "      <th></th>\n",
       "      <th>acres</th>\n",
       "      <th>name</th>\n",
       "      <th>year_estab</th>\n",
       "      <th>common_nam</th>\n",
       "      <th>status</th>\n",
       "      <th>address</th>\n",
       "      <th>lon</th>\n",
       "      <th>lat</th>\n",
       "      <th>descriptio</th>\n",
       "      <th>geometry</th>\n",
       "    </tr>\n",
       "  </thead>\n",
       "  <tbody>\n",
       "    <tr>\n",
       "      <th>0</th>\n",
       "      <td>69.86</td>\n",
       "      <td>Harpeth River Park</td>\n",
       "      <td>1988</td>\n",
       "      <td>Harpeth River</td>\n",
       "      <td>PARK</td>\n",
       "      <td>7820 Coley Davis Rd</td>\n",
       "      <td>-86.9592214</td>\n",
       "      <td>36.07738249</td>\n",
       "      <td>Harpeth River State Park has much historical a...</td>\n",
       "      <td>POINT (-86.95922 36.07738)</td>\n",
       "    </tr>\n",
       "    <tr>\n",
       "      <th>1</th>\n",
       "      <td>9.88</td>\n",
       "      <td>Harpeth Knoll Park</td>\n",
       "      <td>1972</td>\n",
       "      <td>Harpeth Knoll</td>\n",
       "      <td>PARK</td>\n",
       "      <td>708 Goodpasture Terrace</td>\n",
       "      <td>-86.93815537</td>\n",
       "      <td>36.05942777</td>\n",
       "      <td>Huge grassy field with playground, and shade s...</td>\n",
       "      <td>POINT (-86.93816 36.05943)</td>\n",
       "    </tr>\n",
       "    <tr>\n",
       "      <th>2</th>\n",
       "      <td>17.14</td>\n",
       "      <td>Bellevue Park</td>\n",
       "      <td>1982</td>\n",
       "      <td>Red Caboose</td>\n",
       "      <td>PARK</td>\n",
       "      <td>656 Colice Jeanne Rd</td>\n",
       "      <td>-86.93354496</td>\n",
       "      <td>36.07159731</td>\n",
       "      <td>Bellevue Park, known as Red Caboose Park, is p...</td>\n",
       "      <td>POINT (-86.93354 36.07160)</td>\n",
       "    </tr>\n",
       "    <tr>\n",
       "      <th>3</th>\n",
       "      <td>809.59</td>\n",
       "      <td>Bells Bend Park</td>\n",
       "      <td>2007</td>\n",
       "      <td>Bells Bend</td>\n",
       "      <td>PARK</td>\n",
       "      <td>4187 Old Hickory Blvd</td>\n",
       "      <td>-86.92646294</td>\n",
       "      <td>36.15016925</td>\n",
       "      <td>Located in western Davidson County, this park ...</td>\n",
       "      <td>POINT (-86.92646 36.15017)</td>\n",
       "    </tr>\n",
       "    <tr>\n",
       "      <th>4</th>\n",
       "      <td>2168.792</td>\n",
       "      <td>Alvin G. Beaman Park</td>\n",
       "      <td>1996</td>\n",
       "      <td>Beaman</td>\n",
       "      <td>PARK</td>\n",
       "      <td>5911 Old Hickory Blvd.</td>\n",
       "      <td>-86.91984207</td>\n",
       "      <td>36.26075833</td>\n",
       "      <td>Beaman Park provides education and awareness p...</td>\n",
       "      <td>POINT (-86.91984 36.26076)</td>\n",
       "    </tr>\n",
       "  </tbody>\n",
       "</table>\n",
       "</div>"
      ],
      "text/plain": [
       "      acres                  name year_estab     common_nam status   \n",
       "0     69.86    Harpeth River Park       1988  Harpeth River   PARK  \\\n",
       "1      9.88    Harpeth Knoll Park       1972  Harpeth Knoll   PARK   \n",
       "2     17.14         Bellevue Park       1982    Red Caboose   PARK   \n",
       "3    809.59       Bells Bend Park       2007     Bells Bend   PARK   \n",
       "4  2168.792  Alvin G. Beaman Park       1996         Beaman   PARK   \n",
       "\n",
       "                   address           lon          lat   \n",
       "0      7820 Coley Davis Rd   -86.9592214  36.07738249  \\\n",
       "1  708 Goodpasture Terrace  -86.93815537  36.05942777   \n",
       "2     656 Colice Jeanne Rd  -86.93354496  36.07159731   \n",
       "3    4187 Old Hickory Blvd  -86.92646294  36.15016925   \n",
       "4   5911 Old Hickory Blvd.  -86.91984207  36.26075833   \n",
       "\n",
       "                                          descriptio   \n",
       "0  Harpeth River State Park has much historical a...  \\\n",
       "1  Huge grassy field with playground, and shade s...   \n",
       "2  Bellevue Park, known as Red Caboose Park, is p...   \n",
       "3  Located in western Davidson County, this park ...   \n",
       "4  Beaman Park provides education and awareness p...   \n",
       "\n",
       "                     geometry  \n",
       "0  POINT (-86.95922 36.07738)  \n",
       "1  POINT (-86.93816 36.05943)  \n",
       "2  POINT (-86.93354 36.07160)  \n",
       "3  POINT (-86.92646 36.15017)  \n",
       "4  POINT (-86.91984 36.26076)  "
      ]
     },
     "execution_count": 5,
     "metadata": {},
     "output_type": "execute_result"
    }
   ],
   "source": [
    "nashville_parks['geometry'] = nashville_parks.apply(lambda x: Point((x.lon, \n",
    "                                                         x.lat)), \n",
    "                                        axis=1)\n",
    "nashville_parks.head(5)"
   ]
  },
  {
   "cell_type": "code",
   "execution_count": 6,
   "id": "a6f180b7",
   "metadata": {},
   "outputs": [
    {
     "data": {
      "text/plain": [
       "<Geographic 2D CRS: EPSG:4326>\n",
       "Name: WGS 84\n",
       "Axis Info [ellipsoidal]:\n",
       "- Lat[north]: Geodetic latitude (degree)\n",
       "- Lon[east]: Geodetic longitude (degree)\n",
       "Area of Use:\n",
       "- name: World.\n",
       "- bounds: (-180.0, -90.0, 180.0, 90.0)\n",
       "Datum: World Geodetic System 1984 ensemble\n",
       "- Ellipsoid: WGS 84\n",
       "- Prime Meridian: Greenwich"
      ]
     },
     "execution_count": 6,
     "metadata": {},
     "output_type": "execute_result"
    }
   ],
   "source": [
    "zipcodes.crs"
   ]
  },
  {
   "cell_type": "code",
   "execution_count": 7,
   "id": "e1bfde23",
   "metadata": {},
   "outputs": [],
   "source": [
    "park_geo = gpd.GeoDataFrame(nashville_parks, \n",
    "                           crs = zipcodes.crs, \n",
    "                           geometry = nashville_parks['geometry'])"
   ]
  },
  {
   "cell_type": "code",
   "execution_count": 8,
   "id": "d77fd08b",
   "metadata": {},
   "outputs": [
    {
     "name": "stdout",
     "output_type": "stream",
     "text": [
      "<class 'geopandas.geodataframe.GeoDataFrame'>\n"
     ]
    }
   ],
   "source": [
    "print(type(park_geo))"
   ]
  },
  {
   "cell_type": "code",
   "execution_count": 9,
   "id": "11ee5508",
   "metadata": {},
   "outputs": [],
   "source": [
    "zipcodes = zipcodes[['zip', 'po_name', 'geometry']]"
   ]
  },
  {
   "cell_type": "code",
   "execution_count": 10,
   "id": "8aa61c98",
   "metadata": {},
   "outputs": [
    {
     "name": "stderr",
     "output_type": "stream",
     "text": [
      "C:\\Users\\scost\\anaconda3\\envs\\geospatial\\lib\\site-packages\\IPython\\core\\interactiveshell.py:3445: FutureWarning: The `op` parameter is deprecated and will be removed in a future release. Please use the `predicate` parameter instead.\n",
      "  if await self.run_code(code, result, async_=asy):\n"
     ]
    }
   ],
   "source": [
    "parks_by_zip = gpd.sjoin(park_geo, zipcodes, op = 'within')"
   ]
  },
  {
   "cell_type": "code",
   "execution_count": 11,
   "id": "b95988f4",
   "metadata": {},
   "outputs": [
    {
     "name": "stdout",
     "output_type": "stream",
     "text": [
      "      acres                         name year_estab        common_nam status   \n",
      "0     69.86           Harpeth River Park       1988     Harpeth River   PARK  \\\n",
      "1      9.88           Harpeth Knoll Park       1972     Harpeth Knoll   PARK   \n",
      "2     17.14                Bellevue Park       1982       Red Caboose   PARK   \n",
      "5   1113.12            Edwin Warner Park       1937      Edwin Warner   PARK   \n",
      "7   1991.56            Percy Warner Park       1926      Percy Warner   PARK   \n",
      "3    809.59              Bells Bend Park       2007        Bells Bend   PARK   \n",
      "11    12.26         Bordeaux Garden Park       1964   Bordeaux Garden   PARK   \n",
      "16     54.2      Richard W. Hartman Park       1964           Hartman   PARK   \n",
      "22    34.85    Joseph Brown Mullins Park       2012           Mullins   PARK   \n",
      "25    16.81  Bordeaux-Timothy Drive Park       1980  Bordeaux-Timothy   PARK   \n",
      "\n",
      "                       address           lon          lat   \n",
      "0          7820 Coley Davis Rd   -86.9592214  36.07738249  \\\n",
      "1      708 Goodpasture Terrace  -86.93815537  36.05942777   \n",
      "2         656 Colice Jeanne Rd  -86.93354496  36.07159731   \n",
      "5                 50 Vaughn Rd   -86.9074396  36.05688279   \n",
      "7                  7311 Hwy100  -86.88419854  36.06729215   \n",
      "3        4187 Old Hickory Blvd  -86.92646294  36.15016925   \n",
      "11  Snell Blvd, at Panorama Dr  -86.83914775  36.17850183   \n",
      "16              2801 Tucker Rd  -86.82746781  36.20874602   \n",
      "22        4297 Drake Wood Lane  -86.85206132  36.20718337   \n",
      "25             4100 Timothy Dr  -86.84350613  36.21440194   \n",
      "\n",
      "                                           descriptio   \n",
      "0   Harpeth River State Park has much historical a...  \\\n",
      "1   Huge grassy field with playground, and shade s...   \n",
      "2   Bellevue Park, known as Red Caboose Park, is p...   \n",
      "5   Edwin Warner Park is a great, multi-recreation...   \n",
      "7   Percy Warner Park is 2684 acres of forest and ...   \n",
      "3   Located in western Davidson County, this park ...   \n",
      "11  Bordeaux Gardens Park is a multi-facility area...   \n",
      "16  Located next to the Hartman Community Center, ...   \n",
      "22                      Picnic Shelter, Walking Trail   \n",
      "25  Bordeaux Timothy Park is a wonderful neighborh...   \n",
      "\n",
      "                      geometry  index_right    zip    po_name  \n",
      "0   POINT (-86.95922 36.07738)            7  37221  NASHVILLE  \n",
      "1   POINT (-86.93816 36.05943)            7  37221  NASHVILLE  \n",
      "2   POINT (-86.93354 36.07160)            7  37221  NASHVILLE  \n",
      "5   POINT (-86.90744 36.05688)            7  37221  NASHVILLE  \n",
      "7   POINT (-86.88420 36.06729)            7  37221  NASHVILLE  \n",
      "3   POINT (-86.92646 36.15017)           27  37218  NASHVILLE  \n",
      "11  POINT (-86.83915 36.17850)           27  37218  NASHVILLE  \n",
      "16  POINT (-86.82747 36.20875)           27  37218  NASHVILLE  \n",
      "22  POINT (-86.85206 36.20718)           27  37218  NASHVILLE  \n",
      "25  POINT (-86.84351 36.21440)           27  37218  NASHVILLE  \n"
     ]
    }
   ],
   "source": [
    "print(parks_by_zip.head(10))"
   ]
  },
  {
   "cell_type": "code",
   "execution_count": 18,
   "id": "48255dda",
   "metadata": {},
   "outputs": [],
   "source": [
    "new_parks_by_zip = parks_by_zip.drop(['lon', 'lat', 'descriptio'], axis=1)"
   ]
  },
  {
   "cell_type": "code",
   "execution_count": 20,
   "id": "bc164ca0",
   "metadata": {},
   "outputs": [
    {
     "name": "stdout",
     "output_type": "stream",
     "text": [
      "        acres                              name year_estab        common_nam   \n",
      "0       69.86                Harpeth River Park       1988     Harpeth River  \\\n",
      "1        9.88                Harpeth Knoll Park       1972     Harpeth Knoll   \n",
      "2       17.14                     Bellevue Park       1982       Red Caboose   \n",
      "5     1113.12                 Edwin Warner Park       1937      Edwin Warner   \n",
      "7     1991.56                 Percy Warner Park       1926      Percy Warner   \n",
      "3      809.59                   Bells Bend Park       2007        Bells Bend   \n",
      "11      12.26              Bordeaux Garden Park       1964   Bordeaux Garden   \n",
      "16       54.2           Richard W. Hartman Park       1964           Hartman   \n",
      "22      34.85         Joseph Brown Mullins Park       2012           Mullins   \n",
      "25      16.81       Bordeaux-Timothy Drive Park       1980  Bordeaux-Timothy   \n",
      "109     19.78                     City Cemetery       1963     City Cemetery   \n",
      "121         5                   County Cemetery       1976   County Cemetery   \n",
      "4    2168.792              Alvin G. Beaman Park       1996            Beaman   \n",
      "9       18.38                      Joelton Park       1989           Joelton   \n",
      "14      98.41               Paradise Ridge Park       2013    Paradise Ridge   \n",
      "6        8.53                   H. G. Hill Park       2012        H. G. Hill   \n",
      "8       25.24                    Charlotte Park       1964         Charlotte   \n",
      "10      33.45                         West Park       1952              West   \n",
      "13      11.28  R. H. Boyd - Preston Taylor Park       1947      Boyd -Taylor   \n",
      "18      11.25                           England       2014           England   \n",
      "19       30.7                       Hadley Park       1912            Hadley   \n",
      "23     208.98                       McCabe Park       1938            McCabe   \n",
      "24       9.98                     Richland Park       1907          Richland   \n",
      "28        1.5                    McKissack Park       1969         McKissack   \n",
      "12       3.24                     Woodmont Park       1988          Woodmont   \n",
      "\n",
      "    status                         address                    geometry   \n",
      "0     PARK             7820 Coley Davis Rd  POINT (-86.95922 36.07738)  \\\n",
      "1     PARK         708 Goodpasture Terrace  POINT (-86.93816 36.05943)   \n",
      "2     PARK            656 Colice Jeanne Rd  POINT (-86.93354 36.07160)   \n",
      "5     PARK                    50 Vaughn Rd  POINT (-86.90744 36.05688)   \n",
      "7     PARK                     7311 Hwy100  POINT (-86.88420 36.06729)   \n",
      "3     PARK           4187 Old Hickory Blvd  POINT (-86.92646 36.15017)   \n",
      "11    PARK      Snell Blvd, at Panorama Dr  POINT (-86.83915 36.17850)   \n",
      "16    PARK                  2801 Tucker Rd  POINT (-86.82747 36.20875)   \n",
      "22    PARK            4297 Drake Wood Lane  POINT (-86.85206 36.20718)   \n",
      "25    PARK                 4100 Timothy Dr  POINT (-86.84351 36.21440)   \n",
      "109   PARK                  401 Oak Street  POINT (-86.85325 36.18239)   \n",
      "121   PARK       1398 County Hospital Road  POINT (-86.85325 36.18239)   \n",
      "4     PARK          5911 Old Hickory Blvd.  POINT (-86.91984 36.26076)   \n",
      "9     PARK  21 Joelton Community Center Rd  POINT (-86.87022 36.31718)   \n",
      "14    PARK                  3000 Morgan Rd  POINT (-86.86116 36.34344)   \n",
      "6     PARK             6710 Charlotte Pike  POINT (-86.88757 36.13620)   \n",
      "8     PARK                   6031 Deal Ave  POINT (-86.87071 36.15454)   \n",
      "10    PARK                6105 Morrow Road  POINT (-86.86422 36.16150)   \n",
      "13    PARK                3900 Clifton Ave  POINT (-86.83257 36.15925)   \n",
      "18    PARK                   811 Delray Dr  POINT (-86.85505 36.15638)   \n",
      "19    PARK             1037 28th Ave North  POINT (-86.82243 36.16553)   \n",
      "23    PARK                  4601 Murphy Rd  POINT (-86.84705 36.13922)   \n",
      "24    PARK             4601 Charlotte Pike  POINT (-86.84464 36.15153)   \n",
      "28    PARK         28th Ave and Torbett St  POINT (-86.81796 36.15774)   \n",
      "12    PARK                    912 Estes Rd  POINT (-86.83532 36.11866)   \n",
      "\n",
      "     index_right    zip    po_name  \n",
      "0              7  37221  NASHVILLE  \n",
      "1              7  37221  NASHVILLE  \n",
      "2              7  37221  NASHVILLE  \n",
      "5              7  37221  NASHVILLE  \n",
      "7              7  37221  NASHVILLE  \n",
      "3             27  37218  NASHVILLE  \n",
      "11            27  37218  NASHVILLE  \n",
      "16            27  37218  NASHVILLE  \n",
      "22            27  37218  NASHVILLE  \n",
      "25            27  37218  NASHVILLE  \n",
      "109           27  37218  NASHVILLE  \n",
      "121           27  37218  NASHVILLE  \n",
      "4             20  37080    JOELTON  \n",
      "9             20  37080    JOELTON  \n",
      "14            20  37080    JOELTON  \n",
      "6             12  37209  NASHVILLE  \n",
      "8             12  37209  NASHVILLE  \n",
      "10            12  37209  NASHVILLE  \n",
      "13            12  37209  NASHVILLE  \n",
      "18            12  37209  NASHVILLE  \n",
      "19            12  37209  NASHVILLE  \n",
      "23            12  37209  NASHVILLE  \n",
      "24            12  37209  NASHVILLE  \n",
      "28            12  37209  NASHVILLE  \n",
      "12            44  37215  NASHVILLE  \n"
     ]
    }
   ],
   "source": [
    "print(new_parks_by_zip.head(25))"
   ]
  },
  {
   "cell_type": "code",
   "execution_count": 23,
   "id": "081df200",
   "metadata": {},
   "outputs": [
    {
     "data": {
      "text/plain": [
       "(14, 10)"
      ]
     },
     "execution_count": 23,
     "metadata": {},
     "output_type": "execute_result"
    }
   ],
   "source": [
    "parks_in_nash = new_parks_by_zip.loc[(new_parks_by_zip['zip'] == '37221') | (new_parks_by_zip['zip'] == '37209')]\n",
    "parks_in_nash.shape"
   ]
  },
  {
   "cell_type": "code",
   "execution_count": 26,
   "id": "b470cfd4",
   "metadata": {},
   "outputs": [
    {
     "data": {
      "text/plain": [
       "(2, 3)"
      ]
     },
     "execution_count": 26,
     "metadata": {},
     "output_type": "execute_result"
    }
   ],
   "source": [
    "polygon_nash = zipcodes.loc[(zipcodes['zip'] == '37221') | (zipcodes['zip'] == '37209')]\n",
    "polygon_nash.shape"
   ]
  },
  {
   "cell_type": "code",
   "execution_count": 28,
   "id": "46f11134",
   "metadata": {},
   "outputs": [
    {
     "data": {
      "image/png": "[encoded data removed]",
      "text/plain": [
       "<Figure size 600x800 with 1 Axes>"
      ]
     },
     "metadata": {},
     "output_type": "display_data"
    }
   ],
   "source": [
    "ax = polygon_nash.plot(figsize = (6, 8), color = 'magenta')\n",
    "parks_in_nash.plot( ax = ax, column = 'common_nam');\n",
    "plt.show();"
   ]
  },
  {
   "cell_type": "code",
   "execution_count": 29,
   "id": "0b690336",
   "metadata": {},
   "outputs": [
    {
     "name": "stderr",
     "output_type": "stream",
     "text": [
      "C:\\Users\\scost\\AppData\\Local\\Temp\\ipykernel_20592\\2882727082.py:1: UserWarning: Geometry is in a geographic CRS. Results from 'centroid' are likely incorrect. Use 'GeoSeries.to_crs()' to re-project geometries to a projected CRS before this operation.\n",
      "\n",
      "  polygon_nash.geometry.centroid\n"
     ]
    },
    {
     "data": {
      "text/plain": [
       "7     POINT (-86.97531 36.06283)\n",
       "12    POINT (-86.91816 36.15605)\n",
       "dtype: geometry"
      ]
     },
     "execution_count": 29,
     "metadata": {},
     "output_type": "execute_result"
    }
   ],
   "source": [
    "polygon_nash.geometry.centroid"
   ]
  },
  {
   "cell_type": "code",
   "execution_count": 31,
   "id": "cee250a4",
   "metadata": {},
   "outputs": [
    {
     "name": "stdout",
     "output_type": "stream",
     "text": [
      "POINT (-86.91816342256455 36.15604558838379)\n"
     ]
    },
    {
     "name": "stderr",
     "output_type": "stream",
     "text": [
      "C:\\Users\\scost\\AppData\\Local\\Temp\\ipykernel_20592\\1900295457.py:1: UserWarning: Geometry is in a geographic CRS. Results from 'centroid' are likely incorrect. Use 'GeoSeries.to_crs()' to re-project geometries to a projected CRS before this operation.\n",
      "\n",
      "  center = polygon_nash.geometry.centroid[12]\n"
     ]
    }
   ],
   "source": [
    "center = polygon_nash.geometry.centroid[12]\n",
    "print(center)"
   ]
  },
  {
   "cell_type": "code",
   "execution_count": 32,
   "id": "16b01d80",
   "metadata": {},
   "outputs": [
    {
     "name": "stdout",
     "output_type": "stream",
     "text": [
      "[36.15604558838379, -86.91816342256455]\n"
     ]
    }
   ],
   "source": [
    "area_center = [center.y, center.x]\n",
    "print(area_center)"
   ]
  },
  {
   "cell_type": "code",
   "execution_count": null,
   "id": "c34e9a78",
   "metadata": {},
   "outputs": [],
   "source": []
  }
 ],
 "metadata": {
  "kernelspec": {
   "display_name": "Python 3 (ipykernel)",
   "language": "python",
   "name": "python3"
  },
  "language_info": {
   "codemirror_mode": {
    "name": "ipython",
    "version": 3
   },
   "file_extension": ".py",
   "mimetype": "text/x-python",
   "name": "python",
   "nbconvert_exporter": "python",
   "pygments_lexer": "ipython3",
   "version": "3.10.10"
  }
 },
 "nbformat": 4,
 "nbformat_minor": 5
}
