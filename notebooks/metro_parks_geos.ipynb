{
 "cells": [
  {
   "cell_type": "code",
   "execution_count": 1,
   "id": "977b0c43",
   "metadata": {},
   "outputs": [],
   "source": [
    "from shapely.geometry import Point\n",
    "import pandas as pd\n",
    "import geopandas as gpd\n",
    "import matplotlib.pyplot as plt\n",
    "import folium\n",
    "from folium.plugins import MarkerCluster\n",
    "from folium.plugins import FastMarkerCluster"
   ]
  },
  {
   "cell_type": "code",
   "execution_count": 2,
   "id": "a45112c7",
   "metadata": {
    "scrolled": true
   },
   "outputs": [
    {
     "name": "stdout",
     "output_type": "stream",
     "text": [
      "EPSG:4326\n"
     ]
    },
    {
     "data": {
      "text/html": [
       "<div>\n",
       "<style scoped>\n",
       "    .dataframe tbody tr th:only-of-type {\n",
       "        vertical-align: middle;\n",
       "    }\n",
       "\n",
       "    .dataframe tbody tr th {\n",
       "        vertical-align: top;\n",
       "    }\n",
       "\n",
       "    .dataframe thead th {\n",
       "        text-align: right;\n",
       "    }\n",
       "</style>\n",
       "<table border=\"1\" class=\"dataframe\">\n",
       "  <thead>\n",
       "    <tr style=\"text-align: right;\">\n",
       "      <th></th>\n",
       "      <th>zip</th>\n",
       "      <th>objectid</th>\n",
       "      <th>po_name</th>\n",
       "      <th>shape_stlength</th>\n",
       "      <th>shape_starea</th>\n",
       "      <th>geometry</th>\n",
       "    </tr>\n",
       "  </thead>\n",
       "  <tbody>\n",
       "    <tr>\n",
       "      <th>0</th>\n",
       "      <td>37115</td>\n",
       "      <td>1</td>\n",
       "      <td>MADISON</td>\n",
       "      <td>178783.02488886821</td>\n",
       "      <td>596553400.57885742</td>\n",
       "      <td>MULTIPOLYGON (((-86.68725 36.31821, -86.68722 ...</td>\n",
       "    </tr>\n",
       "    <tr>\n",
       "      <th>1</th>\n",
       "      <td>37216</td>\n",
       "      <td>3</td>\n",
       "      <td>NASHVILLE</td>\n",
       "      <td>75820.997821400058</td>\n",
       "      <td>188884682.28344727</td>\n",
       "      <td>MULTIPOLYGON (((-86.73451 36.23774, -86.73425 ...</td>\n",
       "    </tr>\n",
       "    <tr>\n",
       "      <th>2</th>\n",
       "      <td>37204</td>\n",
       "      <td>9</td>\n",
       "      <td>NASHVILLE</td>\n",
       "      <td>93180.292250425613</td>\n",
       "      <td>200664795.51708984</td>\n",
       "      <td>MULTIPOLYGON (((-86.77914 36.13424, -86.77923 ...</td>\n",
       "    </tr>\n",
       "    <tr>\n",
       "      <th>3</th>\n",
       "      <td>37027</td>\n",
       "      <td>11</td>\n",
       "      <td>BRENTWOOD</td>\n",
       "      <td>159760.6942933173</td>\n",
       "      <td>174978422.04101562</td>\n",
       "      <td>MULTIPOLYGON (((-86.81258 36.06319, -86.81263 ...</td>\n",
       "    </tr>\n",
       "    <tr>\n",
       "      <th>4</th>\n",
       "      <td>37064</td>\n",
       "      <td>18</td>\n",
       "      <td>FRANKLIN</td>\n",
       "      <td>28995.828320601937</td>\n",
       "      <td>46969608.005737305</td>\n",
       "      <td>MULTIPOLYGON (((-87.02197 36.01200, -87.02140 ...</td>\n",
       "    </tr>\n",
       "  </tbody>\n",
       "</table>\n",
       "</div>"
      ],
      "text/plain": [
       "     zip objectid    po_name      shape_stlength        shape_starea   \n",
       "0  37115        1    MADISON  178783.02488886821  596553400.57885742  \\\n",
       "1  37216        3  NASHVILLE  75820.997821400058  188884682.28344727   \n",
       "2  37204        9  NASHVILLE  93180.292250425613  200664795.51708984   \n",
       "3  37027       11  BRENTWOOD   159760.6942933173  174978422.04101562   \n",
       "4  37064       18   FRANKLIN  28995.828320601937  46969608.005737305   \n",
       "\n",
       "                                            geometry  \n",
       "0  MULTIPOLYGON (((-86.68725 36.31821, -86.68722 ...  \n",
       "1  MULTIPOLYGON (((-86.73451 36.23774, -86.73425 ...  \n",
       "2  MULTIPOLYGON (((-86.77914 36.13424, -86.77923 ...  \n",
       "3  MULTIPOLYGON (((-86.81258 36.06319, -86.81263 ...  \n",
       "4  MULTIPOLYGON (((-87.02197 36.01200, -87.02140 ...  "
      ]
     },
     "execution_count": 2,
     "metadata": {},
     "output_type": "execute_result"
    }
   ],
   "source": [
    "zipcodes = gpd.read_file('../data/zipcodes.geojson')\n",
    "print(zipcodes.crs)\n",
    "zipcodes.head( )"
   ]
  },
  {
   "cell_type": "code",
   "execution_count": 7,
   "id": "ea0fb25a",
   "metadata": {},
   "outputs": [],
   "source": [
    "water_fountains = gpd.read_file('../data/Metro Parks Boundaries (GIS).geojson')"
   ]
  },
  {
   "cell_type": "code",
   "execution_count": 8,
   "id": "a27faeea",
   "metadata": {},
   "outputs": [
    {
     "name": "stdout",
     "output_type": "stream",
     "text": [
      "              acres                  name year_estab   \n",
      "0             69.86    Harpeth River Park       1988  \\\n",
      "1              9.88    Harpeth Knoll Park       1972   \n",
      "2             17.14         Bellevue Park       1982   \n",
      "3            809.59       Bells Bend Park       2007   \n",
      "4          2168.792  Alvin G. Beaman Park       1996   \n",
      "..              ...                   ...        ...   \n",
      "282    3.7454340524                   NaN       2003   \n",
      "283   1.46849965739                   NaN       2000   \n",
      "284  0.181880190971                   NaN       2003   \n",
      "285   7.30424931138                   NaN       2014   \n",
      "286   6.50392802351                   NaN       2002   \n",
      "\n",
      "                                    common_nam status   \n",
      "0                                Harpeth River   PARK  \\\n",
      "1                                Harpeth Knoll   PARK   \n",
      "2                                  Red Caboose   PARK   \n",
      "3                                   Bells Bend   PARK   \n",
      "4                                       Beaman   PARK   \n",
      "..                                         ...    ...   \n",
      "282  Stones River Greenway - Lebanon Pk to Dam     GW   \n",
      "283          Stones River Greenway - Alta Lake     GW   \n",
      "284  Stones River Greenway - Lebanon Pk to Dam     GW   \n",
      "285              Whites Creek Community Garden   PARK   \n",
      "286    Mill Creek Greenway - Whittimore Branch     GW   \n",
      "\n",
      "                     address           lon          lat   \n",
      "0        7820 Coley Davis Rd   -86.9592214  36.07738249  \\\n",
      "1    708 Goodpasture Terrace  -86.93815537  36.05942777   \n",
      "2       656 Colice Jeanne Rd  -86.93354496  36.07159731   \n",
      "3      4187 Old Hickory Blvd  -86.92646294  36.15016925   \n",
      "4     5911 Old Hickory Blvd.  -86.91984207  36.26075833   \n",
      "..                       ...           ...          ...   \n",
      "282  100 Stewarts Ferry Pkwy             0            0   \n",
      "283             3940 Bell Rd             0            0   \n",
      "284                      NaN             0            0   \n",
      "285   3832 Whites Creek Pike             0            0   \n",
      "286    5824 Nolensville Pike             0            0   \n",
      "\n",
      "                                            descriptio   \n",
      "0    Harpeth River State Park has much historical a...  \\\n",
      "1    Huge grassy field with playground, and shade s...   \n",
      "2    Bellevue Park, known as Red Caboose Park, is p...   \n",
      "3    Located in western Davidson County, this park ...   \n",
      "4    Beaman Park provides education and awareness p...   \n",
      "..                                                 ...   \n",
      "282                                                NaN   \n",
      "283                                                NaN   \n",
      "284                                                NaN   \n",
      "285                                                NaN   \n",
      "286                                                NaN   \n",
      "\n",
      "                                              geometry  \n",
      "0    MULTIPOLYGON (((-86.95547 36.07930, -86.95578 ...  \n",
      "1    MULTIPOLYGON (((-86.93860 36.06077, -86.93742 ...  \n",
      "2    MULTIPOLYGON (((-86.93207 36.06954, -86.93283 ...  \n",
      "3    MULTIPOLYGON (((-86.93987 36.16093, -86.93495 ...  \n",
      "4    MULTIPOLYGON (((-86.90367 36.27352, -86.90364 ...  \n",
      "..                                                 ...  \n",
      "282  MULTIPOLYGON (((-86.62732 36.16291, -86.62669 ...  \n",
      "283  MULTIPOLYGON (((-86.60819 36.16592, -86.60817 ...  \n",
      "284  MULTIPOLYGON (((-86.64052 36.17177, -86.64067 ...  \n",
      "285  MULTIPOLYGON (((-86.82873 36.25082, -86.82857 ...  \n",
      "286  MULTIPOLYGON (((-86.71266 36.04247, -86.71235 ...  \n",
      "\n",
      "[287 rows x 10 columns]\n"
     ]
    }
   ],
   "source": [
    "print(water_fountains)"
   ]
  },
  {
   "cell_type": "code",
   "execution_count": null,
   "id": "f483a9a0",
   "metadata": {},
   "outputs": [],
   "source": []
  }
 ],
 "metadata": {
  "kernelspec": {
   "display_name": "Python 3 (ipykernel)",
   "language": "python",
   "name": "python3"
  },
  "language_info": {
   "codemirror_mode": {
    "name": "ipython",
    "version": 3
   },
   "file_extension": ".py",
   "mimetype": "text/x-python",
   "name": "python",
   "nbconvert_exporter": "python",
   "pygments_lexer": "ipython3",
   "version": "3.10.10"
  }
 },
 "nbformat": 4,
 "nbformat_minor": 5
}
